{
 "cells": [
  {
   "cell_type": "code",
   "execution_count": 1,
   "metadata": {
    "collapsed": false
   },
   "outputs": [],
   "source": [
    "%matplotlib inline\n",
    "from datavyz import ge"
   ]
  },
  {
   "cell_type": "markdown",
   "metadata": {
    "collapsed": false
   },
   "source": [
    "Need to be in parent directory (e.g. cd ..)"
   ]
  },
  {
   "cell_type": "markdown",
   "metadata": {
    "collapsed": false
   },
   "source": [
    "# Calibration of model parameters based on our recordings"
   ]
  },
  {
   "cell_type": "code",
   "execution_count": 5,
   "metadata": {
    "collapsed": false
   },
   "outputs": [],
   "source": [
    "### Running scans over grids for model parameters\n",
    "from model import Model # the grid bounds are stored in the model file\n",
    "\n",
    "import numpy as np\n",
    "import os\n",
    "from analyz.workflow.batch_run import GridSimulation, bash_script\n",
    "\n",
    "## EXTRA-STIMULATION & NMDA PROPS\n",
    "GRID = {'tauDecayNMDA': np.linspace(Model['tauDecayNMDA_min'], Model['tauDecayNMDA_max'], Model['N_tauDecayNMDA']),\n",
    "        'Nsyn1':np.linspace(Model['Nsyn1_min'], Model['Nsyn1_max'], Model['N_Nsyn1'], dtype=int),\n",
    "        'Nsyn2':np.linspace(Model['Nsyn2_min'], Model['Nsyn2_max'], Model['N_Nsyn2'], dtype=int),\n",
    "        'Tnsyn20Hz':np.linspace(Model['Tnsyn20Hz_min'],Model['Tnsyn20Hz_max'],Model['N_Tnsyn20Hz']),\n",
    "        'Tnsyn3Hz':np.linspace(Model['Tnsyn3Hz_min'],Model['Tnsyn3Hz_max'],Model['N_Tnsyn3Hz'])}\n",
    "\n",
    "np.savez(os.path.join('data', 'calib', 'chelated-zinc-calib-grid.npz'), **GRID)\n",
    "# Making a bash script to run a scan on the above grid grid\n",
    "sim = GridSimulation(GRID)\n",
    "bs = bash_script('calib-chelated-zinc')\n",
    "bs.script = sim.build_script('python calibration_runs.py chelated-zinc-calib',\n",
    "                             base_script=bs.script, simultaneous_runs=3*8)\n",
    "bs.write(folder='./bash/')"
   ]
  },
  {
   "cell_type": "markdown",
   "metadata": {
    "collapsed": false
   },
   "source": [
    "## Print output of minization"
   ]
  },
  {
   "cell_type": "code",
   "execution_count": 6,
   "metadata": {
    "collapsed": false
   },
   "outputs": [
    {
     "name": "stdout",
     "output_type": "stream",
     "text": [
      "Nsyn1 7\n",
      "Nsyn2 4\n",
      "Tnsyn20Hz 56.7 ms\n",
      "Tnsyn3Hz 546.7 ms\n",
      "tauDecayNMDA 70.0 ms\n"
     ]
    }
   ],
   "source": [
    "from analyz.IO.npz import load_dict\n",
    "from model import add_value_to_study_data\n",
    "# D = load_dict('./data/best_chelatedZn_config.npz')\n",
    "D = np.load('./data/best_chelatedZn_config.npy', allow_pickle=True).item()\n",
    "\n",
    "for key in ['Nsyn1', 'Nsyn2']:\n",
    "    add_value_to_study_data(key, int(D[key]))\n",
    "    print(key, int(D[key]))\n",
    "for key in ['Tnsyn20Hz', 'Tnsyn3Hz', 'tauDecayNMDA']:\n",
    "    add_value_to_study_data(key, '%.1f ms' % D[key])\n",
    "    print(key, '%.1f ms' % D[key])"
   ]
  },
  {
   "cell_type": "code",
   "execution_count": 10,
   "metadata": {
    "collapsed": false
   },
   "outputs": [
    {
     "ename": "FileNotFoundError",
     "evalue": "[Errno 2] No such file or directory: 'data\\\\calib\\\\exp_data_for_calibration.npy'",
     "output_type": "error",
     "traceback": [
      "\u001b[1;31m---------------------------------------------------------------------------\u001b[0m",
      "\u001b[1;31mFileNotFoundError\u001b[0m                         Traceback (most recent call last)",
      "\u001b[1;32m<ipython-input-10-d85818b8fd42>\u001b[0m in \u001b[0;36m<module>\u001b[1;34m\u001b[0m\n\u001b[0;32m      5\u001b[0m \u001b[1;32mimport\u001b[0m \u001b[0mos\u001b[0m\u001b[1;33m\u001b[0m\u001b[1;33m\u001b[0m\u001b[0m\n\u001b[0;32m      6\u001b[0m \u001b[1;33m\u001b[0m\u001b[0m\n\u001b[1;32m----> 7\u001b[1;33m \u001b[0mcalib_data\u001b[0m \u001b[1;33m=\u001b[0m \u001b[0mnp\u001b[0m\u001b[1;33m.\u001b[0m\u001b[0mload\u001b[0m\u001b[1;33m(\u001b[0m\u001b[0mos\u001b[0m\u001b[1;33m.\u001b[0m\u001b[0mpath\u001b[0m\u001b[1;33m.\u001b[0m\u001b[0mjoin\u001b[0m\u001b[1;33m(\u001b[0m\u001b[1;34m'data'\u001b[0m\u001b[1;33m,\u001b[0m\u001b[1;34m'calib'\u001b[0m\u001b[1;33m,\u001b[0m\u001b[1;34m'exp_data_for_calibration.npy'\u001b[0m\u001b[1;33m)\u001b[0m\u001b[1;33m,\u001b[0m \u001b[0mallow_pickle\u001b[0m\u001b[1;33m=\u001b[0m\u001b[1;32mTrue\u001b[0m\u001b[1;33m)\u001b[0m\u001b[1;33m.\u001b[0m\u001b[0mitem\u001b[0m\u001b[1;33m(\u001b[0m\u001b[1;33m)\u001b[0m\u001b[1;33m\u001b[0m\u001b[1;33m\u001b[0m\u001b[0m\n\u001b[0m\u001b[0;32m      8\u001b[0m \u001b[0mResiduals\u001b[0m \u001b[1;33m=\u001b[0m \u001b[0mnp\u001b[0m\u001b[1;33m.\u001b[0m\u001b[0mload\u001b[0m\u001b[1;33m(\u001b[0m\u001b[0mos\u001b[0m\u001b[1;33m.\u001b[0m\u001b[0mpath\u001b[0m\u001b[1;33m.\u001b[0m\u001b[0mjoin\u001b[0m\u001b[1;33m(\u001b[0m\u001b[1;34m'data'\u001b[0m\u001b[1;33m,\u001b[0m\u001b[1;34m'calib'\u001b[0m\u001b[1;33m,\u001b[0m\u001b[1;34m'chelatedZn-residuals.npy'\u001b[0m\u001b[1;33m)\u001b[0m\u001b[1;33m,\u001b[0m \u001b[0mallow_pickle\u001b[0m\u001b[1;33m=\u001b[0m\u001b[1;32mTrue\u001b[0m\u001b[1;33m)\u001b[0m\u001b[1;33m.\u001b[0m\u001b[0mitem\u001b[0m\u001b[1;33m(\u001b[0m\u001b[1;33m)\u001b[0m\u001b[1;33m\u001b[0m\u001b[1;33m\u001b[0m\u001b[0m\n\u001b[0;32m      9\u001b[0m \u001b[0msim\u001b[0m \u001b[1;33m=\u001b[0m \u001b[0mGridSimulation\u001b[0m\u001b[1;33m(\u001b[0m\u001b[0mnp\u001b[0m\u001b[1;33m.\u001b[0m\u001b[0mload\u001b[0m\u001b[1;33m(\u001b[0m\u001b[0mos\u001b[0m\u001b[1;33m.\u001b[0m\u001b[0mpath\u001b[0m\u001b[1;33m.\u001b[0m\u001b[0mjoin\u001b[0m\u001b[1;33m(\u001b[0m\u001b[1;34m'data'\u001b[0m\u001b[1;33m,\u001b[0m \u001b[1;34m'calib'\u001b[0m\u001b[1;33m,\u001b[0m \u001b[1;34m'chelated-zinc-calib-grid.npy'\u001b[0m\u001b[1;33m)\u001b[0m\u001b[1;33m,\u001b[0m \u001b[0mallow_pickle\u001b[0m\u001b[1;33m=\u001b[0m\u001b[1;32mTrue\u001b[0m\u001b[1;33m)\u001b[0m\u001b[1;33m.\u001b[0m\u001b[0mitem\u001b[0m\u001b[1;33m(\u001b[0m\u001b[1;33m)\u001b[0m\u001b[1;33m)\u001b[0m\u001b[1;33m\u001b[0m\u001b[1;33m\u001b[0m\u001b[0m\n",
      "\u001b[1;32m~\\Anaconda3\\lib\\site-packages\\numpy\\lib\\npyio.py\u001b[0m in \u001b[0;36mload\u001b[1;34m(file, mmap_mode, allow_pickle, fix_imports, encoding)\u001b[0m\n\u001b[0;32m    426\u001b[0m         \u001b[0mown_fid\u001b[0m \u001b[1;33m=\u001b[0m \u001b[1;32mFalse\u001b[0m\u001b[1;33m\u001b[0m\u001b[1;33m\u001b[0m\u001b[0m\n\u001b[0;32m    427\u001b[0m     \u001b[1;32melse\u001b[0m\u001b[1;33m:\u001b[0m\u001b[1;33m\u001b[0m\u001b[1;33m\u001b[0m\u001b[0m\n\u001b[1;32m--> 428\u001b[1;33m         \u001b[0mfid\u001b[0m \u001b[1;33m=\u001b[0m \u001b[0mopen\u001b[0m\u001b[1;33m(\u001b[0m\u001b[0mos_fspath\u001b[0m\u001b[1;33m(\u001b[0m\u001b[0mfile\u001b[0m\u001b[1;33m)\u001b[0m\u001b[1;33m,\u001b[0m \u001b[1;34m\"rb\"\u001b[0m\u001b[1;33m)\u001b[0m\u001b[1;33m\u001b[0m\u001b[1;33m\u001b[0m\u001b[0m\n\u001b[0m\u001b[0;32m    429\u001b[0m         \u001b[0mown_fid\u001b[0m \u001b[1;33m=\u001b[0m \u001b[1;32mTrue\u001b[0m\u001b[1;33m\u001b[0m\u001b[1;33m\u001b[0m\u001b[0m\n\u001b[0;32m    430\u001b[0m \u001b[1;33m\u001b[0m\u001b[0m\n",
      "\u001b[1;31mFileNotFoundError\u001b[0m: [Errno 2] No such file or directory: 'data\\\\calib\\\\exp_data_for_calibration.npy'"
     ]
    }
   ],
   "source": [
    "from calibration_runs import compute_chelated_residual, compute_free_residual\n",
    "from analyz.IO.npz import load_dict\n",
    "from datavyz import ge\n",
    "from analyz.workflow.batch_run import GridSimulation\n",
    "import os\n",
    "\n",
    "calib_data = np.load(os.path.join('data','calib','exp_data_for_calibration.npy'), allow_pickle=True).item()\n",
    "Residuals = np.load(os.path.join('data','calib','chelatedZn-residuals.npy'), allow_pickle=True).item()\n",
    "sim = GridSimulation(np.load(os.path.join('data', 'calib', 'chelated-zinc-calib-grid.npy'), allow_pickle=True).item())\n",
    "D, X, R, COLORS = {}, [], [], []\n",
    "\n",
    "Nplot = 20\n",
    "pResiduals = np.ones(Nplot+1)*np.inf\n",
    "for j, i in enumerate(np.random.choice(np.arange(int(sim.N)), Nplot)):\n",
    "    pResiduals[j] = np.log10(Residuals[j])\n",
    "    sim.update_dict_from_GRID_and_index(i, D)\n",
    "    X.append([D[k] for k in sim.GRID])\n",
    "D = np.load('./data/best_chelatedZn_config.npy', allow_pickle=True).item()\n",
    "X.append([D[k] for k in sim.GRID])\n",
    "pResiduals[-1] = np.min(Residuals)\n",
    "\n",
    "Colors = (pResiduals-pResiduals.min())/(pResiduals.max()-pResiduals.min())\n",
    "fig21, ax = ge.parallel_plot(X,\n",
    "                 SET_OF_LABELS=['  $\\\\tau_{NMDA}^{decay}$(ms)',\n",
    "                                'N$_{syn}^{1}$', 'N$_{syn}^{2}$', \n",
    "                                '$\\\\tau_{Nsyn}^{3Hz}$(ms)  ', '    $\\\\tau_{Nsyn}^{20Hz}$(ms)'],\n",
    "                             COLORS=[ge.viridis_r(c) for c in Colors],lw=2)\n",
    "ge.top_left_letter(ax, 'i', loc=(-0.02,1.))"
   ]
  },
  {
   "cell_type": "markdown",
   "metadata": {
    "collapsed": false
   },
   "source": [
    "We simplify to one time-constant only"
   ]
  },
  {
   "cell_type": "code",
   "execution_count": 25,
   "metadata": {
    "collapsed": false
   },
   "outputs": [
    {
     "ename": "OSError",
     "evalue": "Failed to interpret file 'data\\\\calib\\\\chelatedZn-residuals.npy' as a pickle",
     "output_type": "error",
     "traceback": [
      "\u001b[1;31m---------------------------------------------------------------------------\u001b[0m",
      "\u001b[1;31mUnpicklingError\u001b[0m                           Traceback (most recent call last)",
      "\u001b[1;32m~\\Anaconda3\\lib\\site-packages\\numpy\\lib\\npyio.py\u001b[0m in \u001b[0;36mload\u001b[1;34m(file, mmap_mode, allow_pickle, fix_imports, encoding)\u001b[0m\n\u001b[0;32m    459\u001b[0m             \u001b[1;32mtry\u001b[0m\u001b[1;33m:\u001b[0m\u001b[1;33m\u001b[0m\u001b[1;33m\u001b[0m\u001b[0m\n\u001b[1;32m--> 460\u001b[1;33m                 \u001b[1;32mreturn\u001b[0m \u001b[0mpickle\u001b[0m\u001b[1;33m.\u001b[0m\u001b[0mload\u001b[0m\u001b[1;33m(\u001b[0m\u001b[0mfid\u001b[0m\u001b[1;33m,\u001b[0m \u001b[1;33m**\u001b[0m\u001b[0mpickle_kwargs\u001b[0m\u001b[1;33m)\u001b[0m\u001b[1;33m\u001b[0m\u001b[1;33m\u001b[0m\u001b[0m\n\u001b[0m\u001b[0;32m    461\u001b[0m             \u001b[1;32mexcept\u001b[0m \u001b[0mException\u001b[0m\u001b[1;33m:\u001b[0m\u001b[1;33m\u001b[0m\u001b[1;33m\u001b[0m\u001b[0m\n",
      "\u001b[1;31mUnpicklingError\u001b[0m: invalid load key, '\\x00'.",
      "\nDuring handling of the above exception, another exception occurred:\n",
      "\u001b[1;31mOSError\u001b[0m                                   Traceback (most recent call last)",
      "\u001b[1;32m<ipython-input-25-a782ba36376d>\u001b[0m in \u001b[0;36m<module>\u001b[1;34m\u001b[0m\n\u001b[0;32m      7\u001b[0m \u001b[1;33m\u001b[0m\u001b[0m\n\u001b[0;32m      8\u001b[0m \u001b[0mcalib_data\u001b[0m \u001b[1;33m=\u001b[0m \u001b[0mnp\u001b[0m\u001b[1;33m.\u001b[0m\u001b[0mload\u001b[0m\u001b[1;33m(\u001b[0m\u001b[0mos\u001b[0m\u001b[1;33m.\u001b[0m\u001b[0mpath\u001b[0m\u001b[1;33m.\u001b[0m\u001b[0mjoin\u001b[0m\u001b[1;33m(\u001b[0m\u001b[1;34m'data'\u001b[0m\u001b[1;33m,\u001b[0m \u001b[1;34m'exp_data_for_calibration.npy'\u001b[0m\u001b[1;33m)\u001b[0m\u001b[1;33m,\u001b[0m \u001b[0mallow_pickle\u001b[0m\u001b[1;33m=\u001b[0m\u001b[1;32mTrue\u001b[0m\u001b[1;33m)\u001b[0m\u001b[1;33m.\u001b[0m\u001b[0mitem\u001b[0m\u001b[1;33m(\u001b[0m\u001b[1;33m)\u001b[0m\u001b[1;33m\u001b[0m\u001b[1;33m\u001b[0m\u001b[0m\n\u001b[1;32m----> 9\u001b[1;33m \u001b[0mResiduals\u001b[0m \u001b[1;33m=\u001b[0m \u001b[0mnp\u001b[0m\u001b[1;33m.\u001b[0m\u001b[0mload\u001b[0m\u001b[1;33m(\u001b[0m\u001b[0mos\u001b[0m\u001b[1;33m.\u001b[0m\u001b[0mpath\u001b[0m\u001b[1;33m.\u001b[0m\u001b[0mjoin\u001b[0m\u001b[1;33m(\u001b[0m\u001b[1;34m'data'\u001b[0m\u001b[1;33m,\u001b[0m \u001b[1;34m'calib'\u001b[0m\u001b[1;33m,\u001b[0m \u001b[1;34m'chelatedZn-residuals.npy'\u001b[0m\u001b[1;33m)\u001b[0m\u001b[1;33m,\u001b[0m \u001b[0mallow_pickle\u001b[0m\u001b[1;33m=\u001b[0m\u001b[1;32mTrue\u001b[0m\u001b[1;33m)\u001b[0m\u001b[1;33m.\u001b[0m\u001b[0mitem\u001b[0m\u001b[1;33m(\u001b[0m\u001b[1;33m)\u001b[0m\u001b[1;33m\u001b[0m\u001b[1;33m\u001b[0m\u001b[0m\n\u001b[0m\u001b[0;32m     10\u001b[0m \u001b[1;31m# sim = GridSimulation(os.path.join('data', 'calib', 'chelated-zinc-calib-grid.npy'))\u001b[0m\u001b[1;33m\u001b[0m\u001b[1;33m\u001b[0m\u001b[1;33m\u001b[0m\u001b[0m\n\u001b[0;32m     11\u001b[0m \u001b[0mD\u001b[0m\u001b[1;33m,\u001b[0m \u001b[0mX\u001b[0m\u001b[1;33m,\u001b[0m \u001b[0mR\u001b[0m\u001b[1;33m,\u001b[0m \u001b[0mCOLORS\u001b[0m \u001b[1;33m=\u001b[0m \u001b[1;33m{\u001b[0m\u001b[1;33m}\u001b[0m\u001b[1;33m,\u001b[0m \u001b[1;33m[\u001b[0m\u001b[1;33m]\u001b[0m\u001b[1;33m,\u001b[0m \u001b[1;33m[\u001b[0m\u001b[1;33m]\u001b[0m\u001b[1;33m,\u001b[0m \u001b[1;33m[\u001b[0m\u001b[1;33m]\u001b[0m\u001b[1;33m\u001b[0m\u001b[1;33m\u001b[0m\u001b[0m\n",
      "\u001b[1;32m~\\Anaconda3\\lib\\site-packages\\numpy\\lib\\npyio.py\u001b[0m in \u001b[0;36mload\u001b[1;34m(file, mmap_mode, allow_pickle, fix_imports, encoding)\u001b[0m\n\u001b[0;32m    460\u001b[0m                 \u001b[1;32mreturn\u001b[0m \u001b[0mpickle\u001b[0m\u001b[1;33m.\u001b[0m\u001b[0mload\u001b[0m\u001b[1;33m(\u001b[0m\u001b[0mfid\u001b[0m\u001b[1;33m,\u001b[0m \u001b[1;33m**\u001b[0m\u001b[0mpickle_kwargs\u001b[0m\u001b[1;33m)\u001b[0m\u001b[1;33m\u001b[0m\u001b[1;33m\u001b[0m\u001b[0m\n\u001b[0;32m    461\u001b[0m             \u001b[1;32mexcept\u001b[0m \u001b[0mException\u001b[0m\u001b[1;33m:\u001b[0m\u001b[1;33m\u001b[0m\u001b[1;33m\u001b[0m\u001b[0m\n\u001b[1;32m--> 462\u001b[1;33m                 raise IOError(\n\u001b[0m\u001b[0;32m    463\u001b[0m                     \"Failed to interpret file %s as a pickle\" % repr(file))\n\u001b[0;32m    464\u001b[0m     \u001b[1;32mfinally\u001b[0m\u001b[1;33m:\u001b[0m\u001b[1;33m\u001b[0m\u001b[1;33m\u001b[0m\u001b[0m\n",
      "\u001b[1;31mOSError\u001b[0m: Failed to interpret file 'data\\\\calib\\\\chelatedZn-residuals.npy' as a pickle"
     ]
    }
   ],
   "source": [
    "from calibration_runs import compute_chelated_residual, compute_free_residual\n",
    "from analyz.IO.npz import load_dict\n",
    "from datavyz import ge\n",
    "from analyz.workflow.batch_run import GridSimulation\n",
    "import os\n",
    "\n",
    "\n",
    "calib_data = np.load(os.path.join('data', 'exp_data_for_calibration.npy'), allow_pickle=True).item()\n",
    "Residuals = np.load(os.path.join('data', 'calib', 'chelatedZn-residuals.npy'), allow_pickle=True).item()\n",
    "# sim = GridSimulation(os.path.join('data', 'calib', 'chelated-zinc-calib-grid.npy'))\n",
    "D, X, R, COLORS = {}, [], [], []\n",
    "\n",
    "Nplot = 20\n",
    "pResiduals = np.ones(Nplot+1)*np.inf\n",
    "for j, i in enumerate(np.random.choice(np.arange(int(sim.N)), Nplot)):\n",
    "    pResiduals[j] = np.log10(Residuals[j])\n",
    "    sim.update_dict_from_GRID_and_index(i, D)\n",
    "    X.append([D[k] for k in sim.GRID])\n",
    "D = np.load(os.path.join('data', 'best_chelatedZn_config.npy'), allow_pickle=True).item()\n",
    "X.append([D[k] for k in sim.GRID])\n",
    "pResiduals[-1] = np.min(Residuals)\n",
    "\n",
    "Colors = (pResiduals-pResiduals.min())/(pResiduals.max()-pResiduals.min())\n",
    "# fig2, ax = ge.parallel_plot([x[:-1] for x in X],\n",
    "#                             SET_OF_LABELS=['  $\\\\tau_{NMDA}^{decay}$(ms)',\n",
    "#                                            'N$_{syn}^{1}$', 'N$_{syn}^{2}$', \n",
    "#                                            '$\\\\tau_{Nsyn}$(ms)  '],\n",
    "#                             COLORS=[ge.viridis_r(c) for c in Colors], lw=2)\n",
    "#ge.top_left_letter(ax, 'i', loc=(-0.02,1.))\n",
    "#ge.savefig(fig21, 'model-calibration/figures/fig21.svg')"
   ]
  },
  {
   "cell_type": "code",
   "execution_count": 6,
   "metadata": {
    "collapsed": false
   },
   "outputs": [
    {
     "name": "stderr",
     "output_type": "stream",
     "text": [
      "WARNING    /home/yann/anaconda3/lib/python3.7/site-packages/numpy/core/_methods.py:217: RuntimeWarning: Degrees of freedom <= 0 for slice\n",
      "  keepdims=keepdims)\n",
      " [py.warnings]\n",
      "WARNING    /home/yann/anaconda3/lib/python3.7/site-packages/numpy/core/_methods.py:186: RuntimeWarning: invalid value encountered in true_divide\n",
      "  arrmean, rcount, out=arrmean, casting='unsafe', subok=False)\n",
      " [py.warnings]\n",
      "WARNING    /home/yann/anaconda3/lib/python3.7/site-packages/numpy/core/_methods.py:209: RuntimeWarning: invalid value encountered in double_scalars\n",
      "  ret = ret.dtype.type(ret / rcount)\n",
      " [py.warnings]\n"
     ]
    },
    {
     "data": {
      "image/png": "[encoded data removed]",
      "text/plain": [
       "<Figure size 119.055x102.047 with 1 Axes>"
      ]
     },
     "metadata": {},
     "output_type": "display_data"
    }
   ],
   "source": [
    "from analyz.IO.npz import load_dict\n",
    "%matplotlib inline\n",
    "from datavyz import ge\n",
    "best = load_dict('./data/best_chelatedZn_config.npz')\n",
    "sim = GridSimulation(os.path.join('data', 'calib', 'chelated-zinc-calib-grid.npz'))\n",
    "D = {}\n",
    "norm = {}\n",
    "for k in ['tauDecayNMDA', 'Nsyn1', 'Nsyn2', 'Tnsyn20Hz', 'Tnsyn3Hz']:\n",
    "    norm[k]=(sim.GRID[k][-1]-sim.GRID[k][0])\n",
    "    \n",
    "def distance_from_best_config(best, new):\n",
    "    distance = 0\n",
    "    for k in ['tauDecayNMDA', 'Nsyn1', 'Nsyn2', 'Tnsyn20Hz', 'Tnsyn3Hz']:\n",
    "        # distance += np.sqrt((best[k]-new[k])**2/best[k]**2)\n",
    "        distance += (best[k]-new[k])**2/norm[k]**2\n",
    "    return distance\n",
    "\n",
    "Residuals = np.load(os.path.join('data', 'calib', 'chelatedZn-residuals.npy'))\n",
    "Distance = np.zeros(sim.N)\n",
    "for i in np.arange(int(sim.N)):\n",
    "    sim.update_dict_from_GRID_and_index(i, D)\n",
    "    Distance[i] = distance_from_best_config(best, D)\n",
    "\n",
    "bins = np.linspace(0, Distance.max(), 20)\n",
    "ibins = np.digitize(Distance, bins=bins, right=True)\n",
    "d, r, sr, sr1, sr2 = [], [], [], [], []\n",
    "for i, b in enumerate(bins[:-1]):\n",
    "    d.append(.5*(bins[i]+bins[i+1]))\n",
    "    r.append(np.mean(Residuals[ibins==i]))\n",
    "    sr.append(np.std(Residuals[ibins==i]))\n",
    "    cond = Residuals[ibins==i]<r[-1]\n",
    "    sr1.append(np.std(Residuals[ibins==i][cond]))\n",
    "    cond = Residuals[ibins==i]>=r[-1]\n",
    "    sr2.append(np.std(Residuals[ibins==i][cond]))\n",
    "\n",
    "fig22, ax = ge.plot(d, r, sy1=np.array(sr1), sy2=np.array(sr2),\n",
    "        axes_args=dict(ylabel='$\\chi^2$-residual        ',\n",
    "                       yscale='log',\n",
    "                       # ylim=[0.8,22.],\n",
    "                       # yticks=[1, 2, 5, 10, 20], yticks_labels=['1', '2', '5', '10', '20'],\n",
    "                       xlabel='dist. from best config (a.u.)          '))\n",
    "ge.annotate(ax, ' %iconfigs' % sim.N, (0., 1.), size='small', va='top')\n",
    "ge.top_left_letter(ax, 'ii', loc=(-0.4,1.))\n",
    "ge.savefig(fig22, 'model-calibration/figures/fig22.svg')"
   ]
  },
  {
   "cell_type": "markdown",
   "metadata": {
    "collapsed": false
   },
   "source": [
    "## Calibrating Zinc-NMDA properties on Extracellular stimulation data"
   ]
  },
  {
   "cell_type": "code",
   "execution_count": 26,
   "metadata": {
    "collapsed": false
   },
   "outputs": [],
   "source": [
    "import os\n",
    "import numpy as np\n",
    "from analyz.workflow.batch_run import slurm_script, bash_script, GridSimulation\n",
    "from analyz.IO.npz import load_dict"
   ]
  },
  {
   "cell_type": "code",
   "execution_count": 7,
   "metadata": {
    "collapsed": false
   },
   "outputs": [
    {
     "data": {
      "image/png": "[encoded data removed]",
      "text/plain": [
       "<Figure size 542.891x163.276 with 2 Axes>"
      ]
     },
     "metadata": {},
     "output_type": "display_data"
    }
   ],
   "source": [
    "from datavyz import ges as ge\n",
    "from analyz.IO.npz import load_dict\n",
    "fig, AX = ge.figure(axes=(2,1), figsize=(1.2,0.8), wspace=0.5, hspace=0)\n",
    "\n",
    "calib_data = load_dict('./data/exp_data_for_calibration.npz')\n",
    "mdata = load_dict('./'+load_dict('./data/best_chelatedZn_config.npz')['filename'])\n",
    "\n",
    "for cond, ax in zip(['20Hz_protocol', '3Hz_protocol'], AX):\n",
    "    ## data\n",
    "    tcond = (mdata['t']>(mdata['%s_tstart' % cond]-calib_data['DT0_%s' % cond])) &\\\n",
    "        (mdata['t']<mdata['%s_tstart' % cond]-calib_data['DT0_%s' % cond]+\\\n",
    "         calib_data['DTfull_%s' % cond])\n",
    "    \n",
    "    trace_model = -1e3*(mdata['Ic'][tcond]-mdata['Ic'][tcond][0])\n",
    "    trace_exp = calib_data['Iexp_chelatedZn_%s' % cond]\n",
    "    \n",
    "    ax.plot(calib_data['t_%s' % cond], trace_model, color=ge.default_color, label='model')\n",
    "    ax.plot(calib_data['t_%s' % cond], trace_exp, color=ge.blue, label='data')\n",
    "\n",
    "    ge.set_plot(ax, ylabel='pA', xlabel='ms')\n",
    "    ge.annotate(ax, cond.split('_')[0], (.6, .7))\n",
    "    \n",
    "ge.legend(AX[1], size='small', loc=(0.4,1.), ncol=2)\n",
    "fig.suptitle('chelated-Zinc condition', color=ge.default_color, size='small');"
   ]
  },
  {
   "cell_type": "code",
   "execution_count": 31,
   "metadata": {
    "collapsed": false
   },
   "outputs": [
    {
     "data": {
      "text/plain": [
       "array([ 3.,  5.,  7.,  9., 11.])"
      ]
     },
     "execution_count": 31,
     "metadata": {},
     "output_type": "execute_result"
    }
   ],
   "source": [
    "np.linspace(3, 11, 5)"
   ]
  }
 ],
 "metadata": {
  "kernelspec": {
   "argv": [
    "C:/Users/yann.zerlaut/Anaconda3\\python.exe",
    "-m",
    "ipykernel_launcher",
    "-f",
    "{connection_file}"
   ],
   "display_name": "Python 3",
   "env": null,
   "interrupt_mode": "signal",
   "language": "python",
   "metadata": null,
   "name": "python3"
  },
  "language_info": {
   "codemirror_mode": {
    "name": "ipython",
    "version": 3
   },
   "file_extension": ".py",
   "mimetype": "text/x-python",
   "name": "python",
   "nbconvert_exporter": "python",
   "pygments_lexer": "ipython3",
   "version": "3.7.4"
  },
  "name": "chelated-zinc.ipynb"
 },
 "nbformat": 4,
 "nbformat_minor": 2
}
