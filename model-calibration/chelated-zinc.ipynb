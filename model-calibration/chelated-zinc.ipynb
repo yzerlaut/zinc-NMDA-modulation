{
 "cells": [
  {
   "cell_type": "code",
   "execution_count": 1,
   "metadata": {},
   "outputs": [],
   "source": [
    "%matplotlib inline\n",
    "from datavyz import ge"
   ]
  },
  {
   "cell_type": "markdown",
   "metadata": {},
   "source": [
    "Need to be in parent directory (e.g. cd ..)"
   ]
  },
  {
   "cell_type": "markdown",
   "metadata": {},
   "source": [
    "# Calibration of model parameters based on our recordings"
   ]
  },
  {
   "cell_type": "code",
   "execution_count": 4,
   "metadata": {},
   "outputs": [
    {
     "name": "stdout",
     "output_type": "stream",
     "text": [
      "C:\\Users\\yann.zerlaut\\work\\zinc-NMDA-modulation\n"
     ]
    }
   ],
   "source": [
    "cd C:\\\\Users\\\\yann.zerlaut\\\\work\\\\zinc-NMDA-modulation\\\\"
   ]
  },
  {
   "cell_type": "code",
   "execution_count": 6,
   "metadata": {},
   "outputs": [],
   "source": [
    "### Running scans over grids for model parameters\n",
    "from model import Model # the grid bounds are stored in the model file\n",
    "\n",
    "import numpy as np\n",
    "import os\n",
    "from analyz.workflow.batch_run import GridSimulation, bash_script\n",
    "\n",
    "## EXTRA-STIMULATION & NMDA PROPS\n",
    "GRID = {'tauDecayNMDA': np.linspace(Model['tauDecayNMDA_min'], Model['tauDecayNMDA_max'], Model['N_tauDecayNMDA']),\n",
    "        'Nsyn1':np.linspace(Model['Nsyn1_min'], Model['Nsyn1_max'], Model['N_Nsyn1'], dtype=int),\n",
    "        'Nsyn2':np.linspace(Model['Nsyn2_min'], Model['Nsyn2_max'], Model['N_Nsyn2'], dtype=int),\n",
    "        'Tnsyn20Hz':np.linspace(Model['Tnsyn20Hz_min'],Model['Tnsyn20Hz_max'],Model['N_Tnsyn20Hz']),\n",
    "        'Tnsyn3Hz':np.linspace(Model['Tnsyn3Hz_min'],Model['Tnsyn3Hz_max'],Model['N_Tnsyn3Hz'])}\n",
    "\n",
    "np.save(os.path.join('data', 'calib', 'chelated-zinc-calib-grid.npy'), GRID)\n",
    "# Making a bash script to run a scan on the above grid grid\n",
    "sim = GridSimulation(GRID)\n",
    "bs = bash_script('calib-chelated-zinc')\n",
    "bs.script = sim.build_script('python calibration_runs.py chelated-zinc-calib',\n",
    "                             base_script=bs.script, simultaneous_runs=3*8)\n",
    "bs.write(folder='./bash/')"
   ]
  },
  {
   "cell_type": "markdown",
   "metadata": {},
   "source": [
    "## Print output of minization"
   ]
  },
  {
   "cell_type": "code",
   "execution_count": 7,
   "metadata": {},
   "outputs": [
    {
     "name": "stdout",
     "output_type": "stream",
     "text": [
      "Nsyn1 7\n",
      "Nsyn2 4\n",
      "Tnsyn20Hz 56.7 ms\n",
      "Tnsyn3Hz 546.7 ms\n",
      "tauDecayNMDA 70.0 ms\n"
     ]
    }
   ],
   "source": [
    "from analyz.IO.npz import load_dict\n",
    "from model import add_value_to_study_data\n",
    "# D = load_dict('./data/best_chelatedZn_config.npz')\n",
    "D = np.load('./data/best_chelatedZn_config.npy', allow_pickle=True).item()\n",
    "\n",
    "for key in ['Nsyn1', 'Nsyn2']:\n",
    "    add_value_to_study_data(key, int(D[key]))\n",
    "    print(key, int(D[key]))\n",
    "for key in ['Tnsyn20Hz', 'Tnsyn3Hz', 'tauDecayNMDA']:\n",
    "    add_value_to_study_data(key, '%.1f ms' % D[key])\n",
    "    print(key, '%.1f ms' % D[key])"
   ]
  },
  {
   "cell_type": "code",
   "execution_count": 32,
   "metadata": {},
   "outputs": [
    {
     "data": {
      "image/png": "[encoded data removed]",
      "text/plain": [
       "<Figure size 230.173x102.047 with 1 Axes>"
      ]
     },
     "metadata": {},
     "output_type": "display_data"
    }
   ],
   "source": [
    "from calibration_runs import compute_chelated_residual, compute_free_residual\n",
    "from analyz.IO.npz import load_dict\n",
    "from datavyz import ge\n",
    "from analyz.workflow.batch_run import GridSimulation\n",
    "import os\n",
    "\n",
    "calib_data = np.load(os.path.join('data','exp_data_for_calibration.npy'), allow_pickle=True).item()\n",
    "Residuals = np.load(os.path.join('data','calib','chelatedZn-residuals.npy'), allow_pickle=True)\n",
    "sim = GridSimulation(np.load(os.path.join('data', 'calib', 'chelated-zinc-calib-grid.npy'), allow_pickle=True).item())\n",
    "D, X, R, COLORS = {}, [], [], []\n",
    "\n",
    "Nplot = 20\n",
    "pResiduals = np.ones(Nplot+1)*np.inf\n",
    "for j, i in enumerate(np.random.choice(np.arange(int(sim.N)), Nplot)):\n",
    "    pResiduals[j] = np.log10(Residuals[j])\n",
    "    sim.update_dict_from_GRID_and_index(i, D)\n",
    "    X.append([D[k] for k in sim.GRID])\n",
    "D = np.load('./data/best_chelatedZn_config.npy', allow_pickle=True).item()\n",
    "X.append([D[k] for k in sim.GRID])\n",
    "pResiduals[-1] = np.min(Residuals)\n",
    "\n",
    "Colors = (pResiduals-pResiduals.min())/(pResiduals.max()-pResiduals.min())\n",
    "fig21, ax = ge.parallel_plot(X,\n",
    "                 SET_OF_LABELS=['  $\\\\tau_{NMDA}^{decay}$(ms)',\n",
    "                                'N$_{syn}^{1}$', 'N$_{syn}^{2}$', \n",
    "                                '$\\\\tau_{Nsyn}^{3Hz}$(ms)  ', '    $\\\\tau_{Nsyn}^{20Hz}$(ms)'],\n",
    "                             COLORS=[ge.viridis_r(c) for c in Colors],lw=2)\n",
    "ge.top_left_letter(ax, 'i', loc=(0.03,1.1))\n",
    "ge.savefig(fig21, 'model-calibration/figures/fig21.svg')"
   ]
  },
  {
   "cell_type": "markdown",
   "metadata": {},
   "source": [
    "We simplify to one time-constant only"
   ]
  },
  {
   "cell_type": "code",
   "execution_count": 13,
   "metadata": {},
   "outputs": [],
   "source": [
    "from calibration_runs import compute_chelated_residual, compute_free_residual\n",
    "from analyz.IO.npz import load_dict\n",
    "from datavyz import ge\n",
    "from analyz.workflow.batch_run import GridSimulation\n",
    "import os\n",
    "\n",
    "\n",
    "calib_data = np.load(os.path.join('data', 'exp_data_for_calibration.npy'), allow_pickle=True).item()\n",
    "Residuals = np.load(os.path.join('data', 'calib', 'chelatedZn-residuals.npy'), allow_pickle=True)\n",
    "# sim = GridSimulation(os.path.join('data', 'calib', 'chelated-zinc-calib-grid.npy'))\n",
    "D, X, R, COLORS = {}, [], [], []\n",
    "\n",
    "Nplot = 20\n",
    "pResiduals = np.ones(Nplot+1)*np.inf\n",
    "for j, i in enumerate(np.random.choice(np.arange(int(sim.N)), Nplot)):\n",
    "    pResiduals[j] = np.log10(Residuals[j])\n",
    "    sim.update_dict_from_GRID_and_index(i, D)\n",
    "    X.append([D[k] for k in sim.GRID])\n",
    "D = np.load(os.path.join('data', 'best_chelatedZn_config.npy'), allow_pickle=True).item()\n",
    "X.append([D[k] for k in sim.GRID])\n",
    "pResiduals[-1] = np.min(Residuals)\n",
    "\n",
    "Colors = (pResiduals-pResiduals.min())/(pResiduals.max()-pResiduals.min())\n",
    "# fig2, ax = ge.parallel_plot([x[:-1] for x in X],\n",
    "#                             SET_OF_LABELS=['  $\\\\tau_{NMDA}^{decay}$(ms)',\n",
    "#                                            'N$_{syn}^{1}$', 'N$_{syn}^{2}$', \n",
    "#                                            '$\\\\tau_{Nsyn}$(ms)  '],\n",
    "#                             COLORS=[ge.viridis_r(c) for c in Colors], lw=2)\n",
    "#ge.top_left_letter(ax, 'i', loc=(-0.02,1.))\n",
    "#ge.savefig(fig21, 'model-calibration/figures/fig21.svg')"
   ]
  },
  {
   "cell_type": "code",
   "execution_count": 33,
   "metadata": {},
   "outputs": [
    {
     "name": "stderr",
     "output_type": "stream",
     "text": [
      "WARNING    C:\\Users\\yann.zerlaut\\Anaconda3\\lib\\site-packages\\numpy\\core\\_methods.py:216: RuntimeWarning: Degrees of freedom <= 0 for slice\n",
      "  ret = _var(a, axis=axis, dtype=dtype, out=out, ddof=ddof,\n",
      " [py.warnings]\n",
      "WARNING    C:\\Users\\yann.zerlaut\\Anaconda3\\lib\\site-packages\\numpy\\core\\_methods.py:185: RuntimeWarning: invalid value encountered in true_divide\n",
      "  arrmean = um.true_divide(\n",
      " [py.warnings]\n",
      "WARNING    C:\\Users\\yann.zerlaut\\Anaconda3\\lib\\site-packages\\numpy\\core\\_methods.py:209: RuntimeWarning: invalid value encountered in double_scalars\n",
      "  ret = ret.dtype.type(ret / rcount)\n",
      " [py.warnings]\n"
     ]
    },
    {
     "data": {
      "image/png": "[encoded data removed]",
      "text/plain": [
       "<Figure size 85.2661x91.8425 with 1 Axes>"
      ]
     },
     "metadata": {},
     "output_type": "display_data"
    }
   ],
   "source": [
    "from analyz.IO.npz import load_dict\n",
    "%matplotlib inline\n",
    "from datavyz import ge\n",
    "best = np.load('./data/best_chelatedZn_config.npy', allow_pickle=True).item()\n",
    "sim = GridSimulation(os.path.join('data', 'calib', 'chelated-zinc-calib-grid.npy'))\n",
    "D = {}\n",
    "norm = {}\n",
    "for k in ['tauDecayNMDA', 'Nsyn1', 'Nsyn2', 'Tnsyn20Hz', 'Tnsyn3Hz']:\n",
    "    norm[k]=(sim.GRID[k][-1]-sim.GRID[k][0])\n",
    "    \n",
    "def distance_from_best_config(best, new):\n",
    "    distance = 0\n",
    "    for k in ['tauDecayNMDA', 'Nsyn1', 'Nsyn2', 'Tnsyn20Hz', 'Tnsyn3Hz']:\n",
    "        # distance += np.sqrt((best[k]-new[k])**2/best[k]**2)\n",
    "        distance += (best[k]-new[k])**2/norm[k]**2\n",
    "    return distance\n",
    "\n",
    "Residuals = np.load(os.path.join('data', 'calib', 'chelatedZn-residuals.npy'))\n",
    "Distance = np.zeros(sim.N)\n",
    "for i in np.arange(int(sim.N)):\n",
    "    sim.update_dict_from_GRID_and_index(i, D)\n",
    "    Distance[i] = distance_from_best_config(best, D)\n",
    "\n",
    "bins = np.linspace(0, Distance.max(), 20)\n",
    "ibins = np.digitize(Distance, bins=bins, right=True)\n",
    "d, r, sr, sr1, sr2 = [], [], [], [], []\n",
    "for i, b in enumerate(bins[:-1]):\n",
    "    d.append(.5*(bins[i]+bins[i+1]))\n",
    "    r.append(np.mean(Residuals[ibins==i]))\n",
    "    sr.append(np.std(Residuals[ibins==i]))\n",
    "    cond = Residuals[ibins==i]<r[-1]\n",
    "    sr1.append(np.std(Residuals[ibins==i][cond]))\n",
    "    cond = Residuals[ibins==i]>=r[-1]\n",
    "    sr2.append(np.std(Residuals[ibins==i][cond]))\n",
    "\n",
    "fig22, ax = ge.plot(d, r, sy1=np.array(sr1), sy2=np.array(sr2),\n",
    "                    fig_args={'figsize':(.8,.9)},\n",
    "        axes_args=dict(ylabel='$\\chi^2$-residual        ',\n",
    "                       yscale='log',\n",
    "                       # ylim=[0.8,22.],\n",
    "                       # yticks=[1, 2, 5, 10, 20], yticks_labels=['1', '2', '5', '10', '20'],\n",
    "                       xlabel='dist. from best (a.u.)          '))\n",
    "ge.annotate(ax, ' %i\\nconfigs' % sim.N, (1., 0.), size='small', ha='right')\n",
    "ge.top_left_letter(ax, 'ii', loc=(-0.4,1.))\n",
    "ge.savefig(fig22, 'model-calibration/figures/fig22.svg')"
   ]
  },
  {
   "cell_type": "markdown",
   "metadata": {},
   "source": [
    "## Calibrating Zinc-NMDA properties on Extracellular stimulation data"
   ]
  },
  {
   "cell_type": "code",
   "execution_count": 26,
   "metadata": {},
   "outputs": [],
   "source": [
    "import os\n",
    "import numpy as np\n",
    "from analyz.workflow.batch_run import slurm_script, bash_script, GridSimulation\n",
    "from analyz.IO.npz import load_dict"
   ]
  },
  {
   "cell_type": "code",
   "execution_count": 35,
   "metadata": {},
   "outputs": [
    {
     "data": {
      "image/png": "[encoded data removed]",
      "text/plain": [
       "<Figure size 542.891x163.276 with 2 Axes>"
      ]
     },
     "metadata": {},
     "output_type": "display_data"
    }
   ],
   "source": [
    "from datavyz import ges as ge\n",
    "from analyz.IO.npz import load_dict\n",
    "fig, AX = ge.figure(axes=(2,1), figsize=(1.2,0.8), wspace=0.5, hspace=0)\n",
    "\n",
    "calib_data = load_dict('./data/exp_data_for_calibration.npz')\n",
    "mdata = np.load('./'+np.load('./data/best_chelatedZn_config.npy', allow_pickle=True).item()['filename'])\n",
    "\n",
    "for cond, ax in zip(['20Hz_protocol', '3Hz_protocol'], AX):\n",
    "    ## data\n",
    "    tcond = (mdata['t']>(mdata['%s_tstart' % cond]-calib_data['DT0_%s' % cond])) &\\\n",
    "        (mdata['t']<mdata['%s_tstart' % cond]-calib_data['DT0_%s' % cond]+\\\n",
    "         calib_data['DTfull_%s' % cond])\n",
    "    \n",
    "    trace_model = -1e3*(mdata['Ic'][tcond]-mdata['Ic'][tcond][0])\n",
    "    trace_exp = calib_data['Iexp_chelatedZn_%s' % cond]\n",
    "    \n",
    "    ax.plot(calib_data['t_%s' % cond], trace_model, color=ge.default_color, label='model')\n",
    "    ax.plot(calib_data['t_%s' % cond], trace_exp, color=ge.blue, label='data')\n",
    "\n",
    "    ge.set_plot(ax, ylabel='pA', xlabel='ms')\n",
    "    ge.annotate(ax, cond.split('_')[0], (.6, .7))\n",
    "    \n",
    "ge.legend(AX[1], size='small', loc=(0.4,1.), ncol=2)\n",
    "fig.suptitle('chelated-Zinc condition', color=ge.default_color, size='small');"
   ]
  }
 ],
 "metadata": {
  "kernelspec": {
   "display_name": "Python 3",
   "language": "python",
   "name": "python3"
  },
  "language_info": {
   "codemirror_mode": {
    "name": "ipython",
    "version": 3
   },
   "file_extension": ".py",
   "mimetype": "text/x-python",
   "name": "python",
   "nbconvert_exporter": "python",
   "pygments_lexer": "ipython3",
   "version": "3.7.4"
  },
  "name": "chelated-zinc.ipynb"
 },
 "nbformat": 4,
 "nbformat_minor": 2
}
