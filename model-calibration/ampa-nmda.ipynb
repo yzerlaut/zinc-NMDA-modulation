{
 "cells": [
  {
   "cell_type": "code",
   "execution_count": 1,
   "metadata": {},
   "outputs": [],
   "source": [
    "%matplotlib inline\n",
    "from datavyz import ge"
   ]
  },
  {
   "cell_type": "markdown",
   "metadata": {},
   "source": [
    "# Calibration of AMPA-to-NMDA ratio"
   ]
  },
  {
   "cell_type": "code",
   "execution_count": 2,
   "metadata": {},
   "outputs": [
    {
     "name": "stdout",
     "output_type": "stream",
     "text": [
      "C:\\Users\\yann.zerlaut\\work\\zinc-NMDA-modulation\n"
     ]
    }
   ],
   "source": [
    "cd .."
   ]
  },
  {
   "cell_type": "code",
   "execution_count": 3,
   "metadata": {},
   "outputs": [
    {
     "data": {
      "image/png": "[encoded data removed]",
      "text/plain": [
       "<Figure size 205.625x137.82 with 2 Axes>"
      ]
     },
     "metadata": {},
     "output_type": "display_data"
    }
   ],
   "source": [
    "import numpy as np\n",
    "from datavyz import ge\n",
    "from data.exp_datasets import SYN_CONDUCTANCE_MEASUREMENTS\n",
    "fig, AX = ge.figure(axes=(2,1), figsize=(.9,1.3), wspace=1.5, top=1.2)\n",
    "for v1, v2 in zip(SYN_CONDUCTANCE_MEASUREMENTS['ampa'], SYN_CONDUCTANCE_MEASUREMENTS['nmda']):\n",
    "    AX[0].plot([0,1], [v1, v2], 'k-', lw=0.3)\n",
    "    AX[1].plot([0,1], [v1/80, v2/20], 'k-', lw=0.3)\n",
    "ge.bar(np.array([np.mean(SYN_CONDUCTANCE_MEASUREMENTS['ampa']),\n",
    "                 np.mean(SYN_CONDUCTANCE_MEASUREMENTS['nmda'])]),\n",
    "       sy=np.array([np.std(SYN_CONDUCTANCE_MEASUREMENTS['ampa']),\n",
    "                    np.std(SYN_CONDUCTANCE_MEASUREMENTS['nmda'])]),\n",
    "       COLORS=[ge.grey, ge.brown],\n",
    "       ax=AX[0],\n",
    "       axes_args=dict(ylabel='current (pA)', xticks=[0, 1], xticks_labels=['AMPA', 'NMDA'], xticks_rotation=45))\n",
    "for i, v, val in zip(range(2), ['-80', '+20'], [65, 50]):\n",
    "    ge.annotate(AX[0],'%smV'%v,(i,val),xycoords='data', ha='center', color=[ge.grey, ge.brown][i])\n",
    "\n",
    "ge.bar(np.array([np.mean(SYN_CONDUCTANCE_MEASUREMENTS['ampa'])/80.,\n",
    "                 np.mean(SYN_CONDUCTANCE_MEASUREMENTS['nmda'])/20.]),\n",
    "       sy=np.array([np.std(SYN_CONDUCTANCE_MEASUREMENTS['ampa'])/80.,\n",
    "                    np.std(SYN_CONDUCTANCE_MEASUREMENTS['nmda'])/20.]),\n",
    "       COLORS=[ge.grey, ge.brown],\n",
    "       ax=AX[1],\n",
    "       axes_args=dict(ylabel='est. conductance (nS)      ', xticks=[0, 1], xticks_labels=['AMPA', 'NMDA'], xticks_rotation=45))\n",
    "\n",
    "RATIOS = np.array(SYN_CONDUCTANCE_MEASUREMENTS['nmda'])/np.array(SYN_CONDUCTANCE_MEASUREMENTS['ampa'])*80/20\n",
    "ge.annotate(AX[0], 'n=%i' % len(RATIOS), (.8,1.11))\n",
    "ge.title(AX[1], 'ratio=%.1f$\\pm$%.1f' % (np.mean(RATIOS), np.std(RATIOS)), bold=True)\n",
    "for l, ax in zip(['a', 'b'], AX):\n",
    "    ge.top_left_letter(ax, l, loc=(-.3,1.15))\n",
    "ge.savefig(fig, 'figures/ampa-nmda-ratio.png')       "
   ]
  },
  {
   "cell_type": "code",
   "execution_count": null,
   "metadata": {},
   "outputs": [],
   "source": []
  }
 ],
 "metadata": {
  "kernelspec": {
   "display_name": "Python 3",
   "language": "python",
   "name": "python3"
  },
  "language_info": {
   "codemirror_mode": {
    "name": "ipython",
    "version": 3
   },
   "file_extension": ".py",
   "mimetype": "text/x-python",
   "name": "python",
   "nbconvert_exporter": "python",
   "pygments_lexer": "ipython3",
   "version": "3.8.3"
  },
  "name": "full.ipynb"
 },
 "nbformat": 4,
 "nbformat_minor": 2
}
