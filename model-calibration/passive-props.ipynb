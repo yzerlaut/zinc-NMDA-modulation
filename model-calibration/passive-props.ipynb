{
 "cells": [
  {
   "cell_type": "code",
   "execution_count": 1,
   "metadata": {
    "collapsed": false
   },
   "outputs": [],
   "source": [
    "%matplotlib inline\n",
    "from datavyz import ges as ge"
   ]
  },
  {
   "cell_type": "markdown",
   "metadata": {
    "collapsed": false
   },
   "source": [
    "# Calibrating Passive properties"
   ]
  },
  {
   "cell_type": "code",
   "execution_count": 5,
   "metadata": {
    "collapsed": false
   },
   "outputs": [],
   "source": [
    "## Running scans over grids for model parameters\n",
    "import sys\n",
    "sys.path.append('../')\n",
    "from model import Model # the grid bounds are stored in the model file\n",
    "\n",
    "import numpy as np\n",
    "import os\n",
    "from analyz.workflow.batch_run import GridSimulation, bash_script\n",
    "\n",
    "## PASSIVE PROPS\n",
    "GRID = {'gL': np.linspace(Model['gL_min'], Model['gL_max'], Model['N_gL']), #np.linspace(0.02, 2., N),\n",
    "        'cm':np.linspace(Model['cm_min'], Model['cm_max'], Model['N_cm'])} #np.linspace(0.5, 2., N)}\n",
    "\n",
    "np.save(os.path.join('..', 'data', 'calib', 'passive-grid.npy'), GRID)\n",
    "# Making a bash script to run a scan on the above grid grid\n",
    "sim = GridSimulation(GRID)\n",
    "bs = bash_script('calib-passive')\n",
    "bs.script = sim.build_script('python passive_props.py calib',\n",
    "                             base_script=bs.script, simultaneous_runs=8)\n",
    "bs.write(folder=os.path.join('..', 'bash'))"
   ]
  },
  {
   "cell_type": "markdown",
   "metadata": {
    "collapsed": false
   },
   "source": [
    "### Fitting the somatic response in experimental data to estimate passive properties"
   ]
  },
  {
   "cell_type": "code",
   "execution_count": 4,
   "metadata": {
    "collapsed": false
   },
   "outputs": [],
   "source": [
    "from data.exp_datasets import *\n",
    "from data.Import import LoadICData\n",
    "from datavyz import gen\n",
    "\n",
    "import sys, os\n",
    "sys.path.append(os.path.join(os.path.expanduser('~'), 'work', 'cortical-physio-icm')) # append CPI to y\n",
    "from electrophy.intracellular.passive_props import perform_ICcharact\n",
    "\n",
    "def fit_passive_props(data, ax=None, with_plot=False):\n",
    "\n",
    "    cond = (data['t']>600)\n",
    "    t, v = data['t'][cond]-data['t'][cond][0], data['recordings'][data['Vrec_key']].mean(axis=0)[cond]\n",
    "    if with_plot:\n",
    "        return perform_ICcharact(1e-3*t, 1e-3*v,\n",
    "                                 t0=IC_t0s[i]*1e-3, t1=(IC_t0s[i]+IC_dts[i])*1e-3,\n",
    "                                 Istep=-30e-12, ax=ax, with_plot=True, ge=gen)\n",
    "    else:\n",
    "        return perform_ICcharact(1e-3*t, 1e-3*v, t0=IC_t0s[i]*1e-3, t1=(IC_t0s[i]+IC_dts[i])*1e-3,\n",
    "                                   Istep=-30e-12, with_plot=False)\n",
    "\n",
    "RMS, CMS = [], []\n",
    "for i in range(len(IC_STEPS_DATASET)):\n",
    "    data = LoadICData(i)\n",
    "    Rm, Cm = fit_passive_props(data)\n",
    "    RMS.append(Rm)\n",
    "    CMS.append(Cm)\n",
    "\n",
    "expRm = np.array(RMS).mean()\n",
    "expCm = np.array(CMS).mean()"
   ]
  },
  {
   "cell_type": "code",
   "execution_count": 5,
   "metadata": {
    "collapsed": false
   },
   "outputs": [
    {
     "name": "stdout",
     "output_type": "stream",
     "text": [
      "137.5$\\pm$50.2 M$\\Omega$ 208.1$\\pm$43.0 pF 27\n"
     ]
    }
   ],
   "source": [
    "from model import add_value_to_study_data\n",
    "Rm = '%.1f$\\pm$%.1f M$\\Omega$' % (1e-6*np.array(RMS).mean(),\n",
    "                                  1e-6*np.array(RMS).std())\n",
    "Cm = '%.1f$\\pm$%.1f pF' % (1e12*np.array(CMS).mean(),\n",
    "                           1e12*np.array(CMS).std())\n",
    "ncell = len(CMS)\n",
    "add_value_to_study_data('Rm_exp', Rm, study='../study.npz')\n",
    "add_value_to_study_data('Cm_exp', Cm, study='../study.npz')\n",
    "add_value_to_study_data('ncell_RmCm', ncell, study='../study.npz')\n",
    "print(Rm, Cm, ncell)"
   ]
  },
  {
   "cell_type": "code",
   "execution_count": 6,
   "metadata": {
    "collapsed": false
   },
   "outputs": [
    {
     "data": {
      "image/png": "[encoded data removed]",
      "text/plain": [
       "<Figure size 294.803x260.787 with 1 Axes>"
      ]
     },
     "metadata": {},
     "output_type": "display_data"
    }
   ],
   "source": [
    "fit_passive_props(LoadICData(10), with_plot=True);"
   ]
  },
  {
   "cell_type": "markdown",
   "metadata": {
    "collapsed": false
   },
   "source": [
    "### Minimizing model parameters with respect to data"
   ]
  },
  {
   "cell_type": "code",
   "execution_count": 13,
   "metadata": {
    "collapsed": false
   },
   "outputs": [
    {
     "name": "stdout",
     "output_type": "stream",
     "text": [
      "Rm=137.53+/-50.16 MOhm,\n",
      "Cm=208.06+/-42.96 pF\n"
     ]
    }
   ],
   "source": [
    "from data.exp_datasets import *\n",
    "from data.Import import LoadICData\n",
    "from datavyz import gen\n",
    "\n",
    "import sys, os\n",
    "sys.path.append(os.path.join(os.path.expanduser('~'), 'work', 'cortical-physio-icm')) # append CPI to y\n",
    "from electrophy.intracellular.passive_props import perform_ICcharact\n",
    "\n",
    "def fit_passive_props(data, ax=None, with_plot=False):\n",
    "\n",
    "    cond = (data['t']>600)\n",
    "    t, v = data['t'][cond]-data['t'][cond][0], data['recordings'][data['Vrec_key']].mean(axis=0)[cond]\n",
    "    if with_plot:\n",
    "        return perform_ICcharact(1e-3*t, 1e-3*v,\n",
    "                                 t0=IC_t0s[i]*1e-3, t1=(IC_t0s[i]+IC_dts[i])*1e-3,\n",
    "                                 Istep=-30e-12, ax=ax, with_plot=True, ge=gen)\n",
    "    else:\n",
    "        return perform_ICcharact(1e-3*t, 1e-3*v, t0=IC_t0s[i]*1e-3, t1=(IC_t0s[i]+IC_dts[i])*1e-3,\n",
    "                                   Istep=-30e-12, with_plot=False)\n",
    "\n",
    "RMS, CMS = [], []\n",
    "for i in range(len(IC_STEPS_DATASET)):\n",
    "    data = LoadICData(i)\n",
    "    Rm, Cm = fit_passive_props(data)\n",
    "    RMS.append(Rm)\n",
    "    CMS.append(Cm)\n",
    "\n",
    "np.save(os.path.join('..', 'data','sims-results-passive-props-IC.npy'),\n",
    "        {'RMS':RMS, 'CMS':CMS})\n",
    "\n",
    "expRm = np.array(RMS).mean()\n",
    "expCm = np.array(CMS).mean()\n",
    "print('Rm=%.2f+/-%.2f MOhm,\\nCm=%.2f+/-%.2f pF' % (1e-6*np.array(RMS).mean(),\n",
    "                                                   1e-6*np.array(RMS).std(),\n",
    "                                                   1e12*np.array(CMS).mean(),\n",
    "                                                   1e12*np.array(CMS).std()))"
   ]
  },
  {
   "cell_type": "code",
   "execution_count": 11,
   "metadata": {
    "collapsed": false
   },
   "outputs": [
    {
     "name": "stdout",
     "output_type": "stream",
     "text": [
      "gL=0.29, cm=0.9, Ri=100.0\n"
     ]
    },
    {
     "data": {
      "image/png": "[encoded data removed]",
      "text/plain": [
       "<Figure size 119.055x102.047 with 1 Axes>"
      ]
     },
     "metadata": {},
     "output_type": "display_data"
    }
   ],
   "source": [
    "from analyz.IO.npz import load_dict\n",
    "import sys, os\n",
    "sys.path.append(os.path.join(os.path.expanduser('~'), 'work', 'cortical-physio-icm')) # append CPI to y\n",
    "from electrophy.intracellular.passive_props import perform_ICcharact\n",
    "\n",
    "sim = GridSimulation(os.path.join('..', 'data', 'calib', 'passive-grid.npz'))\n",
    "sim_results = {'Rm':np.zeros(sim.N), 'Cm':np.zeros(sim.N),\n",
    "               'gL':np.zeros(sim.N), 'cm':np.zeros(sim.N),\n",
    "               'residual':np.zeros(sim.N)}\n",
    "\n",
    "# looping over simulations\n",
    "for index in range(int(sim.N)):\n",
    "    output = load_dict(os.path.join('..', 'data', 'calib', sim.params_filename(index)+'.npz'))\n",
    "    Rm, Cm = perform_ICcharact(1e-3*output['t'],\n",
    "                               1e-3*output['Vm_soma'],\n",
    "                               t0=50e-3, t1=150e-3)\n",
    "    sim_results['Rm'][index], sim_results['Cm'][index] = Rm, Cm\n",
    "    D = {}\n",
    "    sim.update_dict_from_GRID_and_index(index, D)\n",
    "    sim_results['gL'][index], sim_results['cm'][index] = D['gL'], D['cm']\n",
    "    sim_results['residual'][index] = (1+(Rm-expRm)**2/expRm**2)*(1+(Cm-expCm)**2/expCm**2)\n",
    "\n",
    "# perform minimization\n",
    "ibest = np.argmin(sim_results['residual'])\n",
    "\n",
    "# show output\n",
    "output = load_dict(os.path.join('..', 'data', 'calib', sim.params_filename(ibest)+'.npz'))\n",
    "fig, ax, modelRm, modelCm = perform_ICcharact(1e-3*output['t'], 1e-3*output['Vm_soma'],\n",
    "                                              t0=50e-3, t1=150e-3, with_plot=True, ge=ge)\n",
    "\n",
    "# save results as default passive props\n",
    "from model import Model\n",
    "sim.update_dict_from_GRID_and_index(ibest, Model) # update Model parameters\n",
    "print('gL=%.2f, cm=%.1f, Ri=%.1f' % (Model['gL'], Model['cm'], Model['Ri']))\n",
    "np.save(os.path.join('..', 'data','passive-props-IC.npy'), {'gL':Model['gL'], 'cm':Model['cm'], 'filename':os.path.join('..', 'data', 'calib', sim.params_filename(ibest)+'.npz')})\n",
    "np.save(os.path.join('..', 'data','sims-results-passive-props-IC.npy'), sim_results)"
   ]
  },
  {
   "cell_type": "code",
   "execution_count": 41,
   "metadata": {
    "collapsed": false
   },
   "outputs": [
    {
     "data": {
      "image/png": "[encoded data removed]",
      "text/plain": [
       "<Figure size 147.458x102.047 with 2 Axes>"
      ]
     },
     "metadata": {},
     "output_type": "display_data"
    }
   ],
   "source": [
    "sim_results = np.load(os.path.join('..', 'data','sims-results-passive-props-IC.npy'),\n",
    "                      allow_pickle=True).item()\n",
    "from datavyz import ge\n",
    "fig1, ax, acb = ge.twoD_plot(sim_results['gL'], sim_results['cm'],\n",
    "                             sim_results['residual'],\n",
    "                             vmin=0.8, vmax=1.6, colormap=ge.viridis,\n",
    "                             bar_legend_args={'label':r'$\\chi^2$ - residual    ',\n",
    "                                              'ticks':[0.8, 1.2, 1.6]},\n",
    "                             axes_args=dict(xlim_enhancement=0., ylim_enhancement=0., tck_outward=0,\n",
    "                                            xlabel='$g_L$ (pS/$\\mu$m$^2$)',\n",
    "                                            xticks=[0.1, 0.9, 1.7],\n",
    "                                            ylabel='$c_m$ ($\\mu$F/cm$^2$)       '),\n",
    "                             aspect='auto');\n",
    "ge.scatter([Model['gL']], [Model['cm']], ax=ax, ms=2, no_set=True)\n",
    "acb.set_ticklabels(['0.8', '1.2', '$\\geq$1.6'])\n",
    "ge.top_left_letter(ax, 'a', loc=(-.5,1.1), size='x-large')\n",
    "#ge.savefig(fig11, 'figures/passive-props_grid.svg')"
   ]
  },
  {
   "cell_type": "code",
   "execution_count": 32,
   "metadata": {
    "collapsed": false
   },
   "outputs": [
    {
     "name": "stdout",
     "output_type": "stream",
     "text": [
      "Rm=137.53+/-50.16 MOhm,\n",
      "Cm=208.06+/-42.96 pF\n"
     ]
    },
    {
     "data": {
      "image/png": "[encoded data removed]",
      "text/plain": [
       "<Figure size 138.444x112.252 with 2 Axes>"
      ]
     },
     "metadata": {},
     "output_type": "display_data"
    }
   ],
   "source": [
    "from datavyz import ge\n",
    "fig2, AX = ge.figure(axes=(2,1), figsize=(0.6,1.1), wspace=2.5)\n",
    "\n",
    "exp_passive = np.load(os.path.join('..', 'data','exp-passive-props-IC.npy'),\n",
    "                      allow_pickle=True).item()\n",
    "RMS, CMS =exp_passive['RMS'], exp_passive['CMS']\n",
    "\n",
    "ge.bar([1e-6*np.array(RMS).mean()], sy=[1e-6*np.array(RMS).std()], width=0.75, ax=AX[0], no_set=True)\n",
    "ge.bar(np.array([1e-6*np.array(RMS).mean()]), width=0.75, bins=[1], ax=AX[0], color='k', no_set=True)\n",
    "ge.set_plot(AX[0], ylabel='$R_m$ (M$\\Omega$)    ', ylabelpad=-4, xticks=[0,1],\n",
    "            xticks_labels=['data','model'], xticks_rotation=50)\n",
    "\n",
    "ge.bar([1e12*np.array(CMS).mean()], sy=[1e12*np.array(CMS).std()], width=0.75, ax=AX[1], no_set=True)\n",
    "ge.bar(np.array([1e12*np.array(CMS).mean()]), width=0.75, bins=[1], ax=AX[1], color='k', no_set=True)\n",
    "ge.set_plot(AX[1], ylabel='$C_m$ (pF)    ', ylabelpad=-1, xticks=[0,1],\n",
    "            xticks_labels=['data','model'], xticks_rotation=50)\n",
    "for l, ax in zip(['b', 'c'], AX):\n",
    "    ge.top_left_letter(ax, l, loc=(-.9,1.), size='x-large')\n",
    "#ge.savefig(fig12, 'figures/passive-props_values.svg')"
   ]
  },
  {
   "cell_type": "code",
   "execution_count": 53,
   "metadata": {
    "collapsed": false
   },
   "outputs": [
    {
     "name": "stdout",
     "output_type": "stream",
     "text": [
      "C:\\Users\\yann.zerlaut\\work\\zinc-NMDA-modulation\n"
     ]
    }
   ],
   "source": [
    "cd C:\\\\Users\\\\yann.zerlaut\\\\work\\\\zinc-NMDA-modulation\\\\"
   ]
  },
  {
   "cell_type": "code",
   "execution_count": 56,
   "metadata": {
    "collapsed": false
   },
   "outputs": [
    {
     "ename": "AttributeError",
     "evalue": "'numpy.ndarray' object has no attribute 'files'",
     "output_type": "error",
     "traceback": [
      "\u001b[1;31m---------------------------------------------------------------------------\u001b[0m",
      "\u001b[1;31mAttributeError\u001b[0m                            Traceback (most recent call last)",
      "\u001b[1;32m<ipython-input-56-73ec47125a16>\u001b[0m in \u001b[0;36m<module>\u001b[1;34m\u001b[0m\n\u001b[0;32m     10\u001b[0m      len(CMS))\n\u001b[0;32m     11\u001b[0m \u001b[1;33m\u001b[0m\u001b[0m\n\u001b[1;32m---> 12\u001b[1;33m \u001b[0madd_value_to_study_data\u001b[0m\u001b[1;33m(\u001b[0m\u001b[1;34m'exp=passive-props'\u001b[0m\u001b[1;33m,\u001b[0m \u001b[0mvalue\u001b[0m\u001b[1;33m,\u001b[0m \u001b[0mstudy\u001b[0m\u001b[1;33m=\u001b[0m\u001b[1;34m'study.npy'\u001b[0m\u001b[1;33m)\u001b[0m\u001b[1;33m\u001b[0m\u001b[1;33m\u001b[0m\u001b[0m\n\u001b[0m",
      "\u001b[1;32m~\\work\\zinc-NMDA-modulation\\model.py\u001b[0m in \u001b[0;36madd_value_to_study_data\u001b[1;34m(key, value, study)\u001b[0m\n\u001b[0;32m      3\u001b[0m \u001b[1;32mfrom\u001b[0m \u001b[0manalyz\u001b[0m\u001b[1;33m.\u001b[0m\u001b[0mIO\u001b[0m\u001b[1;33m.\u001b[0m\u001b[0mnpz\u001b[0m \u001b[1;32mimport\u001b[0m \u001b[0mload_dict\u001b[0m\u001b[1;33m\u001b[0m\u001b[1;33m\u001b[0m\u001b[0m\n\u001b[0;32m      4\u001b[0m \u001b[1;32mdef\u001b[0m \u001b[0madd_value_to_study_data\u001b[0m\u001b[1;33m(\u001b[0m\u001b[0mkey\u001b[0m\u001b[1;33m,\u001b[0m \u001b[0mvalue\u001b[0m\u001b[1;33m,\u001b[0m \u001b[0mstudy\u001b[0m\u001b[1;33m=\u001b[0m\u001b[1;34m'study.npy'\u001b[0m\u001b[1;33m)\u001b[0m\u001b[1;33m:\u001b[0m\u001b[1;33m\u001b[0m\u001b[1;33m\u001b[0m\u001b[0m\n\u001b[1;32m----> 5\u001b[1;33m     \u001b[0mModel2\u001b[0m \u001b[1;33m=\u001b[0m \u001b[0mnp\u001b[0m\u001b[1;33m.\u001b[0m\u001b[0mload\u001b[0m\u001b[1;33m(\u001b[0m\u001b[0mstudy\u001b[0m\u001b[1;33m,\u001b[0m \u001b[0mallow_pickle\u001b[0m\u001b[1;33m=\u001b[0m\u001b[1;32mTrue\u001b[0m\u001b[1;33m)\u001b[0m\u001b[1;33m\u001b[0m\u001b[1;33m\u001b[0m\u001b[0m\n\u001b[0m\u001b[0;32m      6\u001b[0m     \u001b[0mModel2\u001b[0m\u001b[1;33m[\u001b[0m\u001b[0mkey\u001b[0m\u001b[1;33m]\u001b[0m \u001b[1;33m=\u001b[0m \u001b[0mvalue\u001b[0m\u001b[1;33m\u001b[0m\u001b[1;33m\u001b[0m\u001b[0m\n\u001b[0;32m      7\u001b[0m     \u001b[0mnp\u001b[0m\u001b[1;33m.\u001b[0m\u001b[0msave\u001b[0m\u001b[1;33m(\u001b[0m\u001b[0mstudy\u001b[0m\u001b[1;33m,\u001b[0m \u001b[0mModel2\u001b[0m\u001b[1;33m)\u001b[0m\u001b[1;33m\u001b[0m\u001b[1;33m\u001b[0m\u001b[0m\n",
      "\u001b[1;32m~\\Anaconda3\\lib\\site-packages\\analyz\\IO\\npz.py\u001b[0m in \u001b[0;36mload_dict\u001b[1;34m(filename)\u001b[0m\n\u001b[0;32m     14\u001b[0m     \u001b[0mdata\u001b[0m \u001b[1;33m=\u001b[0m \u001b[0mnp\u001b[0m\u001b[1;33m.\u001b[0m\u001b[0mload\u001b[0m\u001b[1;33m(\u001b[0m\u001b[0mfilename\u001b[0m\u001b[1;33m,\u001b[0m \u001b[0mallow_pickle\u001b[0m\u001b[1;33m=\u001b[0m\u001b[1;32mTrue\u001b[0m\u001b[1;33m)\u001b[0m\u001b[1;33m\u001b[0m\u001b[1;33m\u001b[0m\u001b[0m\n\u001b[0;32m     15\u001b[0m     \u001b[0moutput\u001b[0m \u001b[1;33m=\u001b[0m \u001b[1;33m{\u001b[0m\u001b[1;33m}\u001b[0m\u001b[1;33m\u001b[0m\u001b[1;33m\u001b[0m\u001b[0m\n\u001b[1;32m---> 16\u001b[1;33m     \u001b[1;32mfor\u001b[0m \u001b[0mkey\u001b[0m \u001b[1;32min\u001b[0m \u001b[0mdata\u001b[0m\u001b[1;33m.\u001b[0m\u001b[0mfiles\u001b[0m\u001b[1;33m:\u001b[0m\u001b[1;33m\u001b[0m\u001b[1;33m\u001b[0m\u001b[0m\n\u001b[0m\u001b[0;32m     17\u001b[0m         \u001b[0moutput\u001b[0m\u001b[1;33m[\u001b[0m\u001b[0mkey\u001b[0m\u001b[1;33m]\u001b[0m \u001b[1;33m=\u001b[0m \u001b[0mdata\u001b[0m\u001b[1;33m[\u001b[0m\u001b[0mkey\u001b[0m\u001b[1;33m]\u001b[0m\u001b[1;33m\u001b[0m\u001b[1;33m\u001b[0m\u001b[0m\n\u001b[0;32m     18\u001b[0m \u001b[1;33m\u001b[0m\u001b[0m\n",
      "\u001b[1;31mAttributeError\u001b[0m: 'numpy.ndarray' object has no attribute 'files'"
     ]
    }
   ],
   "source": [
    "from model import *\n",
    "exp_passive = np.load(os.path.join('data','exp-passive-props-IC.npy'),\n",
    "                      allow_pickle=True).item()\n",
    "RMS, CMS =exp_passive['RMS'], exp_passive['CMS']\n",
    "value = '$R_m$=%.1f$\\pm$%.1f M$\\Omega$, $C_m$=%.1f$\\pm$%.1f pF (n=%i cells)' %\\\n",
    "    (1e-6*np.array(RMS).mean(),\n",
    "     1e-6*np.array(RMS).std(),\n",
    "     1e12*np.array(CMS).mean(),\n",
    "     1e12*np.array(CMS).std(),\n",
    "     len(CMS))\n",
    "\n",
    "add_value_to_study_data('exp-passive-props', value, study='study.npy')"
   ]
  },
  {
   "cell_type": "code",
   "execution_count": 46,
   "metadata": {
    "collapsed": false
   },
   "outputs": [
    {
     "name": "stdout",
     "output_type": "stream",
     "text": [
      "RUNNING: inkscape ..\\figures\\passive-props.svg --export-area-page --export-background=\"white\" --export-type=png --export-filename=\"..\\figures\\passive-props.png\" --export-dpi=300\n",
      "[ok] figure successfully exported as: ..\\figures\\passive-props.png\n"
     ]
    }
   ],
   "source": [
    "ge.multipanel_figure([[fig1, fig2]],\n",
    "                     X=[[0, 180]], Y=[[-3, -8]],\n",
    "                     width='one-and-a-half-column',\n",
    "                     height=35,\n",
    "                     export_to_png=True,\n",
    "            fig_name=os.path.join('..', 'figures','passive-props.svg'))"
   ]
  }
 ],
 "metadata": {
  "kernelspec": {
   "argv": [
    "C:/Users/yann.zerlaut/Anaconda3\\python.exe",
    "-m",
    "ipykernel_launcher",
    "-f",
    "{connection_file}"
   ],
   "display_name": "Python 3",
   "env": null,
   "interrupt_mode": "signal",
   "language": "python",
   "metadata": null,
   "name": "python3"
  },
  "language_info": {
   "codemirror_mode": {
    "name": "ipython",
    "version": 3
   },
   "file_extension": ".py",
   "mimetype": "text/x-python",
   "name": "python",
   "nbconvert_exporter": "python",
   "pygments_lexer": "ipython3",
   "version": "3.7.4"
  },
  "name": "passive-props.ipynb"
 },
 "nbformat": 4,
 "nbformat_minor": 2
}
