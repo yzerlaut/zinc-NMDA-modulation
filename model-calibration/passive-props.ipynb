{
 "cells": [
  {
   "cell_type": "code",
   "execution_count": 23,
   "metadata": {
    "collapsed": false
   },
   "outputs": [],
   "source": [
    "%matplotlib inline\n",
    "from datavyz import ges as ge"
   ]
  },
  {
   "cell_type": "markdown",
   "metadata": {
    "collapsed": false
   },
   "source": [
    "# Calibrating Passive properties"
   ]
  },
  {
   "cell_type": "code",
   "execution_count": 24,
   "metadata": {
    "collapsed": false
   },
   "outputs": [],
   "source": [
    "## Running scans over grids for model parameters\n",
    "import sys\n",
    "sys.path.append('../')\n",
    "from model import Model # the grid bounds are stored in the model file\n",
    "\n",
    "import numpy as np\n",
    "import os\n",
    "from analyz.workflow.batch_run import GridSimulation, bash_script\n",
    "\n",
    "## PASSIVE PROPS\n",
    "GRID = {'gL': np.linspace(Model['gL_min'], Model['gL_max'], Model['N_gL']), #np.linspace(0.02, 2., N),\n",
    "        'cm':np.linspace(Model['cm_min'], Model['cm_max'], Model['N_cm'])} #np.linspace(0.5, 2., N)}\n",
    "\n",
    "np.savez(os.path.join('..', 'data', 'calib', 'passive-grid.npz'), **GRID)\n",
    "# Making a bash script to run a scan on the above grid grid\n",
    "sim = GridSimulation(GRID)\n",
    "bs = bash_script('calib-passive')\n",
    "bs.script = sim.build_script('python passive_props.py calib',\n",
    "                             base_script=bs.script, simultaneous_runs=8)\n",
    "bs.write(folder=os.path.join('..', 'bash'))"
   ]
  },
  {
   "cell_type": "markdown",
   "metadata": {
    "collapsed": false
   },
   "source": [
    "### Fitting the somatic response in experimental data to estimate passive properties"
   ]
  },
  {
   "cell_type": "code",
   "execution_count": 25,
   "metadata": {
    "collapsed": false
   },
   "outputs": [
    {
     "name": "stdout",
     "output_type": "stream",
     "text": [
      "Rm=137.53+/-50.16 MOhm,\n",
      "Cm=211.87+/-45.89 pF\n"
     ]
    }
   ],
   "source": [
    "from data.exp_datasets import *\n",
    "from data.Import import LoadICData\n",
    "from datavyz import gen\n",
    "\n",
    "import sys, os\n",
    "sys.path.append(os.path.join(os.path.expanduser('~'), 'work', 'cortical-physio-icm')) # append CPI to y\n",
    "from electrophy.intracellular.passive_props import perform_ICcharact\n",
    "\n",
    "def fit_passive_props(data, ax=None, with_plot=False):\n",
    "\n",
    "    cond = (data['t']>600)\n",
    "    t, v = data['t'][cond]-data['t'][cond][0], data['recordings'][data['Vrec_key']].mean(axis=0)[cond]\n",
    "    if with_plot:\n",
    "        return perform_ICcharact(1e-3*t, 1e-3*v,\n",
    "                                 t0=IC_t0s[i]*1e-3, t1=(IC_t0s[i]+IC_dts[i])*1e-3,\n",
    "                                 Istep=-30e-12, ax=ax, with_plot=True, ge=gen)\n",
    "    else:\n",
    "        return perform_ICcharact(1e-3*t, 1e-3*v, t0=IC_t0s[i]*1e-3, t1=(IC_t0s[i]+IC_dts[i])*1e-3,\n",
    "                                   Istep=-30e-12, with_plot=False)\n",
    "\n",
    "RMS, CMS = [], []\n",
    "for i in range(len(IC_STEPS_DATASET)):\n",
    "    data = LoadICData(i)\n",
    "    Rm, Cm = fit_passive_props(data)\n",
    "    RMS.append(Rm)\n",
    "    CMS.append(Cm)\n",
    "\n",
    "expRm = np.array(RMS).mean()\n",
    "expCm = np.array(CMS).mean()\n",
    "print('Rm=%.2f+/-%.2f MOhm,\\nCm=%.2f+/-%.2f pF' % (1e-6*np.array(RMS).mean(),\n",
    "                                                   1e-6*np.array(RMS).std(),\n",
    "                                                   1e12*np.array(CMS).mean(),\n",
    "                                                   1e12*np.array(CMS).std()))\n"
   ]
  },
  {
   "cell_type": "code",
   "execution_count": 26,
   "metadata": {
    "collapsed": false
   },
   "outputs": [
    {
     "data": {
      "image/png": "[encoded data removed]",
      "text/plain": [
       "<Figure size 294.803x260.787 with 1 Axes>"
      ]
     },
     "metadata": {},
     "output_type": "display_data"
    }
   ],
   "source": [
    "fit_passive_props(LoadICData(10), with_plot=True);"
   ]
  },
  {
   "cell_type": "markdown",
   "metadata": {
    "collapsed": false
   },
   "source": [
    "### Minimizing model parameters with respect to data"
   ]
  },
  {
   "cell_type": "code",
   "execution_count": 27,
   "metadata": {
    "collapsed": false
   },
   "outputs": [
    {
     "name": "stdout",
     "output_type": "stream",
     "text": [
      "Rm=137.53+/-50.16 MOhm,\n",
      "Cm=211.87+/-45.89 pF\n"
     ]
    }
   ],
   "source": [
    "from data.exp_datasets import *\n",
    "from data.Import import LoadICData\n",
    "from datavyz import gen\n",
    "\n",
    "import sys, os\n",
    "sys.path.append(os.path.join(os.path.expanduser('~'), 'work', 'cortical-physio-icm')) # append CPI to y\n",
    "from electrophy.intracellular.passive_props import perform_ICcharact\n",
    "\n",
    "def fit_passive_props(data, ax=None, with_plot=False):\n",
    "\n",
    "    cond = (data['t']>600)\n",
    "    t, v = data['t'][cond]-data['t'][cond][0], data['recordings'][data['Vrec_key']].mean(axis=0)[cond]\n",
    "    if with_plot:\n",
    "        return perform_ICcharact(1e-3*t, 1e-3*v,\n",
    "                                 t0=IC_t0s[i]*1e-3, t1=(IC_t0s[i]+IC_dts[i])*1e-3,\n",
    "                                 Istep=-30e-12, ax=ax, with_plot=True, ge=gen)\n",
    "    else:\n",
    "        return perform_ICcharact(1e-3*t, 1e-3*v, t0=IC_t0s[i]*1e-3, t1=(IC_t0s[i]+IC_dts[i])*1e-3,\n",
    "                                   Istep=-30e-12, with_plot=False)\n",
    "\n",
    "RMS, CMS = [], []\n",
    "for i in range(len(IC_STEPS_DATASET)):\n",
    "    data = LoadICData(i)\n",
    "    Rm, Cm = fit_passive_props(data)\n",
    "    RMS.append(Rm)\n",
    "    CMS.append(Cm)\n",
    "\n",
    "expRm = np.array(RMS).mean()\n",
    "expCm = np.array(CMS).mean()\n",
    "print('Rm=%.2f+/-%.2f MOhm,\\nCm=%.2f+/-%.2f pF' % (1e-6*np.array(RMS).mean(),\n",
    "                                                   1e-6*np.array(RMS).std(),\n",
    "                                                   1e12*np.array(CMS).mean(),\n",
    "                                                   1e12*np.array(CMS).std()))"
   ]
  },
  {
   "cell_type": "code",
   "execution_count": 28,
   "metadata": {
    "collapsed": false
   },
   "outputs": [
    {
     "name": "stdout",
     "output_type": "stream",
     "text": [
      "0.2931034482758621 0.9137931034482758 100.0\n"
     ]
    },
    {
     "data": {
      "image/png": "[encoded data removed]",
      "text/plain": [
       "<Figure size 238.11x204.094 with 1 Axes>"
      ]
     },
     "metadata": {},
     "output_type": "display_data"
    }
   ],
   "source": [
    "from analyz.IO.npz import load_dict\n",
    "import sys, os\n",
    "sys.path.append(os.path.join(os.path.expanduser('~'), 'work', 'cortical-physio-icm')) # append CPI to y\n",
    "from electrophy.intracellular.passive_props import perform_ICcharact\n",
    "\n",
    "sim = GridSimulation(os.path.join('..', 'data', 'calib', 'passive-grid.npz'))\n",
    "sim_results = {'Rm':np.zeros(sim.N), 'Cm':np.zeros(sim.N),\n",
    "               'gL':np.zeros(sim.N), 'cm':np.zeros(sim.N),\n",
    "               'residual':np.zeros(sim.N)}\n",
    "\n",
    "# looping over simulations\n",
    "for index in range(int(sim.N)):\n",
    "    output = load_dict(os.path.join('..', 'data', 'calib', sim.params_filename(index)+'.npz'))\n",
    "    Rm, Cm = perform_ICcharact(1e-3*output['t'],\n",
    "                               1e-3*output['Vm_soma'],\n",
    "                               t0=50e-3, t1=150e-3)\n",
    "    sim_results['Rm'][index], sim_results['Cm'][index] = Rm, Cm\n",
    "    D = {}\n",
    "    sim.update_dict_from_GRID_and_index(index, D)\n",
    "    sim_results['gL'][index], sim_results['cm'][index] = D['gL'], D['cm']\n",
    "    sim_results['residual'][index] = (1+(Rm-expRm)**2/expRm**2)*(1+(Cm-expCm)**2/expCm**2)\n",
    "\n",
    "# perform minimization\n",
    "ibest = np.argmin(sim_results['residual'])\n",
    "\n",
    "# show output\n",
    "output = load_dict(os.path.join('..', 'data', 'calib', sim.params_filename(ibest)+'.npz'))\n",
    "fig, ax, modelRm, modelCm = perform_ICcharact(1e-3*output['t'], 1e-3*output['Vm_soma'],\n",
    "                                              t0=50e-3, t1=150e-3, with_plot=True, ge=ge)\n",
    "\n",
    "# save results as default passive props\n",
    "from model import Model\n",
    "sim.update_dict_from_GRID_and_index(ibest, Model) # update Model parameters\n",
    "print(Model['gL'], Model['cm'], Model['Ri'])\n",
    "np.savez(os.path.join('..', 'data','passive-props-IC.npz'), **{'gL':Model['gL'], 'cm':Model['cm'], 'filename':os.path.join('..', 'data', 'calib', sim.params_filename(ibest)+'.npz')})"
   ]
  },
  {
   "cell_type": "code",
   "execution_count": 29,
   "metadata": {
    "collapsed": false
   },
   "outputs": [
    {
     "data": {
      "image/png": "[encoded data removed]",
      "text/plain": [
       "<Figure size 147.458x102.047 with 2 Axes>"
      ]
     },
     "metadata": {},
     "output_type": "display_data"
    }
   ],
   "source": [
    "from datavyz import ge\n",
    "fig11, ax, acb = ge.twoD_plot(sim_results['gL'], sim_results['cm'],\n",
    "                             sim_results['residual'],\n",
    "                             vmin=0.8, vmax=1.6, colormap=ge.viridis,\n",
    "                             bar_legend_args={'label':r'$\\chi^2$ - residual    ',\n",
    "                                              'ticks':[0.8, 1.2, 1.6]},\n",
    "                             axes_args=dict(xlim_enhancement=0., ylim_enhancement=0., tck_outward=0,\n",
    "                                            xlabel='$g_L$ (pS/$\\mu$m$^2$)',\n",
    "                                            xticks=[0.1, 0.9, 1.7],\n",
    "                                            ylabel='$c_m$ ($\\mu$F/cm$^2$)       '),\n",
    "                             aspect='auto');\n",
    "ge.scatter([Model['gL']], [Model['cm']], ax=ax, ms=2, no_set=True)\n",
    "acb.set_ticklabels(['0.8', '1.2', '$\\geq$1.6'])\n",
    "ge.top_left_letter(ax, 'i', loc=(-.5,1.))\n",
    "ge.savefig(fig11, 'figures/fig11.svg')"
   ]
  },
  {
   "cell_type": "code",
   "execution_count": 30,
   "metadata": {
    "collapsed": false
   },
   "outputs": [
    {
     "data": {
      "image/png": "[encoded data removed]",
      "text/plain": [
       "<Figure size 150.35x112.252 with 2 Axes>"
      ]
     },
     "metadata": {},
     "output_type": "display_data"
    }
   ],
   "source": [
    "from datavyz import ge\n",
    "fig12, AX = ge.figure(axes=(2,1), figsize=(0.6,1.1), wspace=3.)\n",
    "\n",
    "ge.bar([1e-6*np.array(RMS).mean()], sy=[1e-6*np.array(RMS).std()], width=0.75, ax=AX[0], no_set=True)\n",
    "ge.bar(np.array([1e-6*np.array(RMS).mean()]), width=0.75, bins=[1], ax=AX[0], color='k', no_set=True)\n",
    "ge.set_plot(AX[0], ylabel='$R_m$ (M$\\Omega$)    ', ylabelpad=-4, xticks=[0,1],\n",
    "            xticks_labels=['data','model'], xticks_rotation=50)\n",
    "\n",
    "ge.bar([1e12*np.array(CMS).mean()], sy=[1e12*np.array(CMS).std()], width=0.75, ax=AX[1], no_set=True)\n",
    "ge.bar(np.array([1e12*np.array(CMS).mean()]), width=0.75, bins=[1], ax=AX[1], color='k', no_set=True)\n",
    "ge.set_plot(AX[1], ylabel='$C_m$ (pF)    ', ylabelpad=-1, xticks=[0,1],\n",
    "            xticks_labels=['data','model'], xticks_rotation=50)\n",
    "for l, ax in zip(['ii', 'iii'], AX):\n",
    "    ge.top_left_letter(ax, l, loc=(-1.1,.9))\n",
    "ge.savefig(fig12, 'figures/fig12.svg')"
   ]
  }
 ],
 "metadata": {
  "kernelspec": {
   "argv": [
    "/home/yann/anaconda3/bin/python",
    "-m",
    "ipykernel_launcher",
    "-f",
    "{connection_file}"
   ],
   "display_name": "Python 3",
   "env": null,
   "interrupt_mode": "signal",
   "language": "python",
   "metadata": null,
   "name": "python3"
  },
  "language_info": {
   "codemirror_mode": {
    "name": "ipython",
    "version": 3
   },
   "file_extension": ".py",
   "mimetype": "text/x-python",
   "name": "python",
   "nbconvert_exporter": "python",
   "pygments_lexer": "ipython3",
   "version": "3.7.4"
  },
  "name": "passive-props.ipynb"
 },
 "nbformat": 4,
 "nbformat_minor": 2
}
