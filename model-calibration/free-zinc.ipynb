{
 "cells": [
  {
   "cell_type": "code",
   "execution_count": 1,
   "metadata": {
    "collapsed": false
   },
   "outputs": [],
   "source": [
    "%matplotlib inline\n",
    "from datavyz import ge"
   ]
  },
  {
   "cell_type": "markdown",
   "metadata": {
    "collapsed": false
   },
   "source": [
    "Need to be in parent directory (e.g. cd ..)"
   ]
  },
  {
   "cell_type": "code",
   "execution_count": 6,
   "metadata": {
    "collapsed": false
   },
   "outputs": [
    {
     "name": "stdout",
     "output_type": "stream",
     "text": [
      "C:\\Users\\yann.zerlaut\\work\\zinc-NMDA-modulation\n"
     ]
    }
   ],
   "source": [
    "cd .."
   ]
  },
  {
   "cell_type": "code",
   "execution_count": 7,
   "metadata": {
    "collapsed": false
   },
   "outputs": [],
   "source": [
    "### Running scans over grids for model parameters\n",
    "from model import Model # the grid bounds are stored in the model file\n",
    "\n",
    "import numpy as np\n",
    "import os\n",
    "from analyz.workflow.batch_run import GridSimulation, bash_script\n",
    "\n",
    "## ZINC-MODULATION PROPS\n",
    "GRID = {'alphaZn':np.linspace(Model['alphaZn_min'], Model['alphaZn_max'], Model['N_alphaZn'])[1::2],\n",
    "        # 'tauRiseZn':np.linspace(Model['tauRiseZn_min'],Model['tauRiseZn_max'], Model['N_tauRiseZn']),\n",
    "        'tauDecayZn':np.linspace(Model['tauDecayZn_min'], Model['tauDecayZn_max'], Model['N_tauDecayZn'])}\n",
    "\n",
    "np.save(os.path.join('data', 'calib', 'free-zinc-calib-grid.npy'), GRID)\n",
    "\n",
    "# Making a bash script to run a scan on the above grid grid\n",
    "sim = GridSimulation(GRID) # os.path.join('..', 'data', 'calib', 'passive-grid.npz'))\n",
    "bs = bash_script('calib-free-zinc')\n",
    "bs.script = sim.build_script('python calibration_runs.py free-zinc-calib',\n",
    "                             base_script=bs.script, simultaneous_runs=3*8)\n",
    "bs.write(folder='bash/')"
   ]
  },
  {
   "cell_type": "code",
   "execution_count": 8,
   "metadata": {
    "collapsed": false
   },
   "outputs": [
    {
     "data": {
      "text/plain": [
       "{'alphaZn': array([0.11724138, 0.15172414, 0.1862069 , 0.22068966, 0.25517241,\n",
       "        0.28965517, 0.32413793, 0.35862069, 0.39310345, 0.42758621,\n",
       "        0.46206897, 0.49655172, 0.53103448, 0.56551724, 0.6       ]),\n",
       " 'tauDecayZn': array([ 100.        ,  141.37931034,  182.75862069,  224.13793103,\n",
       "         265.51724138,  306.89655172,  348.27586207,  389.65517241,\n",
       "         431.03448276,  472.4137931 ,  513.79310345,  555.17241379,\n",
       "         596.55172414,  637.93103448,  679.31034483,  720.68965517,\n",
       "         762.06896552,  803.44827586,  844.82758621,  886.20689655,\n",
       "         927.5862069 ,  968.96551724, 1010.34482759, 1051.72413793,\n",
       "        1093.10344828, 1134.48275862, 1175.86206897, 1217.24137931,\n",
       "        1258.62068966, 1300.        ])}"
      ]
     },
     "execution_count": 8,
     "metadata": {},
     "output_type": "execute_result"
    }
   ],
   "source": [
    "GRID"
   ]
  },
  {
   "cell_type": "code",
   "execution_count": 9,
   "metadata": {
    "collapsed": false
   },
   "outputs": [
    {
     "name": "stdout",
     "output_type": "stream",
     "text": [
      "grid_index  ->  73\n",
      "filename  ->  data/calib/alphaZn_0.186207--tauDecayZn_637.931034.npz\n",
      "alphaZn  ->  0.18620689655172415\n",
      "tauDecayZn  ->  637.9310344827586\n"
     ]
    }
   ],
   "source": [
    "from analyz.IO.npz import load_dict\n",
    "D = np.load('./data/calib/best-freeZn-config.npy', allow_pickle=True).item()\n",
    "for key in D:\n",
    "    print(key, ' -> ', D[key])"
   ]
  },
  {
   "cell_type": "code",
   "execution_count": 10,
   "metadata": {
    "collapsed": false
   },
   "outputs": [],
   "source": [
    "import os\n",
    "import numpy as np\n",
    "from analyz.workflow.batch_run import slurm_script, bash_script, GridSimulation\n",
    "from analyz.IO.npz import load_dict"
   ]
  },
  {
   "cell_type": "code",
   "execution_count": 40,
   "metadata": {
    "collapsed": false
   },
   "outputs": [
    {
     "ename": "ValueError",
     "evalue": "x and y must have same first dimension, but have shapes (7499,) and (1999,)",
     "output_type": "error",
     "traceback": [
      "\u001b[1;31m---------------------------------------------------------------------------\u001b[0m",
      "\u001b[1;31mValueError\u001b[0m                                Traceback (most recent call last)",
      "\u001b[1;32m<ipython-input-40-a775904728f4>\u001b[0m in \u001b[0;36m<module>\u001b[1;34m\u001b[0m\n\u001b[0;32m     16\u001b[0m     \u001b[0mtrace_exp\u001b[0m \u001b[1;33m=\u001b[0m \u001b[0mcalib_data\u001b[0m\u001b[1;33m[\u001b[0m\u001b[1;34m'Iexp_freeZn_%s'\u001b[0m \u001b[1;33m%\u001b[0m \u001b[0mcond\u001b[0m\u001b[1;33m]\u001b[0m\u001b[1;33m\u001b[0m\u001b[1;33m\u001b[0m\u001b[0m\n\u001b[0;32m     17\u001b[0m \u001b[1;33m\u001b[0m\u001b[0m\n\u001b[1;32m---> 18\u001b[1;33m     \u001b[0max\u001b[0m\u001b[1;33m.\u001b[0m\u001b[0mplot\u001b[0m\u001b[1;33m(\u001b[0m\u001b[0mcalib_data\u001b[0m\u001b[1;33m[\u001b[0m\u001b[1;34m't_%s'\u001b[0m \u001b[1;33m%\u001b[0m \u001b[0mcond\u001b[0m\u001b[1;33m]\u001b[0m\u001b[1;33m,\u001b[0m \u001b[0mtrace_model\u001b[0m\u001b[1;33m,\u001b[0m \u001b[0mcolor\u001b[0m\u001b[1;33m=\u001b[0m\u001b[0mge\u001b[0m\u001b[1;33m.\u001b[0m\u001b[0mdefault_color\u001b[0m\u001b[1;33m,\u001b[0m \u001b[0mlabel\u001b[0m\u001b[1;33m=\u001b[0m\u001b[1;34m'model'\u001b[0m\u001b[1;33m)\u001b[0m\u001b[1;33m\u001b[0m\u001b[1;33m\u001b[0m\u001b[0m\n\u001b[0m\u001b[0;32m     19\u001b[0m     \u001b[0max\u001b[0m\u001b[1;33m.\u001b[0m\u001b[0mplot\u001b[0m\u001b[1;33m(\u001b[0m\u001b[0mcalib_data\u001b[0m\u001b[1;33m[\u001b[0m\u001b[1;34m't_%s'\u001b[0m \u001b[1;33m%\u001b[0m \u001b[0mcond\u001b[0m\u001b[1;33m]\u001b[0m\u001b[1;33m,\u001b[0m \u001b[0mtrace_exp\u001b[0m\u001b[1;33m,\u001b[0m \u001b[0mcolor\u001b[0m\u001b[1;33m=\u001b[0m\u001b[0mge\u001b[0m\u001b[1;33m.\u001b[0m\u001b[0mblue\u001b[0m\u001b[1;33m,\u001b[0m \u001b[0mlabel\u001b[0m\u001b[1;33m=\u001b[0m\u001b[1;34m'data'\u001b[0m\u001b[1;33m)\u001b[0m\u001b[1;33m\u001b[0m\u001b[1;33m\u001b[0m\u001b[0m\n\u001b[0;32m     20\u001b[0m \u001b[1;33m\u001b[0m\u001b[0m\n",
      "\u001b[1;32m~\\Anaconda3\\lib\\site-packages\\matplotlib\\axes\\_axes.py\u001b[0m in \u001b[0;36mplot\u001b[1;34m(self, scalex, scaley, data, *args, **kwargs)\u001b[0m\n\u001b[0;32m   1645\u001b[0m         \"\"\"\n\u001b[0;32m   1646\u001b[0m         \u001b[0mkwargs\u001b[0m \u001b[1;33m=\u001b[0m \u001b[0mcbook\u001b[0m\u001b[1;33m.\u001b[0m\u001b[0mnormalize_kwargs\u001b[0m\u001b[1;33m(\u001b[0m\u001b[0mkwargs\u001b[0m\u001b[1;33m,\u001b[0m \u001b[0mmlines\u001b[0m\u001b[1;33m.\u001b[0m\u001b[0mLine2D\u001b[0m\u001b[1;33m)\u001b[0m\u001b[1;33m\u001b[0m\u001b[1;33m\u001b[0m\u001b[0m\n\u001b[1;32m-> 1647\u001b[1;33m         \u001b[0mlines\u001b[0m \u001b[1;33m=\u001b[0m \u001b[1;33m[\u001b[0m\u001b[1;33m*\u001b[0m\u001b[0mself\u001b[0m\u001b[1;33m.\u001b[0m\u001b[0m_get_lines\u001b[0m\u001b[1;33m(\u001b[0m\u001b[1;33m*\u001b[0m\u001b[0margs\u001b[0m\u001b[1;33m,\u001b[0m \u001b[0mdata\u001b[0m\u001b[1;33m=\u001b[0m\u001b[0mdata\u001b[0m\u001b[1;33m,\u001b[0m \u001b[1;33m**\u001b[0m\u001b[0mkwargs\u001b[0m\u001b[1;33m)\u001b[0m\u001b[1;33m]\u001b[0m\u001b[1;33m\u001b[0m\u001b[1;33m\u001b[0m\u001b[0m\n\u001b[0m\u001b[0;32m   1648\u001b[0m         \u001b[1;32mfor\u001b[0m \u001b[0mline\u001b[0m \u001b[1;32min\u001b[0m \u001b[0mlines\u001b[0m\u001b[1;33m:\u001b[0m\u001b[1;33m\u001b[0m\u001b[1;33m\u001b[0m\u001b[0m\n\u001b[0;32m   1649\u001b[0m             \u001b[0mself\u001b[0m\u001b[1;33m.\u001b[0m\u001b[0madd_line\u001b[0m\u001b[1;33m(\u001b[0m\u001b[0mline\u001b[0m\u001b[1;33m)\u001b[0m\u001b[1;33m\u001b[0m\u001b[1;33m\u001b[0m\u001b[0m\n",
      "\u001b[1;32m~\\Anaconda3\\lib\\site-packages\\matplotlib\\axes\\_base.py\u001b[0m in \u001b[0;36m__call__\u001b[1;34m(self, *args, **kwargs)\u001b[0m\n\u001b[0;32m    214\u001b[0m                 \u001b[0mthis\u001b[0m \u001b[1;33m+=\u001b[0m \u001b[0margs\u001b[0m\u001b[1;33m[\u001b[0m\u001b[1;36m0\u001b[0m\u001b[1;33m]\u001b[0m\u001b[1;33m,\u001b[0m\u001b[1;33m\u001b[0m\u001b[1;33m\u001b[0m\u001b[0m\n\u001b[0;32m    215\u001b[0m                 \u001b[0margs\u001b[0m \u001b[1;33m=\u001b[0m \u001b[0margs\u001b[0m\u001b[1;33m[\u001b[0m\u001b[1;36m1\u001b[0m\u001b[1;33m:\u001b[0m\u001b[1;33m]\u001b[0m\u001b[1;33m\u001b[0m\u001b[1;33m\u001b[0m\u001b[0m\n\u001b[1;32m--> 216\u001b[1;33m             \u001b[1;32myield\u001b[0m \u001b[1;32mfrom\u001b[0m \u001b[0mself\u001b[0m\u001b[1;33m.\u001b[0m\u001b[0m_plot_args\u001b[0m\u001b[1;33m(\u001b[0m\u001b[0mthis\u001b[0m\u001b[1;33m,\u001b[0m \u001b[0mkwargs\u001b[0m\u001b[1;33m)\u001b[0m\u001b[1;33m\u001b[0m\u001b[1;33m\u001b[0m\u001b[0m\n\u001b[0m\u001b[0;32m    217\u001b[0m \u001b[1;33m\u001b[0m\u001b[0m\n\u001b[0;32m    218\u001b[0m     \u001b[1;32mdef\u001b[0m \u001b[0mget_next_color\u001b[0m\u001b[1;33m(\u001b[0m\u001b[0mself\u001b[0m\u001b[1;33m)\u001b[0m\u001b[1;33m:\u001b[0m\u001b[1;33m\u001b[0m\u001b[1;33m\u001b[0m\u001b[0m\n",
      "\u001b[1;32m~\\Anaconda3\\lib\\site-packages\\matplotlib\\axes\\_base.py\u001b[0m in \u001b[0;36m_plot_args\u001b[1;34m(self, tup, kwargs)\u001b[0m\n\u001b[0;32m    340\u001b[0m \u001b[1;33m\u001b[0m\u001b[0m\n\u001b[0;32m    341\u001b[0m         \u001b[1;32mif\u001b[0m \u001b[0mx\u001b[0m\u001b[1;33m.\u001b[0m\u001b[0mshape\u001b[0m\u001b[1;33m[\u001b[0m\u001b[1;36m0\u001b[0m\u001b[1;33m]\u001b[0m \u001b[1;33m!=\u001b[0m \u001b[0my\u001b[0m\u001b[1;33m.\u001b[0m\u001b[0mshape\u001b[0m\u001b[1;33m[\u001b[0m\u001b[1;36m0\u001b[0m\u001b[1;33m]\u001b[0m\u001b[1;33m:\u001b[0m\u001b[1;33m\u001b[0m\u001b[1;33m\u001b[0m\u001b[0m\n\u001b[1;32m--> 342\u001b[1;33m             raise ValueError(f\"x and y must have same first dimension, but \"\n\u001b[0m\u001b[0;32m    343\u001b[0m                              f\"have shapes {x.shape} and {y.shape}\")\n\u001b[0;32m    344\u001b[0m         \u001b[1;32mif\u001b[0m \u001b[0mx\u001b[0m\u001b[1;33m.\u001b[0m\u001b[0mndim\u001b[0m \u001b[1;33m>\u001b[0m \u001b[1;36m2\u001b[0m \u001b[1;32mor\u001b[0m \u001b[0my\u001b[0m\u001b[1;33m.\u001b[0m\u001b[0mndim\u001b[0m \u001b[1;33m>\u001b[0m \u001b[1;36m2\u001b[0m\u001b[1;33m:\u001b[0m\u001b[1;33m\u001b[0m\u001b[1;33m\u001b[0m\u001b[0m\n",
      "\u001b[1;31mValueError\u001b[0m: x and y must have same first dimension, but have shapes (7499,) and (1999,)"
     ]
    },
    {
     "data": {
      "image/png": "[encoded data removed]",
      "text/plain": [
       "<Figure size 1181.03x365.102 with 2 Axes>"
      ]
     },
     "metadata": {
      "needs_background": "light"
     },
     "output_type": "display_data"
    },
    {
     "ename": "ValueError",
     "evalue": "x and y must have same first dimension, but have shapes (7499,) and (1999,)",
     "output_type": "error",
     "traceback": [
      "\u001b[1;31m---------------------------------------------------------------------------\u001b[0m",
      "\u001b[1;31mValueError\u001b[0m                                Traceback (most recent call last)",
      "\u001b[1;32m<ipython-input-40-a775904728f4>\u001b[0m in \u001b[0;36m<module>\u001b[1;34m\u001b[0m\n\u001b[0;32m     16\u001b[0m     \u001b[0mtrace_exp\u001b[0m \u001b[1;33m=\u001b[0m \u001b[0mcalib_data\u001b[0m\u001b[1;33m[\u001b[0m\u001b[1;34m'Iexp_freeZn_%s'\u001b[0m \u001b[1;33m%\u001b[0m \u001b[0mcond\u001b[0m\u001b[1;33m]\u001b[0m\u001b[1;33m\u001b[0m\u001b[1;33m\u001b[0m\u001b[0m\n\u001b[0;32m     17\u001b[0m \u001b[1;33m\u001b[0m\u001b[0m\n\u001b[1;32m---> 18\u001b[1;33m     \u001b[0max\u001b[0m\u001b[1;33m.\u001b[0m\u001b[0mplot\u001b[0m\u001b[1;33m(\u001b[0m\u001b[0mcalib_data\u001b[0m\u001b[1;33m[\u001b[0m\u001b[1;34m't_%s'\u001b[0m \u001b[1;33m%\u001b[0m \u001b[0mcond\u001b[0m\u001b[1;33m]\u001b[0m\u001b[1;33m,\u001b[0m \u001b[0mtrace_model\u001b[0m\u001b[1;33m,\u001b[0m \u001b[0mcolor\u001b[0m\u001b[1;33m=\u001b[0m\u001b[0mge\u001b[0m\u001b[1;33m.\u001b[0m\u001b[0mdefault_color\u001b[0m\u001b[1;33m,\u001b[0m \u001b[0mlabel\u001b[0m\u001b[1;33m=\u001b[0m\u001b[1;34m'model'\u001b[0m\u001b[1;33m)\u001b[0m\u001b[1;33m\u001b[0m\u001b[1;33m\u001b[0m\u001b[0m\n\u001b[0m\u001b[0;32m     19\u001b[0m     \u001b[0max\u001b[0m\u001b[1;33m.\u001b[0m\u001b[0mplot\u001b[0m\u001b[1;33m(\u001b[0m\u001b[0mcalib_data\u001b[0m\u001b[1;33m[\u001b[0m\u001b[1;34m't_%s'\u001b[0m \u001b[1;33m%\u001b[0m \u001b[0mcond\u001b[0m\u001b[1;33m]\u001b[0m\u001b[1;33m,\u001b[0m \u001b[0mtrace_exp\u001b[0m\u001b[1;33m,\u001b[0m \u001b[0mcolor\u001b[0m\u001b[1;33m=\u001b[0m\u001b[0mge\u001b[0m\u001b[1;33m.\u001b[0m\u001b[0mblue\u001b[0m\u001b[1;33m,\u001b[0m \u001b[0mlabel\u001b[0m\u001b[1;33m=\u001b[0m\u001b[1;34m'data'\u001b[0m\u001b[1;33m)\u001b[0m\u001b[1;33m\u001b[0m\u001b[1;33m\u001b[0m\u001b[0m\n\u001b[0;32m     20\u001b[0m \u001b[1;33m\u001b[0m\u001b[0m\n",
      "\u001b[1;32m~\\Anaconda3\\lib\\site-packages\\matplotlib\\axes\\_axes.py\u001b[0m in \u001b[0;36mplot\u001b[1;34m(self, scalex, scaley, data, *args, **kwargs)\u001b[0m\n\u001b[0;32m   1645\u001b[0m         \"\"\"\n\u001b[0;32m   1646\u001b[0m         \u001b[0mkwargs\u001b[0m \u001b[1;33m=\u001b[0m \u001b[0mcbook\u001b[0m\u001b[1;33m.\u001b[0m\u001b[0mnormalize_kwargs\u001b[0m\u001b[1;33m(\u001b[0m\u001b[0mkwargs\u001b[0m\u001b[1;33m,\u001b[0m \u001b[0mmlines\u001b[0m\u001b[1;33m.\u001b[0m\u001b[0mLine2D\u001b[0m\u001b[1;33m)\u001b[0m\u001b[1;33m\u001b[0m\u001b[1;33m\u001b[0m\u001b[0m\n\u001b[1;32m-> 1647\u001b[1;33m         \u001b[0mlines\u001b[0m \u001b[1;33m=\u001b[0m \u001b[1;33m[\u001b[0m\u001b[1;33m*\u001b[0m\u001b[0mself\u001b[0m\u001b[1;33m.\u001b[0m\u001b[0m_get_lines\u001b[0m\u001b[1;33m(\u001b[0m\u001b[1;33m*\u001b[0m\u001b[0margs\u001b[0m\u001b[1;33m,\u001b[0m \u001b[0mdata\u001b[0m\u001b[1;33m=\u001b[0m\u001b[0mdata\u001b[0m\u001b[1;33m,\u001b[0m \u001b[1;33m**\u001b[0m\u001b[0mkwargs\u001b[0m\u001b[1;33m)\u001b[0m\u001b[1;33m]\u001b[0m\u001b[1;33m\u001b[0m\u001b[1;33m\u001b[0m\u001b[0m\n\u001b[0m\u001b[0;32m   1648\u001b[0m         \u001b[1;32mfor\u001b[0m \u001b[0mline\u001b[0m \u001b[1;32min\u001b[0m \u001b[0mlines\u001b[0m\u001b[1;33m:\u001b[0m\u001b[1;33m\u001b[0m\u001b[1;33m\u001b[0m\u001b[0m\n\u001b[0;32m   1649\u001b[0m             \u001b[0mself\u001b[0m\u001b[1;33m.\u001b[0m\u001b[0madd_line\u001b[0m\u001b[1;33m(\u001b[0m\u001b[0mline\u001b[0m\u001b[1;33m)\u001b[0m\u001b[1;33m\u001b[0m\u001b[1;33m\u001b[0m\u001b[0m\n",
      "\u001b[1;32m~\\Anaconda3\\lib\\site-packages\\matplotlib\\axes\\_base.py\u001b[0m in \u001b[0;36m__call__\u001b[1;34m(self, *args, **kwargs)\u001b[0m\n\u001b[0;32m    214\u001b[0m                 \u001b[0mthis\u001b[0m \u001b[1;33m+=\u001b[0m \u001b[0margs\u001b[0m\u001b[1;33m[\u001b[0m\u001b[1;36m0\u001b[0m\u001b[1;33m]\u001b[0m\u001b[1;33m,\u001b[0m\u001b[1;33m\u001b[0m\u001b[1;33m\u001b[0m\u001b[0m\n\u001b[0;32m    215\u001b[0m                 \u001b[0margs\u001b[0m \u001b[1;33m=\u001b[0m \u001b[0margs\u001b[0m\u001b[1;33m[\u001b[0m\u001b[1;36m1\u001b[0m\u001b[1;33m:\u001b[0m\u001b[1;33m]\u001b[0m\u001b[1;33m\u001b[0m\u001b[1;33m\u001b[0m\u001b[0m\n\u001b[1;32m--> 216\u001b[1;33m             \u001b[1;32myield\u001b[0m \u001b[1;32mfrom\u001b[0m \u001b[0mself\u001b[0m\u001b[1;33m.\u001b[0m\u001b[0m_plot_args\u001b[0m\u001b[1;33m(\u001b[0m\u001b[0mthis\u001b[0m\u001b[1;33m,\u001b[0m \u001b[0mkwargs\u001b[0m\u001b[1;33m)\u001b[0m\u001b[1;33m\u001b[0m\u001b[1;33m\u001b[0m\u001b[0m\n\u001b[0m\u001b[0;32m    217\u001b[0m \u001b[1;33m\u001b[0m\u001b[0m\n\u001b[0;32m    218\u001b[0m     \u001b[1;32mdef\u001b[0m \u001b[0mget_next_color\u001b[0m\u001b[1;33m(\u001b[0m\u001b[0mself\u001b[0m\u001b[1;33m)\u001b[0m\u001b[1;33m:\u001b[0m\u001b[1;33m\u001b[0m\u001b[1;33m\u001b[0m\u001b[0m\n",
      "\u001b[1;32m~\\Anaconda3\\lib\\site-packages\\matplotlib\\axes\\_base.py\u001b[0m in \u001b[0;36m_plot_args\u001b[1;34m(self, tup, kwargs)\u001b[0m\n\u001b[0;32m    340\u001b[0m \u001b[1;33m\u001b[0m\u001b[0m\n\u001b[0;32m    341\u001b[0m         \u001b[1;32mif\u001b[0m \u001b[0mx\u001b[0m\u001b[1;33m.\u001b[0m\u001b[0mshape\u001b[0m\u001b[1;33m[\u001b[0m\u001b[1;36m0\u001b[0m\u001b[1;33m]\u001b[0m \u001b[1;33m!=\u001b[0m \u001b[0my\u001b[0m\u001b[1;33m.\u001b[0m\u001b[0mshape\u001b[0m\u001b[1;33m[\u001b[0m\u001b[1;36m0\u001b[0m\u001b[1;33m]\u001b[0m\u001b[1;33m:\u001b[0m\u001b[1;33m\u001b[0m\u001b[1;33m\u001b[0m\u001b[0m\n\u001b[1;32m--> 342\u001b[1;33m             raise ValueError(f\"x and y must have same first dimension, but \"\n\u001b[0m\u001b[0;32m    343\u001b[0m                              f\"have shapes {x.shape} and {y.shape}\")\n\u001b[0;32m    344\u001b[0m         \u001b[1;32mif\u001b[0m \u001b[0mx\u001b[0m\u001b[1;33m.\u001b[0m\u001b[0mndim\u001b[0m \u001b[1;33m>\u001b[0m \u001b[1;36m2\u001b[0m \u001b[1;32mor\u001b[0m \u001b[0my\u001b[0m\u001b[1;33m.\u001b[0m\u001b[0mndim\u001b[0m \u001b[1;33m>\u001b[0m \u001b[1;36m2\u001b[0m\u001b[1;33m:\u001b[0m\u001b[1;33m\u001b[0m\u001b[1;33m\u001b[0m\u001b[0m\n",
      "\u001b[1;31mValueError\u001b[0m: x and y must have same first dimension, but have shapes (7499,) and (1999,)"
     ]
    }
   ],
   "source": [
    "from datavyz import gedn as ge\n",
    "from analyz.IO.npz import load_dict\n",
    "fig, AX = ge.figure(axes=(2,1), figsize=(1.2,0.8),\n",
    "                    wspace=0.5, hspace=0)\n",
    "\n",
    "calib_data = np.load('./data/exp_data_for_calibration.npy', allow_pickle=True).item()\n",
    "mdata = np.load('./'+np.load('./data/calib/best-freeZn-config.npy', allow_pickle=True).item()['filename'].replace('.npz', '.npy'), allow_pickle=True).item()\n",
    "\n",
    "for cond, ax in zip(['20Hz_protocol', '3Hz_protocol'], AX):\n",
    "    ## data\n",
    "    tcond = (mdata['t']>(mdata['%s_tstart' % cond]-calib_data['DT0_%s' % cond])) &\\\n",
    "        (mdata['t']<mdata['%s_tstart' % cond]-calib_data['DT0_%s' % cond]+\\\n",
    "         calib_data['DTfull_%s' % cond])\n",
    "    \n",
    "    trace_model = -1e3*(mdata['Ic'][tcond]-mdata['Ic'][tcond][0])\n",
    "    trace_exp = calib_data['Iexp_freeZn_%s' % cond]\n",
    "    \n",
    "    ax.plot(calib_data['t_%s' % cond], trace_model, color=ge.default_color, label='model')\n",
    "    ax.plot(calib_data['t_%s' % cond], trace_exp, color=ge.blue, label='data')\n",
    "\n",
    "    ge.set_plot(ax, ylabel='pA', xlabel='ms')\n",
    "    ge.annotate(ax, cond.split('_')[0], (.6, .7))\n",
    "    \n",
    "ge.legend(AX[1], size='small', loc=(0.4,1.), ncol=2)\n",
    "fig.suptitle('free-Zinc condition', color=ge.default_color, size='small');"
   ]
  },
  {
   "cell_type": "code",
   "execution_count": 5,
   "metadata": {
    "collapsed": false
   },
   "outputs": [
    {
     "name": "stdout",
     "output_type": "stream",
     "text": [
      "1.9642365638288013\n"
     ]
    },
    {
     "data": {
      "image/png": "[encoded data removed]",
      "text/plain": [
       "<Figure size 460.346x204.094 with 1 Axes>"
      ]
     },
     "metadata": {},
     "output_type": "display_data"
    }
   ],
   "source": [
    "from analyz.IO.npz import load_dict\n",
    "from datavyz import ges as ge\n",
    "calib_data = load_dict('./data/exp_data_for_calibration.npz')\n",
    "Residuals = np.load('./data/calib/freeZn-residuals.npy')\n",
    "sim = GridSimulation(os.path.join('data', 'calib', 'free-zinc-calib-grid.npz'))\n",
    "D, X, R, COLORS = {}, [], [], []\n",
    "\n",
    "Nplot = 20\n",
    "np.random.seed(3)\n",
    "pResiduals = np.ones(Nplot+1)*np.inf\n",
    "for j, i in enumerate(np.random.choice(np.arange(int(sim.N)), Nplot)):\n",
    "    pResiduals[j] = np.log10(Residuals[i])\n",
    "    # pResiduals[j] = Residuals[i]\n",
    "    sim.update_dict_from_GRID_and_index(i, D)\n",
    "    X.append([D[k] for k in sim.GRID])\n",
    "D = load_dict('./data/calib/best-freeZn-config.npz')\n",
    "X.append([D[k] for k in sim.GRID])\n",
    "pResiduals[-1] = np.min(Residuals)\n",
    "print(np.min(Residuals))\n",
    "Colors = (pResiduals-pResiduals.min())/(pResiduals.max()-pResiduals.min())\n",
    "fig31, ax = ge.parallel_plot(X,\n",
    "                 SET_OF_LABELS=['$\\\\alpha_{Zn}$', '$\\\\tau_{Zn}^{rise}$(ms)  ','    $\\\\tau_{Zn}^{decay}$(ms)'], lw=1.5, \n",
    "                 COLORS=[ge.viridis_r(c) for c in Colors])\n",
    "ge.top_left_letter(ax, 'i', loc=(-0.02,1.))\n",
    "ge.savefig(fig31, 'model-calibration/figures/fig31.svg')"
   ]
  },
  {
   "cell_type": "code",
   "execution_count": 6,
   "metadata": {
    "collapsed": false
   },
   "outputs": [
    {
     "name": "stderr",
     "output_type": "stream",
     "text": [
      "/home/yann/anaconda3/lib/python3.7/site-packages/numpy/core/_methods.py:217: RuntimeWarning: Degrees of freedom <= 0 for slice\n",
      "  keepdims=keepdims)\n",
      "/home/yann/anaconda3/lib/python3.7/site-packages/numpy/core/_methods.py:186: RuntimeWarning: invalid value encountered in true_divide\n",
      "  arrmean, rcount, out=arrmean, casting='unsafe', subok=False)\n",
      "/home/yann/anaconda3/lib/python3.7/site-packages/numpy/core/_methods.py:209: RuntimeWarning: invalid value encountered in double_scalars\n",
      "  ret = ret.dtype.type(ret / rcount)\n"
     ]
    },
    {
     "name": "stdout",
     "output_type": "stream",
     "text": [
      "[] [] [2.0, 3.0, 4.0, 5.0, 6.0, 7.0, 8.0, 9.0] [1.572223189659473, 5.493388727286797]\n",
      "no main ticks is on the plot, we set the minor ticks as the major ticks\n"
     ]
    },
    {
     "data": {
      "image/png": "[encoded data removed]",
      "text/plain": [
       "<Figure size 238.11x204.094 with 1 Axes>"
      ]
     },
     "metadata": {},
     "output_type": "display_data"
    }
   ],
   "source": [
    "best = load_dict('data/calib/best-freeZn-config.npz')\n",
    "D = {}\n",
    "norm = {}\n",
    "for k in sim.GRID:\n",
    "    norm[k]=(sim.GRID[k][-1]-sim.GRID[k][0])\n",
    "    \n",
    "def distance_from_best_config(best, new):\n",
    "    distance = 0\n",
    "    for k in sim.GRID:\n",
    "        distance += (best[k]-new[k])**2/norm[k]**2\n",
    "    return distance\n",
    "\n",
    "Residuals = np.load(os.path.join('data', 'calib', 'freeZn-residuals.npy'))\n",
    "Distance = np.zeros(sim.N)\n",
    "for i in np.arange(int(sim.N)):\n",
    "    sim.update_dict_from_GRID_and_index(i, D)\n",
    "    Distance[i] = distance_from_best_config(best, D)\n",
    "\n",
    "bins = np.linspace(Distance.min(), Distance.max(), 20)\n",
    "ibins = np.digitize(Distance, bins=bins, right=True)\n",
    "d, r, sr, sr1, sr2 = [], [], [], [], []\n",
    "for i, b in enumerate(bins[:-1]):\n",
    "    d.append(.5*(bins[i]+bins[i+1]))\n",
    "    r.append(np.mean(Residuals[ibins==i]))\n",
    "    sr.append(np.std(Residuals[ibins==i]))\n",
    "    cond = Residuals[ibins==i]<r[-1]\n",
    "    sr1.append(np.std(Residuals[ibins==i][cond]))\n",
    "    cond = Residuals[ibins==i]>=r[-1]\n",
    "    sr2.append(np.std(Residuals[ibins==i][cond]))\n",
    "\n",
    "fig32, ax = ge.plot(d, r, sy1=np.array(sr1), sy2=np.array(sr2),\n",
    "        axes_args=dict(ylabel='$\\chi^2$-residual        ',\n",
    "                       # yticks=[2,4,8], yticks_labels=['2','4','8'], ylim=[1.8, 8],\n",
    "                       xlabel='dist. from best config (a.u.)      ', yscale='log'))\n",
    "\n",
    "ax.plot(Distance, Residuals, 'ko', ms=1)\n",
    "ge.annotate(ax, ' %iconfigs' % sim.N, (1., 0.), size='small', va='bottom', ha='right')\n",
    "ge.top_left_letter(ax, 'ii', loc=(-0.4,1.))\n",
    "ge.savefig(fig32, 'model-calibration/figures/fig32.svg')"
   ]
  },
  {
   "cell_type": "code",
   "execution_count": 42,
   "metadata": {
    "collapsed": false
   },
   "outputs": [
    {
     "data": {
      "image/png": "[encoded data removed]",
      "text/plain": [
       "<Figure size 147.458x102.047 with 2 Axes>"
      ]
     },
     "metadata": {},
     "output_type": "display_data"
    }
   ],
   "source": [
    "from datavyz import ge\n",
    "Residuals = np.load(os.path.join('data', 'calib', 'freeZn-residuals.npy'))\n",
    "A, Tau = np.zeros(sim.N), np.zeros(sim.N)\n",
    "D = {}\n",
    "for i in np.arange(int(sim.N)):\n",
    "    sim.update_dict_from_GRID_and_index(i, D)\n",
    "    A[i], Tau[i] = D['alphaZn'], D['tauDecayZn']\n",
    "\n",
    "# Residuals[Residuals>2.] = 2.\n",
    "fig11, ax, acb = ge.twoD_plot(A, Tau, Residuals,\n",
    "                             vmin=np.min(Residuals), vmax=2.3, colormap=ge.viridis,\n",
    "                             bar_legend_args={'label':r'$\\chi^2$ - residual',\n",
    "                                              'ticks':[2, 2.15, 2.3],\n",
    "                                              'bounds' : [np.min(Residuals), 2.3],\n",
    "                                              'ticks_labels':['2', '2.15', '>2.3'],\n",
    "                                              },\n",
    "                             axes_args=dict(xlim_enhancement=0., ylim_enhancement=0., tck_outward=0,\n",
    "                                            ylabel='$\\\\tau_{Zn}^{decay}$ (ms)',\n",
    "                                            xlabel='$\\\\alpha_{Zn}$'),\n",
    "                             aspect='auto');\n",
    "i0 = np.argmin(Residuals)\n",
    "ax.plot([A[i0]], [Tau[i0]], 'o', ms=5, color='lightgray')\n",
    "ge.savefig(fig, 'model-calibration/figures/fig23.svg')"
   ]
  },
  {
   "cell_type": "code",
   "execution_count": 44,
   "metadata": {
    "collapsed": false
   },
   "outputs": [
    {
     "name": "stdout",
     "output_type": "stream",
     "text": [
      " Volume in drive C is OS\n",
      " Volume Serial Number is 8462-3A1B\n",
      "\n",
      " Directory of C:\\Users\\yann.zerlaut\\work\\zinc-NMDA-modulation\\model-calibration\\figures\n",
      "\n",
      "12/11/2020  02:31 PM    <DIR>          .\n",
      "12/11/2020  02:31 PM    <DIR>          ..\n",
      "11/18/2020  12:11 PM                 0 _\n",
      "12/11/2020  01:17 PM            47,264 fig21.svg\n",
      "12/11/2020  01:18 PM            30,375 fig22.svg\n",
      "12/11/2020  02:31 PM            19,845 fig23.svg\n",
      "12/08/2020  03:56 PM            44,315 L23-L4-params-optimization.png\n",
      "12/10/2020  12:41 PM            67,930 passive-props.svg\n",
      "12/10/2020  12:01 PM            39,003 passive-props_grid.svg\n",
      "12/10/2020  12:01 PM            29,634 passive-props_values.svg\n",
      "               8 File(s)        278,366 bytes\n",
      "               2 Dir(s)  815,495,782,400 bytes free\n"
     ]
    }
   ],
   "source": [
    "ls model-calibration\\figures"
   ]
  },
  {
   "cell_type": "code",
   "execution_count": 46,
   "metadata": {
    "collapsed": false
   },
   "outputs": [
    {
     "ename": "IndexError",
     "evalue": "boolean index did not match indexed array along dimension 0; dimension is 49999 but corresponding boolean dimension is 16000",
     "output_type": "error",
     "traceback": [
      "\u001b[1;31m---------------------------------------------------------------------------\u001b[0m",
      "\u001b[1;31mIndexError\u001b[0m                                Traceback (most recent call last)",
      "\u001b[1;32m<ipython-input-46-6ba318b04134>\u001b[0m in \u001b[0;36m<module>\u001b[1;34m\u001b[0m\n\u001b[0;32m     52\u001b[0m         \u001b[1;33m(\u001b[0m\u001b[0mMDATA\u001b[0m\u001b[1;33m[\u001b[0m\u001b[1;34m'free'\u001b[0m\u001b[1;33m]\u001b[0m\u001b[1;33m[\u001b[0m\u001b[1;34m't'\u001b[0m\u001b[1;33m]\u001b[0m\u001b[1;33m<\u001b[0m\u001b[1;33m(\u001b[0m\u001b[0mMDATA\u001b[0m\u001b[1;33m[\u001b[0m\u001b[1;34m'free'\u001b[0m\u001b[1;33m]\u001b[0m\u001b[1;33m[\u001b[0m\u001b[1;34m'%s_tstart'\u001b[0m \u001b[1;33m%\u001b[0m \u001b[0mcond\u001b[0m\u001b[1;33m]\u001b[0m\u001b[1;33m-\u001b[0m\u001b[0mDT0\u001b[0m\u001b[1;33m+\u001b[0m\u001b[0mDTfull\u001b[0m\u001b[1;33m)\u001b[0m\u001b[1;33m)\u001b[0m\u001b[1;33m\u001b[0m\u001b[1;33m\u001b[0m\u001b[0m\n\u001b[0;32m     53\u001b[0m \u001b[1;33m\u001b[0m\u001b[0m\n\u001b[1;32m---> 54\u001b[1;33m     \u001b[0mtrace_chelatedZn\u001b[0m \u001b[1;33m=\u001b[0m \u001b[1;33m-\u001b[0m\u001b[1;36m1e3\u001b[0m\u001b[1;33m*\u001b[0m\u001b[1;33m(\u001b[0m\u001b[0mMDATA\u001b[0m\u001b[1;33m[\u001b[0m\u001b[1;34m'chelated'\u001b[0m\u001b[1;33m]\u001b[0m\u001b[1;33m[\u001b[0m\u001b[1;34m'Ic'\u001b[0m\u001b[1;33m]\u001b[0m\u001b[1;33m[\u001b[0m\u001b[0mtcond\u001b[0m\u001b[1;33m]\u001b[0m\u001b[1;33m-\u001b[0m\u001b[0mMDATA\u001b[0m\u001b[1;33m[\u001b[0m\u001b[1;34m'chelated'\u001b[0m\u001b[1;33m]\u001b[0m\u001b[1;33m[\u001b[0m\u001b[1;34m'Ic'\u001b[0m\u001b[1;33m]\u001b[0m\u001b[1;33m[\u001b[0m\u001b[0mtcond\u001b[0m\u001b[1;33m]\u001b[0m\u001b[1;33m[\u001b[0m\u001b[1;36m0\u001b[0m\u001b[1;33m]\u001b[0m\u001b[1;33m)\u001b[0m\u001b[1;33m\u001b[0m\u001b[1;33m\u001b[0m\u001b[0m\n\u001b[0m\u001b[0;32m     55\u001b[0m     \u001b[0mtrace_freeZn\u001b[0m \u001b[1;33m=\u001b[0m \u001b[1;33m-\u001b[0m\u001b[1;36m1e3\u001b[0m\u001b[1;33m*\u001b[0m\u001b[1;33m(\u001b[0m\u001b[0mMDATA\u001b[0m\u001b[1;33m[\u001b[0m\u001b[1;34m'free'\u001b[0m\u001b[1;33m]\u001b[0m\u001b[1;33m[\u001b[0m\u001b[1;34m'Ic'\u001b[0m\u001b[1;33m]\u001b[0m\u001b[1;33m[\u001b[0m\u001b[0mtcond\u001b[0m\u001b[1;33m]\u001b[0m\u001b[1;33m-\u001b[0m\u001b[0mMDATA\u001b[0m\u001b[1;33m[\u001b[0m\u001b[1;34m'free'\u001b[0m\u001b[1;33m]\u001b[0m\u001b[1;33m[\u001b[0m\u001b[1;34m'Ic'\u001b[0m\u001b[1;33m]\u001b[0m\u001b[1;33m[\u001b[0m\u001b[0mtcond\u001b[0m\u001b[1;33m]\u001b[0m\u001b[1;33m[\u001b[0m\u001b[1;36m0\u001b[0m\u001b[1;33m]\u001b[0m\u001b[1;33m)\u001b[0m\u001b[1;33m\u001b[0m\u001b[1;33m\u001b[0m\u001b[0m\n\u001b[0;32m     56\u001b[0m \u001b[1;33m\u001b[0m\u001b[0m\n",
      "\u001b[1;31mIndexError\u001b[0m: boolean index did not match indexed array along dimension 0; dimension is 49999 but corresponding boolean dimension is 16000"
     ]
    },
    {
     "data": {
      "image/png": "[encoded data removed]",
      "text/plain": [
       "<Figure size 388.403x110.211 with 10 Axes>"
      ]
     },
     "metadata": {},
     "output_type": "display_data"
    },
    {
     "ename": "IndexError",
     "evalue": "boolean index did not match indexed array along dimension 0; dimension is 49999 but corresponding boolean dimension is 16000",
     "output_type": "error",
     "traceback": [
      "\u001b[1;31m---------------------------------------------------------------------------\u001b[0m",
      "\u001b[1;31mIndexError\u001b[0m                                Traceback (most recent call last)",
      "\u001b[1;32m<ipython-input-46-6ba318b04134>\u001b[0m in \u001b[0;36m<module>\u001b[1;34m\u001b[0m\n\u001b[0;32m     52\u001b[0m         \u001b[1;33m(\u001b[0m\u001b[0mMDATA\u001b[0m\u001b[1;33m[\u001b[0m\u001b[1;34m'free'\u001b[0m\u001b[1;33m]\u001b[0m\u001b[1;33m[\u001b[0m\u001b[1;34m't'\u001b[0m\u001b[1;33m]\u001b[0m\u001b[1;33m<\u001b[0m\u001b[1;33m(\u001b[0m\u001b[0mMDATA\u001b[0m\u001b[1;33m[\u001b[0m\u001b[1;34m'free'\u001b[0m\u001b[1;33m]\u001b[0m\u001b[1;33m[\u001b[0m\u001b[1;34m'%s_tstart'\u001b[0m \u001b[1;33m%\u001b[0m \u001b[0mcond\u001b[0m\u001b[1;33m]\u001b[0m\u001b[1;33m-\u001b[0m\u001b[0mDT0\u001b[0m\u001b[1;33m+\u001b[0m\u001b[0mDTfull\u001b[0m\u001b[1;33m)\u001b[0m\u001b[1;33m)\u001b[0m\u001b[1;33m\u001b[0m\u001b[1;33m\u001b[0m\u001b[0m\n\u001b[0;32m     53\u001b[0m \u001b[1;33m\u001b[0m\u001b[0m\n\u001b[1;32m---> 54\u001b[1;33m     \u001b[0mtrace_chelatedZn\u001b[0m \u001b[1;33m=\u001b[0m \u001b[1;33m-\u001b[0m\u001b[1;36m1e3\u001b[0m\u001b[1;33m*\u001b[0m\u001b[1;33m(\u001b[0m\u001b[0mMDATA\u001b[0m\u001b[1;33m[\u001b[0m\u001b[1;34m'chelated'\u001b[0m\u001b[1;33m]\u001b[0m\u001b[1;33m[\u001b[0m\u001b[1;34m'Ic'\u001b[0m\u001b[1;33m]\u001b[0m\u001b[1;33m[\u001b[0m\u001b[0mtcond\u001b[0m\u001b[1;33m]\u001b[0m\u001b[1;33m-\u001b[0m\u001b[0mMDATA\u001b[0m\u001b[1;33m[\u001b[0m\u001b[1;34m'chelated'\u001b[0m\u001b[1;33m]\u001b[0m\u001b[1;33m[\u001b[0m\u001b[1;34m'Ic'\u001b[0m\u001b[1;33m]\u001b[0m\u001b[1;33m[\u001b[0m\u001b[0mtcond\u001b[0m\u001b[1;33m]\u001b[0m\u001b[1;33m[\u001b[0m\u001b[1;36m0\u001b[0m\u001b[1;33m]\u001b[0m\u001b[1;33m)\u001b[0m\u001b[1;33m\u001b[0m\u001b[1;33m\u001b[0m\u001b[0m\n\u001b[0m\u001b[0;32m     55\u001b[0m     \u001b[0mtrace_freeZn\u001b[0m \u001b[1;33m=\u001b[0m \u001b[1;33m-\u001b[0m\u001b[1;36m1e3\u001b[0m\u001b[1;33m*\u001b[0m\u001b[1;33m(\u001b[0m\u001b[0mMDATA\u001b[0m\u001b[1;33m[\u001b[0m\u001b[1;34m'free'\u001b[0m\u001b[1;33m]\u001b[0m\u001b[1;33m[\u001b[0m\u001b[1;34m'Ic'\u001b[0m\u001b[1;33m]\u001b[0m\u001b[1;33m[\u001b[0m\u001b[0mtcond\u001b[0m\u001b[1;33m]\u001b[0m\u001b[1;33m-\u001b[0m\u001b[0mMDATA\u001b[0m\u001b[1;33m[\u001b[0m\u001b[1;34m'free'\u001b[0m\u001b[1;33m]\u001b[0m\u001b[1;33m[\u001b[0m\u001b[1;34m'Ic'\u001b[0m\u001b[1;33m]\u001b[0m\u001b[1;33m[\u001b[0m\u001b[0mtcond\u001b[0m\u001b[1;33m]\u001b[0m\u001b[1;33m[\u001b[0m\u001b[1;36m0\u001b[0m\u001b[1;33m]\u001b[0m\u001b[1;33m)\u001b[0m\u001b[1;33m\u001b[0m\u001b[1;33m\u001b[0m\u001b[0m\n\u001b[0;32m     56\u001b[0m \u001b[1;33m\u001b[0m\u001b[0m\n",
      "\u001b[1;31mIndexError\u001b[0m: boolean index did not match indexed array along dimension 0; dimension is 49999 but corresponding boolean dimension is 16000"
     ]
    }
   ],
   "source": [
    "from analyz.IO.npz import load_dict\n",
    "#from datavyz import ges as ge\n",
    "\n",
    "SUFFIX = ''\n",
    "MDATA = {'free':np.load('./'+np.load('./data/calib/best-freeZn-config.npy', allow_pickle=True).item()['filename'].replace('npz', 'npy'), allow_pickle=True).item(),\n",
    "         'chelated':np.load('./'+np.load('./data/best_chelatedZn_config.npy', allow_pickle=True).item()['filename'].replace('npz', 'npy'), allow_pickle=True).item()}\n",
    "FDATA = np.load('./data/full_data_for_calibration.npy', allow_pickle=True).item()\n",
    "\n",
    "figII, AX = ge.figure(axes_extents=[[[1,7],[1,7]],\n",
    "                                  [[1,2],[1,2]],\n",
    "                                  [[1,1],[1,1]],\n",
    "                                  [[1,7],[1,7]],\n",
    "                                  [[1,2],[1,2]]],\n",
    "                    figsize=(1.55,0.12),\n",
    "                    wspace=0.3, hspace=0, right=0.)\n",
    "\n",
    "for ax in AX[2]:\n",
    "    ax.axis('off')\n",
    "\n",
    "for cond, ax, ax1, ax2, ax3, I0, t0, DI, T in zip(['20Hz_protocol', '3Hz_protocol'],\n",
    "                                                  AX[0], AX[1], AX[3], AX[4], [1.5, 1.1],\n",
    "                                                  [100, 0], [0.5, 0.5], [100, 500]):\n",
    "\n",
    "    ## exp\n",
    "    ax.plot(FDATA[cond]['t'][0]+t0+np.zeros(2), [I0,I0-DI], lw=1, color=ge.default_color)\n",
    "    ax.plot(FDATA[cond]['t'][0]+t0+np.arange(2)*T, [I0, I0], lw=1, color=ge.default_color)\n",
    "    ge.annotate(ax, '%.0f$\\pm$%.0fpA' % (1e3*FDATA[cond]['scale_freeZn'].mean()*DI,\n",
    "                1e3*FDATA[cond]['scale_freeZn'].std()*DI),\n",
    "                (FDATA[cond]['t'][0]+t0, I0-DI), xycoords='data', rotation=90,\n",
    "                ha='right', va='center', size='small')\n",
    "    ge.annotate(ax, '%.0f$\\pm$%.0fpA\\n' % (1e3*FDATA[cond]['scale_chelatedZn'].mean()*DI,\n",
    "                1e3*FDATA[cond]['scale_chelatedZn'].std()*DI),\n",
    "                (FDATA[cond]['t'][0]+t0, I0-DI), xycoords='data', rotation=90,\n",
    "                ha='right', color=ge.green, va='center', size='small')\n",
    "    ge.plot(FDATA[cond]['t'], FDATA[cond]['norm_trace_chelatedZn'].mean(axis=0),\n",
    "            sy=0*FDATA[cond]['norm_trace_chelatedZn'].std(axis=0), ax=ax, color=ge.green)\n",
    "    ge.plot(FDATA[cond]['t'], FDATA[cond]['norm_trace_chelatedZn'].mean(axis=0),\n",
    "            sy=0*FDATA[cond]['norm_trace_chelatedZn'].std(axis=0), ax=ax, color=ge.green)\n",
    "    ge.plot(FDATA[cond]['t'], FDATA[cond]['norm_trace_freeZn'].mean(axis=0),\n",
    "            sy=0*FDATA[cond]['norm_trace_freeZn'].std(axis=0), ax=ax)\n",
    "    # ge.plot(FDATA[cond]['t'], FDATA[cond]['norm_trace_chelatedZn'].mean(axis=0)-\n",
    "    #         FDATA[cond]['norm_trace_freeZn'].mean(axis=0), ax=ax, color=ge.red)\n",
    "    ge.annotate(ax, 'n=%i' % len(FDATA[cond]['norm_trace_freeZn']), (.6,.8), size='small')\n",
    "    ge.annotate(ax, '%ims' % T, (FDATA[cond]['t'][0]+t0, I0), xycoords='data', size='small')\n",
    "    ge.set_plot(ax,[], xlim=[FDATA[cond]['t'][0], FDATA[cond]['t'][-1]])\n",
    "\n",
    "    ## model\n",
    "    DT0 = FDATA[cond]['t'][FDATA[cond]['se'][0]]-FDATA[cond]['t'][0]\n",
    "    DTfull = FDATA[cond]['t'][-1]-FDATA[cond]['t'][0]\n",
    "\n",
    "    tcond = (MDATA['free']['t']>(MDATA['free']['%s_tstart' % cond]-DT0)) &\\\n",
    "        (MDATA['free']['t']<(MDATA['free']['%s_tstart' % cond]-DT0+DTfull))\n",
    "\n",
    "    trace_chelatedZn = -1e3*(MDATA['chelated']['Ic'][tcond]-MDATA['chelated']['Ic'][tcond][0])\n",
    "    trace_freeZn = -1e3*(MDATA['free']['Ic'][tcond]-MDATA['free']['Ic'][tcond][0])\n",
    "    \n",
    "    # norm\n",
    "    tarray, ta0, window_for_peak = MDATA['free']['t'][tcond], 150, 20\n",
    "    peak_cond = (tarray>=ta0+tarray[0]) & (tarray<=ta0+window_for_peak+tarray[0])\n",
    "    ax2.plot(tarray, trace_chelatedZn/np.max(trace_chelatedZn[peak_cond]), color=ge.green, lw=1)\n",
    "    ax2.plot(tarray, trace_freeZn/np.max(trace_freeZn[peak_cond]), color=ge.default_color, lw=1)\n",
    "\n",
    "    SCALE = 100 # pA\n",
    "    YSCALE = SCALE/np.max(trace_freeZn[peak_cond]) # 100 pA\n",
    "    ax2.plot(tarray[0]+t0+np.zeros(2), [.4*YSCALE, 1.4*YSCALE], lw=1, color=ge.default_color)\n",
    "    ge.annotate(ax2, '%ipA' % SCALE, (tarray[0]+t0, .4*YSCALE),\n",
    "                xycoords='data', rotation=90, ha='right', va='bottom', size='small')\n",
    "    ge.annotate(ax2, '%ipA\\n' % int(SCALE), (tarray[0]+t0, .4*YSCALE),\n",
    "                xycoords='data', rotation=90, ha='right', va='bottom', size='small',\n",
    "                color=ge.green)\n",
    "\n",
    "    if cond=='20Hz_protocol':\n",
    "        ge.set_plot(ax2,[], xlim=[MDATA['free']['t'][tcond][0], MDATA['free']['t'][tcond][-1]], ylim=[-.1,1.5])\n",
    "    else:\n",
    "        ge.set_plot(ax2,[], xlim=[MDATA['free']['t'][tcond][0], MDATA['free']['t'][tcond][-1]])\n",
    "    \n",
    "    x, y = [MDATA['free']['t'][tcond][0]], [0]\n",
    "    for e, n in zip(MDATA['free']['events'], MDATA['free']['Npicked']):\n",
    "        x += [e,e,e]\n",
    "        y += [0,n,0]\n",
    "    x += [MDATA['free']['t'][tcond][-1]]\n",
    "    y += [0]\n",
    "    x, y = np.array(x), np.array(y)\n",
    "    tcond = (x>=MDATA['free']['t'][tcond][0]) & (x<=MDATA['free']['t'][tcond][-1])\n",
    "    ax1.plot(x[tcond], y[tcond], 'k-', lw=1)\n",
    "    ax3.plot(x[tcond], y[tcond], lw=1, color=ge.purple)\n",
    "    ge.set_plot(ax1,[], xlim=[x[tcond][0],x[tcond][-1]], ylim=[-1,np.max(MDATA['free']['Npicked'])+2])\n",
    "    ge.set_plot(ax3,[], xlim=[x[tcond][0],x[tcond][-1]], ylim=[-1,np.max(MDATA['free']['Npicked'])+2])\n",
    "\n",
    "ge.plot(AX[4][0].get_xlim()[1]*.99*np.ones(2), [3,8], ax=AX[4][0], no_set=True)\n",
    "ge.annotate(AX[4][0], '5 syn.', (1.,0.2), size='small')\n",
    "ge.annotate(AX[0][0], 'data', (.8,.5), italic=True, bold=True, size='large')\n",
    "ge.annotate(AX[3][0], 'model', (.8,.5), italic=True, bold=True, size='large')\n",
    "ge.annotate(AX[1][0], 'electrical stim.', (1.,.1), ha='right', size='small')\n",
    "ge.annotate(AX[4][0], 'Glut. events', (.9,.1), ha='right', size='small', color=ge.purple)\n",
    "#ge.savefig(fig, 'model-calibration/figures/fig41.svg')\n",
    "#ge.savefig(fig, 'figures/calibration.png')"
   ]
  },
  {
   "cell_type": "code",
   "execution_count": 45,
   "metadata": {
    "collapsed": false
   },
   "outputs": [
    {
     "ename": "IndexError",
     "evalue": "boolean index did not match indexed array along dimension 0; dimension is 49999 but corresponding boolean dimension is 16000",
     "output_type": "error",
     "traceback": [
      "\u001b[1;31m---------------------------------------------------------------------------\u001b[0m",
      "\u001b[1;31mIndexError\u001b[0m                                Traceback (most recent call last)",
      "\u001b[1;32m<ipython-input-45-64df691c9281>\u001b[0m in \u001b[0;36m<module>\u001b[1;34m\u001b[0m\n\u001b[0;32m     17\u001b[0m \u001b[1;33m\u001b[0m\u001b[0m\n\u001b[0;32m     18\u001b[0m     \u001b[0mtrace_model\u001b[0m \u001b[1;33m=\u001b[0m \u001b[1;33m-\u001b[0m\u001b[1;36m1e3\u001b[0m\u001b[1;33m*\u001b[0m\u001b[1;33m(\u001b[0m\u001b[0msim_data\u001b[0m\u001b[1;33m[\u001b[0m\u001b[1;34m'Ic'\u001b[0m\u001b[1;33m]\u001b[0m\u001b[1;33m[\u001b[0m\u001b[0mtcond\u001b[0m\u001b[1;33m]\u001b[0m\u001b[1;33m-\u001b[0m\u001b[0msim_data\u001b[0m\u001b[1;33m[\u001b[0m\u001b[1;34m'Ic'\u001b[0m\u001b[1;33m]\u001b[0m\u001b[1;33m[\u001b[0m\u001b[0mtcond\u001b[0m\u001b[1;33m]\u001b[0m\u001b[1;33m[\u001b[0m\u001b[1;36m0\u001b[0m\u001b[1;33m]\u001b[0m\u001b[1;33m)\u001b[0m \u001b[1;31m# - sign\u001b[0m\u001b[1;33m\u001b[0m\u001b[1;33m\u001b[0m\u001b[0m\n\u001b[1;32m---> 19\u001b[1;33m     \u001b[0mtrace_model0\u001b[0m \u001b[1;33m=\u001b[0m \u001b[1;33m-\u001b[0m\u001b[1;36m1e3\u001b[0m\u001b[1;33m*\u001b[0m\u001b[1;33m(\u001b[0m\u001b[0mCdata\u001b[0m\u001b[1;33m[\u001b[0m\u001b[1;34m'Ic'\u001b[0m\u001b[1;33m]\u001b[0m\u001b[1;33m[\u001b[0m\u001b[0mtcond\u001b[0m\u001b[1;33m]\u001b[0m\u001b[1;33m-\u001b[0m\u001b[0mCdata\u001b[0m\u001b[1;33m[\u001b[0m\u001b[1;34m'Ic'\u001b[0m\u001b[1;33m]\u001b[0m\u001b[1;33m[\u001b[0m\u001b[0mtcond\u001b[0m\u001b[1;33m]\u001b[0m\u001b[1;33m[\u001b[0m\u001b[1;36m0\u001b[0m\u001b[1;33m]\u001b[0m\u001b[1;33m)\u001b[0m\u001b[1;33m\u001b[0m\u001b[1;33m\u001b[0m\u001b[0m\n\u001b[0m\u001b[0;32m     20\u001b[0m     \u001b[0mfactor_model\u001b[0m \u001b[1;33m=\u001b[0m \u001b[0mnp\u001b[0m\u001b[1;33m.\u001b[0m\u001b[0mmax\u001b[0m\u001b[1;33m(\u001b[0m\u001b[0mtrace_model\u001b[0m\u001b[1;33m[\u001b[0m\u001b[0mfirst_peak_cond\u001b[0m\u001b[1;33m]\u001b[0m\u001b[1;33m)\u001b[0m\u001b[1;33m\u001b[0m\u001b[1;33m\u001b[0m\u001b[0m\n\u001b[0;32m     21\u001b[0m     \u001b[0mfactor_model0\u001b[0m \u001b[1;33m=\u001b[0m \u001b[0mnp\u001b[0m\u001b[1;33m.\u001b[0m\u001b[0mmax\u001b[0m\u001b[1;33m(\u001b[0m\u001b[0mtrace_model0\u001b[0m\u001b[1;33m[\u001b[0m\u001b[0mfirst_peak_cond\u001b[0m\u001b[1;33m]\u001b[0m\u001b[1;33m)\u001b[0m\u001b[1;33m\u001b[0m\u001b[1;33m\u001b[0m\u001b[0m\n",
      "\u001b[1;31mIndexError\u001b[0m: boolean index did not match indexed array along dimension 0; dimension is 49999 but corresponding boolean dimension is 16000"
     ]
    },
    {
     "data": {
      "image/png": "[encoded data removed]",
      "text/plain": [
       "<Figure size 620.22x204.094 with 2 Axes>"
      ]
     },
     "metadata": {},
     "output_type": "display_data"
    },
    {
     "ename": "IndexError",
     "evalue": "boolean index did not match indexed array along dimension 0; dimension is 49999 but corresponding boolean dimension is 16000",
     "output_type": "error",
     "traceback": [
      "\u001b[1;31m---------------------------------------------------------------------------\u001b[0m",
      "\u001b[1;31mIndexError\u001b[0m                                Traceback (most recent call last)",
      "\u001b[1;32m<ipython-input-45-64df691c9281>\u001b[0m in \u001b[0;36m<module>\u001b[1;34m\u001b[0m\n\u001b[0;32m     17\u001b[0m \u001b[1;33m\u001b[0m\u001b[0m\n\u001b[0;32m     18\u001b[0m     \u001b[0mtrace_model\u001b[0m \u001b[1;33m=\u001b[0m \u001b[1;33m-\u001b[0m\u001b[1;36m1e3\u001b[0m\u001b[1;33m*\u001b[0m\u001b[1;33m(\u001b[0m\u001b[0msim_data\u001b[0m\u001b[1;33m[\u001b[0m\u001b[1;34m'Ic'\u001b[0m\u001b[1;33m]\u001b[0m\u001b[1;33m[\u001b[0m\u001b[0mtcond\u001b[0m\u001b[1;33m]\u001b[0m\u001b[1;33m-\u001b[0m\u001b[0msim_data\u001b[0m\u001b[1;33m[\u001b[0m\u001b[1;34m'Ic'\u001b[0m\u001b[1;33m]\u001b[0m\u001b[1;33m[\u001b[0m\u001b[0mtcond\u001b[0m\u001b[1;33m]\u001b[0m\u001b[1;33m[\u001b[0m\u001b[1;36m0\u001b[0m\u001b[1;33m]\u001b[0m\u001b[1;33m)\u001b[0m \u001b[1;31m# - sign\u001b[0m\u001b[1;33m\u001b[0m\u001b[1;33m\u001b[0m\u001b[0m\n\u001b[1;32m---> 19\u001b[1;33m     \u001b[0mtrace_model0\u001b[0m \u001b[1;33m=\u001b[0m \u001b[1;33m-\u001b[0m\u001b[1;36m1e3\u001b[0m\u001b[1;33m*\u001b[0m\u001b[1;33m(\u001b[0m\u001b[0mCdata\u001b[0m\u001b[1;33m[\u001b[0m\u001b[1;34m'Ic'\u001b[0m\u001b[1;33m]\u001b[0m\u001b[1;33m[\u001b[0m\u001b[0mtcond\u001b[0m\u001b[1;33m]\u001b[0m\u001b[1;33m-\u001b[0m\u001b[0mCdata\u001b[0m\u001b[1;33m[\u001b[0m\u001b[1;34m'Ic'\u001b[0m\u001b[1;33m]\u001b[0m\u001b[1;33m[\u001b[0m\u001b[0mtcond\u001b[0m\u001b[1;33m]\u001b[0m\u001b[1;33m[\u001b[0m\u001b[1;36m0\u001b[0m\u001b[1;33m]\u001b[0m\u001b[1;33m)\u001b[0m\u001b[1;33m\u001b[0m\u001b[1;33m\u001b[0m\u001b[0m\n\u001b[0m\u001b[0;32m     20\u001b[0m     \u001b[0mfactor_model\u001b[0m \u001b[1;33m=\u001b[0m \u001b[0mnp\u001b[0m\u001b[1;33m.\u001b[0m\u001b[0mmax\u001b[0m\u001b[1;33m(\u001b[0m\u001b[0mtrace_model\u001b[0m\u001b[1;33m[\u001b[0m\u001b[0mfirst_peak_cond\u001b[0m\u001b[1;33m]\u001b[0m\u001b[1;33m)\u001b[0m\u001b[1;33m\u001b[0m\u001b[1;33m\u001b[0m\u001b[0m\n\u001b[0;32m     21\u001b[0m     \u001b[0mfactor_model0\u001b[0m \u001b[1;33m=\u001b[0m \u001b[0mnp\u001b[0m\u001b[1;33m.\u001b[0m\u001b[0mmax\u001b[0m\u001b[1;33m(\u001b[0m\u001b[0mtrace_model0\u001b[0m\u001b[1;33m[\u001b[0m\u001b[0mfirst_peak_cond\u001b[0m\u001b[1;33m]\u001b[0m\u001b[1;33m)\u001b[0m\u001b[1;33m\u001b[0m\u001b[1;33m\u001b[0m\u001b[0m\n",
      "\u001b[1;31mIndexError\u001b[0m: boolean index did not match indexed array along dimension 0; dimension is 49999 but corresponding boolean dimension is 16000"
     ]
    }
   ],
   "source": [
    "calib_data = load_dict('data/exp_data_for_calibration.npz')\n",
    "\n",
    "Cdata = load_dict(load_dict('data/best_chelatedZn_config.npz')['filename'])\n",
    "    \n",
    "sim_data = load_dict('./'+load_dict('./data/calib/best-freeZn-config.npz')['filename'])\n",
    "        \n",
    "fig2, AXmape = ge.figure(axes=(2,1), figsize=(2,2), wspace=0.1)\n",
    "Residual = 1\n",
    "\n",
    "for cond, ax in zip(['20Hz_protocol', '3Hz_protocol'], AXmape):\n",
    "\n",
    "    tcond = (sim_data['t']>(sim_data['%s_tstart' % cond]-calib_data['DT0_%s' % cond])) &\\\n",
    "        (sim_data['t']<sim_data['%s_tstart' % cond]-calib_data['DT0_%s' % cond]+\\\n",
    "         calib_data['DTfull_%s' % cond])\n",
    "    \n",
    "    first_peak_cond = (calib_data['t_%s' % cond]<calib_data['DT0_%s' % cond]+30)# normalizing to peak in the exp\n",
    "    \n",
    "    trace_model = -1e3*(sim_data['Ic'][tcond]-sim_data['Ic'][tcond][0]) # - sign\n",
    "    trace_model0 = -1e3*(Cdata['Ic'][tcond]-Cdata['Ic'][tcond][0])\n",
    "    factor_model = np.max(trace_model[first_peak_cond])\n",
    "    factor_model0 = np.max(trace_model0[first_peak_cond])\n",
    "    trace_model /= factor_model\n",
    "    trace_model0 /= factor_model0\n",
    "    # trace_model0 *= factor_model/factor_model0\n",
    "    \n",
    "    ax.plot(trace_model, ':', color='k')\n",
    "    ax.plot(trace_model0, ':', color=ge.green)\n",
    "    \n",
    "    trace_exp = calib_data['Iexp_freeZn_%s' % cond]\n",
    "    trace_exp0 = calib_data['Iexp_chelatedZn_%s' % cond]\n",
    "    factor_exp = np.max(trace_exp[first_peak_cond])\n",
    "    factor_exp0 = np.max(trace_exp0[first_peak_cond])\n",
    "    trace_exp /= factor_exp\n",
    "    trace_exp0 /= factor_exp0\n",
    "    # trace_exp *= factor_exp0/factor_exp\n",
    "    # trace_exp0 *= factor_exp/factor_exp0\n",
    "    ax.plot(trace_exp, color='k')\n",
    "    ax.plot(trace_exp0, color=ge.green)\n",
    "    diff_model = trace_model0-trace_model\n",
    "    diff_exp = trace_exp0-trace_exp\n",
    "\n",
    "    ax.plot(diff_model, ':', color='r', label='chelated - free (model)')\n",
    "    ax.plot(diff_exp, color='r', label='chelated - free (exp)')\n",
    "    print(cond, ' -> Variance explained: %.1f%%' % (100*(1-np.std(diff_model-diff_exp)/np.std(diff_exp))))\n",
    "    print(cond, ' -> Model-Exp cross-correl: %.2f' % np.corrcoef(diff_model,diff_exp)[0][1])\n",
    "    DTsmoothing = 150\n",
    "    # print(cond, ' -> Variance explained: %.1f%%' % (100*(1-np.std(np.abs(diff_model-gaussian_smoothing(diff_exp,DTsmoothing)))/np.std(gaussian_smoothing(diff_exp,DTsmoothing)))))\n",
    "    print(np.std(np.abs(diff_model-diff_exp))/np.std(diff_exp))\n",
    "    print(np.sum((diff_model-diff_exp)**2)/len(diff_exp)/np.std(diff_exp)**2)\n",
    "    ax.legend()"
   ]
  },
  {
   "cell_type": "code",
   "execution_count": 55,
   "metadata": {
    "collapsed": false
   },
   "outputs": [
    {
     "name": "stdout",
     "output_type": "stream",
     "text": [
      "RUNNING: inkscape figures\\biophysical-calib.svg --export-area-page --export-background=\"white\" --export-type=png --export-filename=\"figures\\biophysical-calib.png\" --export-dpi=300\n",
      "[ok] figure successfully exported as: figures\\biophysical-calib.png\n"
     ]
    }
   ],
   "source": [
    "ge.multipanel_figure([['model-calibration/figures/fig21.svg',\n",
    "                       'model-calibration/figures/fig22.svg',\n",
    "                       'model-calibration/figures/fig23.svg'],\n",
    "                      [fig]],\n",
    "                     LABELS=[['a', '', 'b'], ['c']],\n",
    "                     X=[[-12, 200, 350],[0]], Y=[[0, 0, 0], [100]],\n",
    "                     X_LABELS=[[0, 200, 350],[0]], Y_LABELS=[[0, 0, 0], [100]],\n",
    "                     # width='one-and-a-half-column',\n",
    "                     width='double-column',\n",
    "                     height=100,\n",
    "                     export_to_png=True,\n",
    "                     fig_name=os.path.join('figures','biophysical-calib.svg'))"
   ]
  }
 ],
 "metadata": {
  "kernelspec": {
   "argv": [
    "C:/Users/yann.zerlaut/Anaconda3\\python.exe",
    "-m",
    "ipykernel_launcher",
    "-f",
    "{connection_file}"
   ],
   "display_name": "Python 3",
   "env": null,
   "interrupt_mode": "signal",
   "language": "python",
   "metadata": null,
   "name": "python3"
  },
  "language_info": {
   "codemirror_mode": {
    "name": "ipython",
    "version": 3
   },
   "file_extension": ".py",
   "mimetype": "text/x-python",
   "name": "python",
   "nbconvert_exporter": "python",
   "pygments_lexer": "ipython3",
   "version": "3.7.4"
  },
  "name": "free-zinc.ipynb"
 },
 "nbformat": 4,
 "nbformat_minor": 2
}
