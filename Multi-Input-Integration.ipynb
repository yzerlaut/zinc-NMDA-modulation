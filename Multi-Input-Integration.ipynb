{
 "cells": [
  {
   "cell_type": "code",
   "execution_count": 1,
   "metadata": {},
   "outputs": [
    {
     "name": "stdout",
     "output_type": "stream",
     "text": [
      " /!\\  \"svgutils\" not installed ! get it with: \"pip install svgutils\" \n"
     ]
    }
   ],
   "source": [
    "%matplotlib inline\n",
    "import numpy as np\n",
    "import os\n",
    "from datavyz import graph_env_dark_notebook as ge"
   ]
  },
  {
   "cell_type": "code",
   "execution_count": 2,
   "metadata": {},
   "outputs": [],
   "source": [
    "# LOCs = np.load('data/nmda-spike/locations.npy') ---> corresponds to:\n",
    "LOCs = [74, 124, 313, 363, 474, 630, 680, 800, 886, 936, 1036, 1227, 1428, 1478, 1634, 1856, 2117, 2183, 2233, 2379, 2429, 3177, 3319, 3464, 3514]"
   ]
  },
  {
   "cell_type": "code",
   "execution_count": 3,
   "metadata": {},
   "outputs": [],
   "source": [
    "from single_cell_sim import *\n",
    "from model import Model\n",
    "\n",
    "def run_sim(Model,\n",
    "            syn_packets=[{'loc':0, 'nsyn':5, 'label':'1'},\n",
    "                         {'loc':1, 'nsyn':5, 'label':'2'}],\n",
    "            activation_sequence=[{'time':200,\n",
    "                                  'packet':0},\n",
    "                                 {'time':400,\n",
    "                                  'packet':1}],\n",
    "            syn_packet_width=5,\n",
    "            Nsyn_per_loc=20,\n",
    "            post_duration=200.,\n",
    "            stim_seed=2,\n",
    "            active=False,\n",
    "            ampa_only=False,\n",
    "            chelated=False):\n",
    "\n",
    "\n",
    "    Modelc = Model.copy()\n",
    "    tstop = activation_sequence[-1]['time']+post_duration\n",
    "    if chelated:\n",
    "        Modelc['alphaZn'] = 0.\n",
    "\n",
    "    t, neuron, SEGMENTS = initialize_sim(Model,\n",
    "                                         active=active,\n",
    "                                         tstop=tstop, verbose=False)\n",
    "\n",
    "    np.random.seed(stim_seed)\n",
    "    \n",
    "    PACKETS, ulocs = [], np.unique([sp['loc'] for sp in syn_packets])\n",
    "    for i, sp in enumerate(syn_packets):\n",
    "        i0 = np.argwhere(sp['loc']==ulocs).flatten()[0] # to catch syn packets at the same location\n",
    "        locs = LOCs[sp['loc']]+np.arange(Nsyn_per_loc)\n",
    "        times = np.sort(np.random.randn(sp['nsyn'])*syn_packet_width)\n",
    "        IDs = np.random.choice(i0*Nsyn_per_loc+np.arange(Nsyn_per_loc), sp['nsyn'], replace=False)\n",
    "        labels = [sp['label'] for i in range(sp['nsyn'])]\n",
    "        PACKETS.append({'times':times, 'IDs':IDs, 'locs':locs, 'labels':labels})\n",
    "        \n",
    "    syn_IDs, syn_times, syn_labels = np.empty(0, dtype=int), np.empty(0, dtype=float), np.empty(0, dtype=str)\n",
    "\n",
    "    for i, act in enumerate(activation_sequence):\n",
    "        syn_times = np.concatenate([syn_times,\n",
    "                                    act['time']+PACKETS[act['packet']]['times']])\n",
    "        syn_IDs = np.concatenate([syn_IDs,\n",
    "                                  PACKETS[act['packet']]['IDs']])\n",
    "        syn_labels = np.concatenate([syn_labels, PACKETS[act['packet']]['labels']])\n",
    "\n",
    "    if ampa_only:\n",
    "        Modelc['qNMDA'] = 0.\n",
    "    elif chelated:\n",
    "        Modelc['Deltax0'] = 0.\n",
    "        \n",
    "    Estim, ES = ntwk.process_and_connect_event_stimulation(neuron,\n",
    "                                                           syn_IDs, syn_times,\n",
    "                                                           np.concatenate([(LOCs[ul]+np.arange(Nsyn_per_loc)) for ul in ulocs]),\n",
    "                                                           EXC_SYNAPSES_EQUATIONS.format(**Modelc),\n",
    "                                                           ON_EXC_EVENT.format(**Modelc))\n",
    "\n",
    "    # recording and running\n",
    "    M = ntwk.StateMonitor(neuron, ('v'), record=[0]+[sp['loc'] for sp in syn_packets])\n",
    "    S = ntwk.StateMonitor(ES, ('X', 'gAMPA', 'gRiseNMDA', 'gDecayNMDA', 'bZn'), record=[0])\n",
    "\n",
    "    # # Run simulation\n",
    "    ntwk.run(tstop*ntwk.ms)\n",
    "    \n",
    "    data = {'t':np.array(M.t/ntwk.ms), \n",
    "            'Vm_soma':np.array(M.v/ntwk.mV)[0,:],\n",
    "            'bZn_syn':np.array(S.bZn)[0,:],\n",
    "            'gAMPA_syn':np.array(S.gAMPA/ntwk.nS)[0,:],\n",
    "            'X_syn':np.array(S.X)[0,:],\n",
    "            'Vm_syn':np.array(M.v/ntwk.mV)[1,:],\n",
    "            'syn_times': syn_times,\n",
    "            'syn_IDs': syn_IDs,\n",
    "            'syn_labels': syn_labels,\n",
    "            'Model':Modelc}\n",
    "    data['gNMDA_syn']= Model['qNMDA']*Model['nNMDA']*\\\n",
    "        (np.array(S.gDecayNMDA)[0,:]-np.array(S.gRiseNMDA)[0,:])\\\n",
    "        /(1+Model['etaMg']*Model['cMg']*np.exp(-data['Vm_syn']/Model['V0NMDA']))\\\n",
    "        *(1-Model['alphaZn']*data['bZn_syn'])\n",
    "    \n",
    "    for obj in [neuron, M, S, Estim, ES, SEGMENTS]:\n",
    "        del(obj)\n",
    "        \n",
    "    return data\n",
    "\n",
    "def build_fig(list_data_freeZn, list_data_chelatedZn, list_data_AMPA,\n",
    "              list_data_freeZn_active=None, list_data_chelatedZn_active=None,\n",
    "              space=50, Nsyn_bar=10, Tbar=20, Vlim=[-75,-30]):\n",
    "    # fig shape\n",
    "    fig, AX = ge.figure(axes_extents=[[[1,2]],\n",
    "                                      [[3,5]]], \n",
    "                        #figsize=(2.,.15), \n",
    "                        figsize=(4.,.3), \n",
    "                        hspace=0)\n",
    "\n",
    "    t0=0\n",
    "    for data_freeZn, data_chelatedZn, data_AMPA in zip(list_data_freeZn, list_data_chelatedZn, list_data_AMPA):\n",
    "        n=0\n",
    "        for label, color in zip(['1', '2', '3', '4'], [ge.cyan, ge.pink, ge.purple, ge.orange]):\n",
    "            cond = (data_freeZn['syn_labels']==label)\n",
    "            AX[0].plot(t0+data_freeZn['syn_times'][cond], n+data_freeZn['syn_IDs'][cond], 'o', ms=1, color=color)\n",
    "            if np.sum(cond)>0:\n",
    "                n+=np.max(data_freeZn['syn_IDs'][cond])\n",
    "            \n",
    "        if data_chelatedZn is not None:\n",
    "            AX[1].plot(t0+data_chelatedZn['t'], data_chelatedZn['Vm_soma'], color=ge.green, lw=1)\n",
    "        if data_AMPA is not None:\n",
    "            AX[1].plot(t0+data_AMPA['t'], data_AMPA['Vm_soma'], color=ge.blue, lw=1)\n",
    "        AX[1].plot(t0+data_freeZn['t'], data_freeZn['Vm_soma'], color='k', lw=1)\n",
    "        t0 += data_freeZn['t'][-1]+space\n",
    "        \n",
    "    ge.set_plot(AX[0], [], xlim=[0, t0], ylim=[-2, AX[0].get_ylim()[1]+2])\n",
    "    ge.set_plot(AX[1], [], xlim=[0, t0], ylim=Vlim)\n",
    "    ge.draw_bar_scales(AX[0], Xbar=Tbar, Xbar_label='%ims' % Tbar, Ybar=Nsyn_bar, Ybar_label='%i syn.' % Nsyn_bar,\n",
    "                       xyLoc=(0,AX[0].get_ylim()[1]))\n",
    "    ge.draw_bar_scales(AX[1], Xbar=1e-10, Xbar_label='', Ybar=10, Ybar_label='10mV ', xyLoc=(0,-50))\n",
    "    ge.annotate(AX[1], '\\n\\n  AMPA only', (1,.9), va='top', color=ge.blue)\n",
    "    ge.annotate(AX[1], '\\n  free Zinc', (1,.9), va='top')\n",
    "    ge.annotate(AX[1], '  chelated Zinc', (1,.9), va='top', color=ge.green)\n",
    "    ge.annotate(AX[1], '-75mV  -> ', (0,-75), va='center', ha='right', xycoords='data')\n"
   ]
  },
  {
   "cell_type": "markdown",
   "metadata": {},
   "source": [
    "## Illustrate on an example location"
   ]
  },
  {
   "cell_type": "code",
   "execution_count": 4,
   "metadata": {},
   "outputs": [
    {
     "data": {
      "image/png": "[encoded data removed]",
      "text/plain": [
       "<Figure size 89.8016x92.3528 with 1 Axes>"
      ]
     },
     "metadata": {},
     "output_type": "display_data"
    }
   ],
   "source": [
    "iloc0 = 6\n",
    "loc_syn1, loc_syn2 = LOCs[iloc0], LOCs[iloc0]-40\n",
    "\n",
    "from datavyz import nrnvyz\n",
    "_, neuron, SEGMENTS = initialize_sim(Model)\n",
    "vis = nrnvyz(SEGMENTS, ge=ge)\n",
    "        \n",
    "fig, ax = ge.figure(figsize=(1.2,1.8), wspace=0, left=0, top=0.3, bottom=0, right=0)\n",
    "#fig1, ax = ge.figure(figsize=(4,4), wspace=0, left=0, top=0.3, bottom=0, right=0)\n",
    "\n",
    "\n",
    "ax.plot([-130, -130], [10, 110], 'k-', lw=1)\n",
    "ge.annotate(ax, '100$\\mu$m', (-130, 110), va='top', ha='right', rotation=90, xycoords='data', size='small')\n",
    "vis.plot_segments(SEGMENTS['comp_type']!='axon',\n",
    "                  bar_scale_args=None,\n",
    "                  ax=ax)\n",
    "vis.add_dots(ax, loc_syn1+np.arange(10), 7, ge.cyan)\n",
    "vis.add_dots(ax, loc_syn2+np.arange(10), 7, ge.pink)\n",
    "ge.annotate(ax, ' 1\\n', (.9,0.4), va='bottom', ha='left', color=ge.cyan)\n",
    "ge.annotate(ax, ' 2', (.9,0.4), va='bottom', ha='left', color=ge.pink)\n",
    "\n",
    "\n",
    "ge.save_on_desktop(fig, 'panel1.svg')"
   ]
  },
  {
   "cell_type": "markdown",
   "metadata": {},
   "source": [
    "## Passive sim"
   ]
  },
  {
   "cell_type": "code",
   "execution_count": 4,
   "metadata": {},
   "outputs": [],
   "source": [
    "NSYN = 10\n",
    "\n",
    "iloc0 = 6\n",
    "LOCs.append(LOCs[iloc0]+20)\n",
    "\n",
    "syn_packets=[{'loc':iloc0, 'nsyn':NSYN, 'label':'1'},\n",
    "             {'loc':len(LOCs)-1, 'nsyn':NSYN, 'label':'2'}]\n",
    "\n",
    "\n",
    "data_freeZn_single_stim1 = run_sim(Model, syn_packets=syn_packets, Nsyn_per_loc=NSYN,\n",
    "                                   activation_sequence=[{'time':50, 'packet':0}],\n",
    "                                   \n",
    "                                   chelated=False, active=False)\n",
    "data_freeZn_single_stim2 = run_sim(Model, syn_packets=syn_packets, Nsyn_per_loc=NSYN,\n",
    "                                   activation_sequence=[{'time':50, 'packet':1}],\n",
    "                                   chelated=False, active=False)\n",
    "\n",
    "data_freeZn_double_stim11 = run_sim(Model, syn_packets=syn_packets, Nsyn_per_loc=NSYN, \n",
    "                                   activation_sequence=[{'time':50, 'packet':0}, {'time':100, 'packet':0}],\n",
    "                                   chelated=False, active=False)\n",
    "\n",
    "data_freeZn_double_stim22 = run_sim(Model, syn_packets=syn_packets, Nsyn_per_loc=NSYN, \n",
    "                                   activation_sequence=[{'time':50, 'packet':1}, {'time':100, 'packet':1}],\n",
    "                                   chelated=False, active=False)\n",
    "\n",
    "data_freeZn_double_stim12 = run_sim(Model, syn_packets=syn_packets, Nsyn_per_loc=NSYN, \n",
    "                                   activation_sequence=[{'time':50, 'packet':0}, {'time':100, 'packet':1}],\n",
    "                                   chelated=False, active=False)\n",
    "\n",
    "data_freeZn_double_stim21 = run_sim(Model, syn_packets=syn_packets, Nsyn_per_loc=NSYN, \n",
    "                                   activation_sequence=[{'time':50, 'packet':1}, {'time':100, 'packet':0}],\n",
    "                                   chelated=False, active=False)\n",
    "\n",
    "# -----\n",
    "\n",
    "data_AMPA_single_stim1 = run_sim(Model, syn_packets=syn_packets, Nsyn_per_loc=NSYN, \n",
    "                                   activation_sequence=[{'time':50, 'packet':0}],\n",
    "                                   ampa_only=True)\n",
    "data_AMPA_single_stim2 = run_sim(Model, syn_packets=syn_packets, Nsyn_per_loc=NSYN, \n",
    "                                   activation_sequence=[{'time':50, 'packet':1}],\n",
    "                                   ampa_only=True)\n",
    "\n",
    "data_AMPA_double_stim11 = run_sim(Model, syn_packets=syn_packets, Nsyn_per_loc=NSYN, \n",
    "                                   activation_sequence=[{'time':50, 'packet':0}, {'time':100, 'packet':0}],\n",
    "                                   ampa_only=True)\n",
    "\n",
    "data_AMPA_double_stim22 = run_sim(Model, syn_packets=syn_packets, Nsyn_per_loc=NSYN, \n",
    "                                   activation_sequence=[{'time':50, 'packet':1}, {'time':100, 'packet':1}],\n",
    "                                   ampa_only=True)\n",
    "\n",
    "data_AMPA_double_stim12 = run_sim(Model, syn_packets=syn_packets, Nsyn_per_loc=NSYN, \n",
    "                                   activation_sequence=[{'time':50, 'packet':0}, {'time':100, 'packet':1}],\n",
    "                                   ampa_only=True)\n",
    "\n",
    "data_AMPA_double_stim21 = run_sim(Model, syn_packets=syn_packets, Nsyn_per_loc=NSYN, \n",
    "                                   activation_sequence=[{'time':50, 'packet':1}, {'time':100, 'packet':0}],\n",
    "                                   ampa_only=True)\n",
    "    \n",
    "# -----\n",
    "\n",
    "data_chelatedZn_double_stim11 = run_sim(Model, syn_packets=syn_packets, Nsyn_per_loc=NSYN, \n",
    "                                   activation_sequence=[{'time':50, 'packet':0}, {'time':100, 'packet':0}],\n",
    "                                   chelated=True, active=False)\n",
    "\n",
    "data_chelatedZn_double_stim22 = run_sim(Model, syn_packets=syn_packets, Nsyn_per_loc=NSYN, \n",
    "                                   activation_sequence=[{'time':50, 'packet':1}, {'time':100, 'packet':1}],\n",
    "                                   chelated=True, active=False)\n"
   ]
  },
  {
   "cell_type": "code",
   "execution_count": 5,
   "metadata": {},
   "outputs": [
    {
     "data": {
      "image/png": "[encoded data removed]",
      "text/plain": [
       "<Figure size 1224.57x112.252 with 2 Axes>"
      ]
     },
     "metadata": {},
     "output_type": "display_data"
    }
   ],
   "source": [
    "\n",
    "list_data_freeZn = [data_freeZn_single_stim1, data_freeZn_single_stim2,\n",
    "                    data_freeZn_double_stim12,data_freeZn_double_stim21,\n",
    "                    data_freeZn_double_stim11,data_freeZn_double_stim22]\n",
    "\n",
    "list_data_AMPA = [data_AMPA_single_stim1, data_AMPA_single_stim2,\n",
    "                    data_AMPA_double_stim12,data_AMPA_double_stim21,\n",
    "                    data_AMPA_double_stim11,data_AMPA_double_stim22]\n",
    "\n",
    "list_data_chelatedZn = [None for i in range(4)]+\\\n",
    "                       [data_chelatedZn_double_stim11, data_chelatedZn_double_stim22]\n",
    "\n",
    "build_fig(list_data_freeZn, list_data_chelatedZn, list_data_AMPA, Tbar=100, Vlim=[-76,-45], Nsyn_bar=6)"
   ]
  },
  {
   "cell_type": "markdown",
   "metadata": {},
   "source": [
    "## Active sims"
   ]
  },
  {
   "cell_type": "code",
   "execution_count": 6,
   "metadata": {},
   "outputs": [
    {
     "ename": "KeyboardInterrupt",
     "evalue": "",
     "output_type": "error",
     "traceback": [
      "\u001b[0;31m---------------------------------------------------------------------------\u001b[0m",
      "\u001b[0;31mKeyboardInterrupt\u001b[0m                         Traceback (most recent call last)",
      "\u001b[0;32m/tmp/ipykernel_57372/3491365058.py\u001b[0m in \u001b[0;36m<module>\u001b[0;34m\u001b[0m\n\u001b[1;32m      9\u001b[0m                                    chelated=False, active=active)\n\u001b[1;32m     10\u001b[0m \u001b[0;34m\u001b[0m\u001b[0m\n\u001b[0;32m---> 11\u001b[0;31m data_Act_freeZn_double_stim12 = run_sim(Model, syn_packets=syn_packets, \n\u001b[0m\u001b[1;32m     12\u001b[0m                                    \u001b[0mactivation_sequence\u001b[0m\u001b[0;34m=\u001b[0m\u001b[0;34m[\u001b[0m\u001b[0;34m{\u001b[0m\u001b[0;34m'time'\u001b[0m\u001b[0;34m:\u001b[0m\u001b[0;36m50\u001b[0m\u001b[0;34m,\u001b[0m \u001b[0;34m'packet'\u001b[0m\u001b[0;34m:\u001b[0m\u001b[0;36m0\u001b[0m\u001b[0;34m}\u001b[0m\u001b[0;34m,\u001b[0m \u001b[0;34m{\u001b[0m\u001b[0;34m'time'\u001b[0m\u001b[0;34m:\u001b[0m\u001b[0;36m100\u001b[0m\u001b[0;34m,\u001b[0m \u001b[0;34m'packet'\u001b[0m\u001b[0;34m:\u001b[0m\u001b[0;36m1\u001b[0m\u001b[0;34m}\u001b[0m\u001b[0;34m]\u001b[0m\u001b[0;34m,\u001b[0m\u001b[0;34m\u001b[0m\u001b[0;34m\u001b[0m\u001b[0m\n\u001b[1;32m     13\u001b[0m                                    chelated=False, active=active)\n",
      "\u001b[0;32m/tmp/ipykernel_57372/3033752780.py\u001b[0m in \u001b[0;36mrun_sim\u001b[0;34m(Model, syn_packets, activation_sequence, syn_packet_width, Nsyn_per_loc, post_duration, stim_seed, active, ampa_only, chelated)\u001b[0m\n\u001b[1;32m     63\u001b[0m \u001b[0;34m\u001b[0m\u001b[0m\n\u001b[1;32m     64\u001b[0m     \u001b[0;31m# # Run simulation\u001b[0m\u001b[0;34m\u001b[0m\u001b[0;34m\u001b[0m\u001b[0;34m\u001b[0m\u001b[0m\n\u001b[0;32m---> 65\u001b[0;31m     \u001b[0mntwk\u001b[0m\u001b[0;34m.\u001b[0m\u001b[0mrun\u001b[0m\u001b[0;34m(\u001b[0m\u001b[0mtstop\u001b[0m\u001b[0;34m*\u001b[0m\u001b[0mntwk\u001b[0m\u001b[0;34m.\u001b[0m\u001b[0mms\u001b[0m\u001b[0;34m)\u001b[0m\u001b[0;34m\u001b[0m\u001b[0;34m\u001b[0m\u001b[0m\n\u001b[0m\u001b[1;32m     66\u001b[0m \u001b[0;34m\u001b[0m\u001b[0m\n\u001b[1;32m     67\u001b[0m     data = {'t':np.array(M.t/ntwk.ms), \n",
      "\u001b[0;32m~/miniconda3/lib/python3.8/site-packages/brian2/units/fundamentalunits.py\u001b[0m in \u001b[0;36mnew_f\u001b[0;34m(*args, **kwds)\u001b[0m\n\u001b[1;32m   2419\u001b[0m                                                      get_dimensions(newkeyset[k]))\n\u001b[1;32m   2420\u001b[0m \u001b[0;34m\u001b[0m\u001b[0m\n\u001b[0;32m-> 2421\u001b[0;31m             \u001b[0mresult\u001b[0m \u001b[0;34m=\u001b[0m \u001b[0mf\u001b[0m\u001b[0;34m(\u001b[0m\u001b[0;34m*\u001b[0m\u001b[0margs\u001b[0m\u001b[0;34m,\u001b[0m \u001b[0;34m**\u001b[0m\u001b[0mkwds\u001b[0m\u001b[0;34m)\u001b[0m\u001b[0;34m\u001b[0m\u001b[0;34m\u001b[0m\u001b[0m\n\u001b[0m\u001b[1;32m   2422\u001b[0m             \u001b[0;32mif\u001b[0m \u001b[0;34m'result'\u001b[0m \u001b[0;32min\u001b[0m \u001b[0mau\u001b[0m\u001b[0;34m:\u001b[0m\u001b[0;34m\u001b[0m\u001b[0;34m\u001b[0m\u001b[0m\n\u001b[1;32m   2423\u001b[0m                 \u001b[0;32mif\u001b[0m \u001b[0misinstance\u001b[0m\u001b[0;34m(\u001b[0m\u001b[0mau\u001b[0m\u001b[0;34m[\u001b[0m\u001b[0;34m'result'\u001b[0m\u001b[0;34m]\u001b[0m\u001b[0;34m,\u001b[0m \u001b[0mCallable\u001b[0m\u001b[0;34m)\u001b[0m \u001b[0;32mand\u001b[0m \u001b[0mau\u001b[0m\u001b[0;34m[\u001b[0m\u001b[0;34m'result'\u001b[0m\u001b[0;34m]\u001b[0m \u001b[0;34m!=\u001b[0m \u001b[0mbool\u001b[0m\u001b[0;34m:\u001b[0m\u001b[0;34m\u001b[0m\u001b[0;34m\u001b[0m\u001b[0m\n",
      "\u001b[0;32m~/miniconda3/lib/python3.8/site-packages/brian2/core/magic.py\u001b[0m in \u001b[0;36mrun\u001b[0;34m(duration, report, report_period, namespace, profile, level)\u001b[0m\n\u001b[1;32m    371\u001b[0m         \u001b[0mintended\u001b[0m \u001b[0muse\u001b[0m\u001b[0;34m.\u001b[0m \u001b[0mSee\u001b[0m\u001b[0;31m \u001b[0m\u001b[0;31m`\u001b[0m\u001b[0mMagicNetwork\u001b[0m\u001b[0;31m`\u001b[0m \u001b[0;32mfor\u001b[0m \u001b[0mmore\u001b[0m \u001b[0mdetails\u001b[0m\u001b[0;34m.\u001b[0m\u001b[0;34m\u001b[0m\u001b[0;34m\u001b[0m\u001b[0m\n\u001b[1;32m    372\u001b[0m     \"\"\"\n\u001b[0;32m--> 373\u001b[0;31m     return magic_network.run(duration, report=report, report_period=report_period,\n\u001b[0m\u001b[1;32m    374\u001b[0m                              namespace=namespace, profile=profile, level=2+level)\n\u001b[1;32m    375\u001b[0m \u001b[0mrun\u001b[0m\u001b[0;34m.\u001b[0m\u001b[0m__module__\u001b[0m \u001b[0;34m=\u001b[0m \u001b[0m__name__\u001b[0m\u001b[0;34m\u001b[0m\u001b[0;34m\u001b[0m\u001b[0m\n",
      "\u001b[0;32m~/miniconda3/lib/python3.8/site-packages/brian2/core/magic.py\u001b[0m in \u001b[0;36mrun\u001b[0;34m(self, duration, report, report_period, namespace, profile, level)\u001b[0m\n\u001b[1;32m    228\u001b[0m             namespace=None, profile=None, level=0):\n\u001b[1;32m    229\u001b[0m         \u001b[0mself\u001b[0m\u001b[0;34m.\u001b[0m\u001b[0m_update_magic_objects\u001b[0m\u001b[0;34m(\u001b[0m\u001b[0mlevel\u001b[0m\u001b[0;34m=\u001b[0m\u001b[0mlevel\u001b[0m\u001b[0;34m+\u001b[0m\u001b[0;36m1\u001b[0m\u001b[0;34m)\u001b[0m\u001b[0;34m\u001b[0m\u001b[0;34m\u001b[0m\u001b[0m\n\u001b[0;32m--> 230\u001b[0;31m         Network.run(self, duration, report=report, report_period=report_period,\n\u001b[0m\u001b[1;32m    231\u001b[0m                     namespace=namespace, profile=profile, level=level+1)\n\u001b[1;32m    232\u001b[0m \u001b[0;34m\u001b[0m\u001b[0m\n",
      "\u001b[0;32m~/miniconda3/lib/python3.8/site-packages/brian2/core/base.py\u001b[0m in \u001b[0;36mdevice_override_decorated_function\u001b[0;34m(*args, **kwds)\u001b[0m\n\u001b[1;32m    291\u001b[0m                 \u001b[0;32mreturn\u001b[0m \u001b[0mgetattr\u001b[0m\u001b[0;34m(\u001b[0m\u001b[0mcurdev\u001b[0m\u001b[0;34m,\u001b[0m \u001b[0mname\u001b[0m\u001b[0;34m)\u001b[0m\u001b[0;34m(\u001b[0m\u001b[0;34m*\u001b[0m\u001b[0margs\u001b[0m\u001b[0;34m,\u001b[0m \u001b[0;34m**\u001b[0m\u001b[0mkwds\u001b[0m\u001b[0;34m)\u001b[0m\u001b[0;34m\u001b[0m\u001b[0;34m\u001b[0m\u001b[0m\n\u001b[1;32m    292\u001b[0m             \u001b[0;32melse\u001b[0m\u001b[0;34m:\u001b[0m\u001b[0;34m\u001b[0m\u001b[0;34m\u001b[0m\u001b[0m\n\u001b[0;32m--> 293\u001b[0;31m                 \u001b[0;32mreturn\u001b[0m \u001b[0mfunc\u001b[0m\u001b[0;34m(\u001b[0m\u001b[0;34m*\u001b[0m\u001b[0margs\u001b[0m\u001b[0;34m,\u001b[0m \u001b[0;34m**\u001b[0m\u001b[0mkwds\u001b[0m\u001b[0;34m)\u001b[0m\u001b[0;34m\u001b[0m\u001b[0;34m\u001b[0m\u001b[0m\n\u001b[0m\u001b[1;32m    294\u001b[0m \u001b[0;34m\u001b[0m\u001b[0m\n\u001b[1;32m    295\u001b[0m         \u001b[0mdevice_override_decorated_function\u001b[0m\u001b[0;34m.\u001b[0m\u001b[0moriginal_function\u001b[0m \u001b[0;34m=\u001b[0m \u001b[0mfunc\u001b[0m\u001b[0;34m\u001b[0m\u001b[0;34m\u001b[0m\u001b[0m\n",
      "\u001b[0;32m~/miniconda3/lib/python3.8/site-packages/brian2/units/fundamentalunits.py\u001b[0m in \u001b[0;36mnew_f\u001b[0;34m(*args, **kwds)\u001b[0m\n\u001b[1;32m   2419\u001b[0m                                                      get_dimensions(newkeyset[k]))\n\u001b[1;32m   2420\u001b[0m \u001b[0;34m\u001b[0m\u001b[0m\n\u001b[0;32m-> 2421\u001b[0;31m             \u001b[0mresult\u001b[0m \u001b[0;34m=\u001b[0m \u001b[0mf\u001b[0m\u001b[0;34m(\u001b[0m\u001b[0;34m*\u001b[0m\u001b[0margs\u001b[0m\u001b[0;34m,\u001b[0m \u001b[0;34m**\u001b[0m\u001b[0mkwds\u001b[0m\u001b[0;34m)\u001b[0m\u001b[0;34m\u001b[0m\u001b[0;34m\u001b[0m\u001b[0m\n\u001b[0m\u001b[1;32m   2422\u001b[0m             \u001b[0;32mif\u001b[0m \u001b[0;34m'result'\u001b[0m \u001b[0;32min\u001b[0m \u001b[0mau\u001b[0m\u001b[0;34m:\u001b[0m\u001b[0;34m\u001b[0m\u001b[0;34m\u001b[0m\u001b[0m\n\u001b[1;32m   2423\u001b[0m                 \u001b[0;32mif\u001b[0m \u001b[0misinstance\u001b[0m\u001b[0;34m(\u001b[0m\u001b[0mau\u001b[0m\u001b[0;34m[\u001b[0m\u001b[0;34m'result'\u001b[0m\u001b[0;34m]\u001b[0m\u001b[0;34m,\u001b[0m \u001b[0mCallable\u001b[0m\u001b[0;34m)\u001b[0m \u001b[0;32mand\u001b[0m \u001b[0mau\u001b[0m\u001b[0;34m[\u001b[0m\u001b[0;34m'result'\u001b[0m\u001b[0;34m]\u001b[0m \u001b[0;34m!=\u001b[0m \u001b[0mbool\u001b[0m\u001b[0;34m:\u001b[0m\u001b[0;34m\u001b[0m\u001b[0;34m\u001b[0m\u001b[0m\n",
      "\u001b[0;32m~/miniconda3/lib/python3.8/site-packages/brian2/core/network.py\u001b[0m in \u001b[0;36mrun\u001b[0;34m(self, duration, report, report_period, namespace, profile, level)\u001b[0m\n\u001b[1;32m   1069\u001b[0m                 \u001b[0;32melse\u001b[0m\u001b[0;34m:\u001b[0m\u001b[0;34m\u001b[0m\u001b[0;34m\u001b[0m\u001b[0m\n\u001b[1;32m   1070\u001b[0m                     \u001b[0;32mfor\u001b[0m \u001b[0mobj\u001b[0m \u001b[0;32min\u001b[0m \u001b[0mactive_objects\u001b[0m\u001b[0;34m:\u001b[0m\u001b[0;34m\u001b[0m\u001b[0;34m\u001b[0m\u001b[0m\n\u001b[0;32m-> 1071\u001b[0;31m                         \u001b[0mobj\u001b[0m\u001b[0;34m.\u001b[0m\u001b[0mrun\u001b[0m\u001b[0;34m(\u001b[0m\u001b[0;34m)\u001b[0m\u001b[0;34m\u001b[0m\u001b[0;34m\u001b[0m\u001b[0m\n\u001b[0m\u001b[1;32m   1072\u001b[0m \u001b[0;34m\u001b[0m\u001b[0m\n\u001b[1;32m   1073\u001b[0m                 \u001b[0mtimestep\u001b[0m\u001b[0;34m[\u001b[0m\u001b[0;36m0\u001b[0m\u001b[0;34m]\u001b[0m \u001b[0;34m+=\u001b[0m \u001b[0;36m1\u001b[0m\u001b[0;34m\u001b[0m\u001b[0;34m\u001b[0m\u001b[0m\n",
      "\u001b[0;32m~/miniconda3/lib/python3.8/site-packages/brian2/core/base.py\u001b[0m in \u001b[0;36mrun\u001b[0;34m(self)\u001b[0m\n\u001b[1;32m    196\u001b[0m     \u001b[0;32mdef\u001b[0m \u001b[0mrun\u001b[0m\u001b[0;34m(\u001b[0m\u001b[0mself\u001b[0m\u001b[0;34m)\u001b[0m\u001b[0;34m:\u001b[0m\u001b[0;34m\u001b[0m\u001b[0;34m\u001b[0m\u001b[0m\n\u001b[1;32m    197\u001b[0m         \u001b[0;32mfor\u001b[0m \u001b[0mcodeobj\u001b[0m \u001b[0;32min\u001b[0m \u001b[0mself\u001b[0m\u001b[0;34m.\u001b[0m\u001b[0m_code_objects\u001b[0m\u001b[0;34m:\u001b[0m\u001b[0;34m\u001b[0m\u001b[0;34m\u001b[0m\u001b[0m\n\u001b[0;32m--> 198\u001b[0;31m             \u001b[0mcodeobj\u001b[0m\u001b[0;34m(\u001b[0m\u001b[0;34m)\u001b[0m\u001b[0;34m\u001b[0m\u001b[0;34m\u001b[0m\u001b[0m\n\u001b[0m\u001b[1;32m    199\u001b[0m \u001b[0;34m\u001b[0m\u001b[0m\n\u001b[1;32m    200\u001b[0m     contained_objects = property(fget=lambda self:self._contained_objects,\n",
      "\u001b[0;32m~/miniconda3/lib/python3.8/site-packages/brian2/codegen/codeobject.py\u001b[0m in \u001b[0;36m__call__\u001b[0;34m(self, **kwds)\u001b[0m\n\u001b[1;32m    104\u001b[0m         \u001b[0mself\u001b[0m\u001b[0;34m.\u001b[0m\u001b[0mnamespace\u001b[0m\u001b[0;34m.\u001b[0m\u001b[0mupdate\u001b[0m\u001b[0;34m(\u001b[0m\u001b[0;34m**\u001b[0m\u001b[0mkwds\u001b[0m\u001b[0;34m)\u001b[0m\u001b[0;34m\u001b[0m\u001b[0;34m\u001b[0m\u001b[0m\n\u001b[1;32m    105\u001b[0m \u001b[0;34m\u001b[0m\u001b[0m\n\u001b[0;32m--> 106\u001b[0;31m         \u001b[0;32mreturn\u001b[0m \u001b[0mself\u001b[0m\u001b[0;34m.\u001b[0m\u001b[0mrun\u001b[0m\u001b[0;34m(\u001b[0m\u001b[0;34m)\u001b[0m\u001b[0;34m\u001b[0m\u001b[0;34m\u001b[0m\u001b[0m\n\u001b[0m\u001b[1;32m    107\u001b[0m \u001b[0;34m\u001b[0m\u001b[0m\n\u001b[1;32m    108\u001b[0m     \u001b[0;32mdef\u001b[0m \u001b[0mrun_block\u001b[0m\u001b[0;34m(\u001b[0m\u001b[0mself\u001b[0m\u001b[0;34m,\u001b[0m \u001b[0mblock\u001b[0m\u001b[0;34m)\u001b[0m\u001b[0;34m:\u001b[0m\u001b[0;34m\u001b[0m\u001b[0;34m\u001b[0m\u001b[0m\n",
      "\u001b[0;32m~/miniconda3/lib/python3.8/site-packages/brian2/codegen/codeobject.py\u001b[0m in \u001b[0;36mrun\u001b[0;34m(self)\u001b[0m\n\u001b[1;32m    132\u001b[0m             \u001b[0mdefined\u001b[0m \u001b[0mduring\u001b[0m \u001b[0mthe\u001b[0m \u001b[0mcall\u001b[0m \u001b[0mof\u001b[0m\u001b[0;31m \u001b[0m\u001b[0;31m`\u001b[0m\u001b[0mCodeGenerator\u001b[0m\u001b[0;34m.\u001b[0m\u001b[0mcode_object\u001b[0m\u001b[0;31m`\u001b[0m\u001b[0;34m.\u001b[0m\u001b[0;34m\u001b[0m\u001b[0;34m\u001b[0m\u001b[0m\n\u001b[1;32m    133\u001b[0m         \"\"\"\n\u001b[0;32m--> 134\u001b[0;31m         \u001b[0;32mreturn\u001b[0m \u001b[0mself\u001b[0m\u001b[0;34m.\u001b[0m\u001b[0mrun_block\u001b[0m\u001b[0;34m(\u001b[0m\u001b[0;34m'run'\u001b[0m\u001b[0;34m)\u001b[0m\u001b[0;34m\u001b[0m\u001b[0;34m\u001b[0m\u001b[0m\n\u001b[0m\u001b[1;32m    135\u001b[0m \u001b[0;34m\u001b[0m\u001b[0m\n\u001b[1;32m    136\u001b[0m     \u001b[0;32mdef\u001b[0m \u001b[0mafter_run\u001b[0m\u001b[0;34m(\u001b[0m\u001b[0mself\u001b[0m\u001b[0;34m)\u001b[0m\u001b[0;34m:\u001b[0m\u001b[0;34m\u001b[0m\u001b[0;34m\u001b[0m\u001b[0m\n",
      "\u001b[0;32m~/miniconda3/lib/python3.8/site-packages/brian2/codegen/runtime/cython_rt/cython_rt.py\u001b[0m in \u001b[0;36mrun_block\u001b[0;34m(self, block)\u001b[0m\n\u001b[1;32m    155\u001b[0m         \u001b[0;32mif\u001b[0m \u001b[0mcompiled_code\u001b[0m\u001b[0;34m:\u001b[0m\u001b[0;34m\u001b[0m\u001b[0;34m\u001b[0m\u001b[0m\n\u001b[1;32m    156\u001b[0m             \u001b[0;32mtry\u001b[0m\u001b[0;34m:\u001b[0m\u001b[0;34m\u001b[0m\u001b[0;34m\u001b[0m\u001b[0m\n\u001b[0;32m--> 157\u001b[0;31m                 \u001b[0;32mreturn\u001b[0m \u001b[0mcompiled_code\u001b[0m\u001b[0;34m.\u001b[0m\u001b[0mmain\u001b[0m\u001b[0;34m(\u001b[0m\u001b[0mself\u001b[0m\u001b[0;34m.\u001b[0m\u001b[0mnamespace\u001b[0m\u001b[0;34m)\u001b[0m\u001b[0;34m\u001b[0m\u001b[0;34m\u001b[0m\u001b[0m\n\u001b[0m\u001b[1;32m    158\u001b[0m             \u001b[0;32mexcept\u001b[0m \u001b[0mException\u001b[0m \u001b[0;32mas\u001b[0m \u001b[0mexc\u001b[0m\u001b[0;34m:\u001b[0m\u001b[0;34m\u001b[0m\u001b[0;34m\u001b[0m\u001b[0m\n\u001b[1;32m    159\u001b[0m                 message = (f\"An exception occured during the execution of the \"\n",
      "\u001b[0;31mKeyboardInterrupt\u001b[0m: "
     ]
    }
   ],
   "source": [
    "active = True\n",
    "\n",
    "data_Act_freeZn_double_stim11 = run_sim(Model, syn_packets=syn_packets, \n",
    "                                   activation_sequence=[{'time':50, 'packet':0}, {'time':100, 'packet':0}],\n",
    "                                   chelated=False, active=active)\n",
    "\n",
    "data_Act_freeZn_double_stim22 = run_sim(Model, syn_packets=syn_packets, \n",
    "                                   activation_sequence=[{'time':50, 'packet':1}, {'time':100, 'packet':1}],\n",
    "                                   chelated=False, active=active)\n",
    "\n",
    "data_Act_freeZn_double_stim12 = run_sim(Model, syn_packets=syn_packets, \n",
    "                                   activation_sequence=[{'time':50, 'packet':0}, {'time':100, 'packet':1}],\n",
    "                                   chelated=False, active=active)\n",
    "\n",
    "data_Act_freeZn_double_stim21 = run_sim(Model, syn_packets=syn_packets, \n",
    "                                   activation_sequence=[{'time':50, 'packet':1}, {'time':100, 'packet':0}],\n",
    "                                   chelated=False, active=active)\n",
    "\n",
    "data_Act_chelatedZn_double_stim11 = run_sim(Model, syn_packets=syn_packets, \n",
    "                                   activation_sequence=[{'time':50, 'packet':0}, {'time':100, 'packet':0}],\n",
    "                                   chelated=True, active=active)\n",
    "\n",
    "data_Act_chelatedZn_double_stim22 = run_sim(Model, syn_packets=syn_packets, \n",
    "                                   activation_sequence=[{'time':50, 'packet':1}, {'time':100, 'packet':1}],\n",
    "                                   chelated=True, active=active)"
   ]
  },
  {
   "cell_type": "code",
   "execution_count": null,
   "metadata": {},
   "outputs": [],
   "source": [
    "list_data_freeZn = [data_Act_freeZn_double_stim12,data_Act_freeZn_double_stim21,\n",
    "                    data_Act_freeZn_double_stim11,data_Act_freeZn_double_stim22]\n",
    "list_data_chelatedZn = [data_Act_freeZn_double_stim12,data_Act_freeZn_double_stim21,\\\n",
    "                       data_Act_chelatedZn_double_stim11, data_Act_chelatedZn_double_stim22]\n",
    "build_fig(list_data_freeZn, list_data_chelatedZn, [None for i in range(4)], Tbar=100, Vlim=[-80,15])"
   ]
  },
  {
   "cell_type": "markdown",
   "metadata": {},
   "source": [
    "### merge in fig"
   ]
  },
  {
   "cell_type": "code",
   "execution_count": null,
   "metadata": {},
   "outputs": [],
   "source": [
    "list_data_freeZn = [data_freeZn_single_stim1, data_freeZn_single_stim2,\n",
    "                    data_freeZn_double_stim12,data_freeZn_double_stim21,\n",
    "                    data_freeZn_double_stim11,data_freeZn_double_stim22]\n",
    "\n",
    "list_data_AMPA = [data_AMPA_single_stim1, data_AMPA_single_stim2,\n",
    "                    data_AMPA_double_stim12,data_AMPA_double_stim21,\n",
    "                    data_AMPA_double_stim11,data_AMPA_double_stim22]\n",
    "\n",
    "list_data_chelatedZn = [data_freeZn_single_stim1, data_freeZn_single_stim2,\n",
    "                        data_freeZn_double_stim12,data_freeZn_double_stim21,\n",
    "                        data_chelatedZn_double_stim11, data_chelatedZn_double_stim22]\n",
    "\n",
    "\n",
    "list_data_Act_freeZn = [data_Act_freeZn_double_stim12,data_Act_freeZn_double_stim21,\n",
    "                        data_Act_freeZn_double_stim11,data_Act_freeZn_double_stim22]\n",
    "\n",
    "list_data_Act_chelatedZn = [None for i in range(2)]+\\\n",
    "                       [data_Act_chelatedZn_double_stim11, data_Act_chelatedZn_double_stim22]\n",
    "\n",
    "space=50\n",
    "Nsyn_bar=10\n",
    "Tbar=50\n",
    "Vlim=[-77,-30]\n",
    "\n",
    "fig, AX = ge.figure(axes_extents=[[[1,2]],\n",
    "                                  [[3,5]]], \n",
    "                    figsize=(2.,.15), \n",
    "                    #figsize=(3.,.3), \n",
    "                    hspace=0)\n",
    "\n",
    "t0=0\n",
    "for data_freeZn, data_chelatedZn, data_AMPA in zip(list_data_freeZn, list_data_chelatedZn, list_data_AMPA):\n",
    "    n=0\n",
    "    for label, color in zip(['1', '2', '3', '4'], [ge.cyan, ge.pink, ge.purple, ge.orange]):\n",
    "        cond = (data_freeZn['syn_labels']==label)\n",
    "        AX[0].plot(t0+data_freeZn['syn_times'][cond], n+data_freeZn['syn_IDs'][cond], 'o', ms=.5, color=color)\n",
    "        if np.sum(cond)>0:\n",
    "            n+=np.max(data_freeZn['syn_IDs'][cond])\n",
    "\n",
    "    if data_AMPA is not None:\n",
    "        AX[1].plot(t0+data_AMPA['t'], data_AMPA['Vm_soma'], color=ge.blue, lw=1)\n",
    "    AX[1].plot(t0+data_freeZn['t'], data_freeZn['Vm_soma'], color='k', lw=1)\n",
    "    if data_chelatedZn is not None:\n",
    "        AX[1].plot(t0+data_chelatedZn['t'], data_chelatedZn['Vm_soma'], '--', color=ge.green, lw=0.5)\n",
    "    t0 += data_freeZn['t'][-1]+space\n",
    "\n",
    "for i in range(4):\n",
    "    axi = ge.inset(AX[1], [0.4+i*0.17, .5, .05, .5])\n",
    "    data_freeZn, data_chelatedZn = list_data_Act_freeZn[i], list_data_Act_chelatedZn[i]\n",
    "    if data_chelatedZn is not None:\n",
    "        axi.plot(t0+data_chelatedZn['t'], data_chelatedZn['Vm_soma'], '--', color=ge.green, lw=0.5)\n",
    "        axi.plot(t0+data_freeZn['t'], data_freeZn['Vm_soma'], color='k', lw=1)\n",
    "    else:\n",
    "        axi.plot(t0+data_freeZn['t'], data_freeZn['Vm_soma'], color='k', lw=1)        \n",
    "        axi.plot(t0+data_freeZn['t'], data_freeZn['Vm_soma'], '--', color=ge.green, lw=0.5)\n",
    "    ge.set_plot(axi, [], ylim=[-82, 10])\n",
    "    \n",
    "ge.draw_bar_scales(axi, Xbar=1e-3, Xbar_label=' ', Ybar=30, Ybar_label=' 30mV', loc='top-right')\n",
    "    \n",
    "ge.set_plot(AX[0], [], xlim=[0, t0], ylim=[-2, AX[0].get_ylim()[1]+2])\n",
    "ge.set_plot(AX[1], [], xlim=[0, t0], ylim=Vlim)\n",
    "ge.draw_bar_scales(AX[0], Xbar=Tbar, Xbar_label='%ims' % Tbar, Ybar=Nsyn_bar, Ybar_label='%i syn.' % Nsyn_bar,\n",
    "                   xyLoc=(0,AX[0].get_ylim()[1]))\n",
    "ge.draw_bar_scales(AX[1], Xbar=1e-10, Xbar_label='', Ybar=10, Ybar_label='10mV ', xyLoc=(0,-50))\n",
    "ge.annotate(AX[1], '\\n\\n  AMPA only', (1,.5), va='top', color=ge.blue, size='small')\n",
    "ge.annotate(AX[1], '\\n  free Zinc', (1,.5), va='top', size='small')\n",
    "ge.annotate(AX[1], '  chelated Zinc', (1,.5), va='top', color=ge.green, size='small')\n",
    "ge.annotate(AX[1], '-75mV - ', (0,-75), va='center', ha='right', xycoords='data', size='small')\n",
    "ge.annotate(AX[0], 'pattern 1', (0.04,0.5), size='x-small', color=ge.cyan)\n",
    "ge.annotate(AX[0], 'pattern 2', (0.18,0.), size='x-small', color=ge.pink)\n",
    "\n",
    "ge.save_on_desktop(fig, 'panel2.svg')"
   ]
  },
  {
   "cell_type": "markdown",
   "metadata": {},
   "source": [
    "## Scan parameter space: intensity x timing"
   ]
  },
  {
   "cell_type": "code",
   "execution_count": 40,
   "metadata": {},
   "outputs": [
    {
     "name": "stdout",
     "output_type": "stream",
     "text": [
      "interstims (ms):  [ 30.          41.00928779  56.05872282  76.63094324 104.75268015\n",
      " 143.19442689 195.74338206 267.57655623 365.77079998 500.        ]\n",
      "nsyns: (ms) [ 5  7  9 11 13 15 17 19 21]\n"
     ]
    }
   ],
   "source": [
    "interstims = np.logspace(np.log10(30), np.log10(500), 10)\n",
    "nsyns = 5+np.arange(9)*2\n",
    "\n",
    "print('interstims (ms): ', interstims)\n",
    "print('nsyns: (ms)', nsyns)"
   ]
  },
  {
   "cell_type": "code",
   "execution_count": null,
   "metadata": {},
   "outputs": [
    {
     "name": "stdout",
     "output_type": "stream",
     "text": [
      "loc #1 / 25\n"
     ]
    }
   ],
   "source": [
    "iloc = 6\n",
    "active = False\n",
    "\n",
    "nlocs = 1 # len(LOCs)\n",
    "delta_Vm = np.zeros((len(interstims), len(nsyns), nlocs))\n",
    "\n",
    "for iloc in range(len(LOCs))[:nlocs]:\n",
    "    print('loc #%i / %i' % (iloc+1, len(LOCs)))\n",
    "    for i, DT in enumerate(interstims):\n",
    "        for j, nsyn in enumerate(nsyns):\n",
    "            syn_packets=[{'loc':iloc, 'nsyn':nsyn, 'label':'1'}]\n",
    "\n",
    "            data_freeZn = run_sim(Model, syn_packets=syn_packets, Nsyn_per_loc=nsyn,\n",
    "                                  activation_sequence=[{'time':20, 'packet':0}, {'time':20+DT, 'packet':0}],\n",
    "                                  chelated=False, active=active)\n",
    "            data_chelatedZn = run_sim(Model, syn_packets=syn_packets, Nsyn_per_loc=nsyn,\n",
    "                                  activation_sequence=[{'time':20, 'packet':0}, {'time':20+DT, 'packet':0}],\n",
    "                                  chelated=True, active=active)\n",
    "\n",
    "            delta_Vm[i,j,iloc] = (np.max(data_chelatedZn['Vm_soma'])-np.max(data_freeZn['Vm_soma']))"
   ]
  },
  {
   "cell_type": "code",
   "execution_count": null,
   "metadata": {},
   "outputs": [],
   "source": [
    "np.save('delta_Vm.npy', **{'delta_Vm':delta_Vm, 'interstims':interstims, 'nsyns':nsyns})"
   ]
  },
  {
   "cell_type": "code",
   "execution_count": null,
   "metadata": {},
   "outputs": [],
   "source": [
    "data = np.load('delta_Vm.npy')\n",
    "nsyns, interstims, delta_Vm = data['nsyns'], data['interstims'], data['delta_Vm']\n",
    "\n",
    "print(delta_Vm.shape)\n",
    "fig, ax = ge.figure(right=5.,\n",
    "                    #figsize=(.9,1.))\n",
    "                    figsize=(2,4))\n",
    "\n",
    "ax.imshow(delta_Vm.mean(axis=-1).T,\n",
    "          interpolation=None, extent=[0, len(interstims), nsyns[0], nsyns[-1]],\n",
    "          vmin = 0, vmax = np.max(delta_Vm.mean(axis=-1)), \n",
    "          origin='lower', aspect='auto')\n",
    "\n",
    "# need to make a custom log axis corresponding to the log-spacing of interstim points\n",
    "def dlog(x, n=len(interstims), x1=interstims[0], xn=interstims[-1]):\n",
    "    return .5+(np.log10(x)-np.log10(x1))/(np.log10(xn)-np.log10(x1))*(n-1)\n",
    "mticks = [dlog(x) for x in [40, 60, 70, 80, 90, 100, 200]]\n",
    "\n",
    "ge.set_plot(ax,# title='Zinc modulation',\n",
    "            #xlim=[interstims[0], interstims[-1]], #xscale='log', \n",
    "            yticks=[5, 10, 15, 20], ylabel='syn. # in packet       ',\n",
    "            xminor_ticks=mticks,\n",
    "            xticks=[dlog(x) for x in [30, 50, 100, 300]], xticks_labels=[str(x) for x in [30, 50, 100, 300]],\n",
    "            xlabel='inter-packet time (ms) ')\n",
    "\n",
    "ge.bar_legend(fig,\n",
    "              bounds=[0, np.max(delta_Vm)],\n",
    "              ticks=[0, 2, 4],\n",
    "              ax_colorbar=None, \n",
    "              colorbar_inset=dict(rect=[.72,.3,.03,.5], facecolor=None),\n",
    "              colormap=ge.viridis,\n",
    "              label=r'$\\Delta$  max. $V_m$  (mV)      ')\n",
    "\n",
    "ge.save_on_desktop(fig, 'panel3.svg')"
   ]
  },
  {
   "cell_type": "code",
   "execution_count": 38,
   "metadata": {},
   "outputs": [
    {
     "data": {
      "text/plain": [
       "220"
      ]
     },
     "execution_count": 38,
     "metadata": {},
     "output_type": "execute_result"
    }
   ],
   "source": [
    "np.argmax(delta_Vm)"
   ]
  },
  {
   "cell_type": "code",
   "execution_count": 39,
   "metadata": {},
   "outputs": [
    {
     "name": "stdout",
     "output_type": "stream",
     "text": [
      "15.000000000000004 9\n"
     ]
    }
   ],
   "source": [
    "iDt, iSyn = np.unravel_index(np.argmax(delta_Vm.mean(axis=-1)), delta_Vm.mean(axis=-1).shape)\n",
    "print(interstims[iDt], nsyns[iSyn])"
   ]
  },
  {
   "cell_type": "code",
   "execution_count": null,
   "metadata": {},
   "outputs": [],
   "source": []
  }
 ],
 "metadata": {
  "kernelspec": {
   "display_name": "Python 3 (ipykernel)",
   "language": "python",
   "name": "python3"
  },
  "language_info": {
   "codemirror_mode": {
    "name": "ipython",
    "version": 3
   },
   "file_extension": ".py",
   "mimetype": "text/x-python",
   "name": "python",
   "nbconvert_exporter": "python",
   "pygments_lexer": "ipython3",
   "version": "3.8.3"
  },
  "name": "Multi-Input-Integration.ipynb"
 },
 "nbformat": 4,
 "nbformat_minor": 2
}
