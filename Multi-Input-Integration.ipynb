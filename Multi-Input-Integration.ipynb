{
 "cells": [
  {
   "cell_type": "code",
   "execution_count": 1,
   "metadata": {},
   "outputs": [],
   "source": [
    "%matplotlib inline\n",
    "import numpy as np\n",
    "import os\n",
    "from datavyz import graph_env_dark_notebook as ge"
   ]
  },
  {
   "cell_type": "code",
   "execution_count": 2,
   "metadata": {},
   "outputs": [],
   "source": [
    "# LOCs = np.load('data/nmda-spike/locations.npy') ---> corresponds to:\n",
    "LOCs = [74, 124, 313, 363, 474, 630, 680, 800, 886, 936, 1036, 1227, 1428, 1478, 1634, 1856, 2117, 2183, 2233, 2379, 2429, 3177, 3319, 3464, 3514]"
   ]
  },
  {
   "cell_type": "code",
   "execution_count": 3,
   "metadata": {},
   "outputs": [
    {
     "name": "stderr",
     "output_type": "stream",
     "text": [
      "INFO       Cache size for target \"cython\": 2701 MB.\n",
      "You can call \"clear_cache('cython')\" to delete all files from the cache or manually delete files in the \"/home/yann/.cython/brian_extensions\" directory. [brian2]\n"
     ]
    }
   ],
   "source": [
    "from single_cell_sim import *\n",
    "from model import Model\n",
    "\n",
    "def run_sim(Model,\n",
    "            syn_packets=[{'loc':0, 'nsyn':5, 'label':'1'},\n",
    "                         {'loc':1, 'nsyn':5, 'label':'2'}],\n",
    "            activation_sequence=[{'time':200,\n",
    "                                  'packet':0},\n",
    "                                 {'time':400,\n",
    "                                  'packet':1}],\n",
    "            syn_packet_width=5,\n",
    "            Nsyn_per_loc=20,\n",
    "            post_duration=200.,\n",
    "            stim_seed=2,\n",
    "            active=False,\n",
    "            ampa_only=False,\n",
    "            chelated=False):\n",
    "\n",
    "\n",
    "    Modelc = Model.copy()\n",
    "    tstop = activation_sequence[-1]['time']+post_duration\n",
    "    if chelated:\n",
    "        Modelc['alphaZn'] = 0.\n",
    "\n",
    "    t, neuron, SEGMENTS = initialize_sim(Model,\n",
    "                                         active=active,\n",
    "                                         tstop=tstop, verbose=False)\n",
    "\n",
    "    np.random.seed(stim_seed)\n",
    "    \n",
    "    PACKETS, ulocs = [], np.unique([sp['loc'] for sp in syn_packets])\n",
    "    for i, sp in enumerate(syn_packets):\n",
    "        i0 = np.argwhere(sp['loc']==ulocs).flatten()[0] # to catch syn packets at the same location\n",
    "        locs = LOCs[sp['loc']]+np.arange(Nsyn_per_loc)\n",
    "        times = np.sort(np.random.randn(sp['nsyn'])*syn_packet_width)\n",
    "        IDs = np.random.choice(i0*Nsyn_per_loc+np.arange(Nsyn_per_loc), sp['nsyn'], replace=False)\n",
    "        labels = [sp['label'] for i in range(sp['nsyn'])]\n",
    "        PACKETS.append({'times':times, 'IDs':IDs, 'locs':locs, 'labels':labels})\n",
    "        \n",
    "    syn_IDs, syn_times, syn_labels = np.empty(0, dtype=int), np.empty(0, dtype=float), np.empty(0, dtype=str)\n",
    "\n",
    "    for i, act in enumerate(activation_sequence):\n",
    "        syn_times = np.concatenate([syn_times,\n",
    "                                    act['time']+PACKETS[act['packet']]['times']])\n",
    "        syn_IDs = np.concatenate([syn_IDs,\n",
    "                                  PACKETS[act['packet']]['IDs']])\n",
    "        syn_labels = np.concatenate([syn_labels, PACKETS[act['packet']]['labels']])\n",
    "\n",
    "    if ampa_only:\n",
    "        Modelc['qNMDA'] = 0.\n",
    "    elif chelated:\n",
    "        Modelc['Deltax0'] = 0.\n",
    "        \n",
    "    Estim, ES = ntwk.process_and_connect_event_stimulation(neuron,\n",
    "                                                           syn_IDs, syn_times,\n",
    "                                                           np.concatenate([(LOCs[ul]+np.arange(Nsyn_per_loc)) for ul in ulocs]),\n",
    "                                                           EXC_SYNAPSES_EQUATIONS.format(**Modelc),\n",
    "                                                           ON_EXC_EVENT.format(**Modelc))\n",
    "\n",
    "    # recording and running\n",
    "    M = ntwk.StateMonitor(neuron, ('v'), record=[0]+[sp['loc'] for sp in syn_packets])\n",
    "    S = ntwk.StateMonitor(ES, ('X', 'gAMPA', 'gRiseNMDA', 'gDecayNMDA', 'bZn'), record=[0])\n",
    "\n",
    "    # # Run simulation\n",
    "    ntwk.run(tstop*ntwk.ms)\n",
    "    \n",
    "    data = {'t':np.array(M.t/ntwk.ms), \n",
    "            'Vm_soma':np.array(M.v/ntwk.mV)[0,:],\n",
    "            'bZn_syn':np.array(S.bZn)[0,:],\n",
    "            'gAMPA_syn':np.array(S.gAMPA/ntwk.nS)[0,:],\n",
    "            'X_syn':np.array(S.X)[0,:],\n",
    "            'Vm_syn':np.array(M.v/ntwk.mV)[1,:],\n",
    "            'syn_times': syn_times,\n",
    "            'syn_IDs': syn_IDs,\n",
    "            'syn_labels': syn_labels,\n",
    "            'Model':Modelc}\n",
    "    data['gNMDA_syn']= Model['qNMDA']*Model['nNMDA']*\\\n",
    "        (np.array(S.gDecayNMDA)[0,:]-np.array(S.gRiseNMDA)[0,:])\\\n",
    "        /(1+Model['etaMg']*Model['cMg']*np.exp(-data['Vm_syn']/Model['V0NMDA']))\\\n",
    "        *(1-Model['alphaZn']*data['bZn_syn'])\n",
    "    \n",
    "    for obj in [neuron, M, S, Estim, ES, SEGMENTS]:\n",
    "        del(obj)\n",
    "        \n",
    "    return data\n",
    "\n",
    "def build_fig(list_data_freeZn, list_data_chelatedZn, list_data_AMPA,\n",
    "              list_data_freeZn_active=None, list_data_chelatedZn_active=None,\n",
    "              space=50, Nsyn_bar=10, Tbar=20, Vlim=[-75,-30]):\n",
    "    # fig shape\n",
    "    fig, AX = ge.figure(axes_extents=[[[1,2]],\n",
    "                                      [[3,5]]], \n",
    "                        #figsize=(2.,.15), \n",
    "                        figsize=(4.,.3), \n",
    "                        hspace=0)\n",
    "\n",
    "    t0=0\n",
    "    for data_freeZn, data_chelatedZn, data_AMPA in zip(list_data_freeZn, list_data_chelatedZn, list_data_AMPA):\n",
    "        n=0\n",
    "        for label, color in zip(['1', '2', '3', '4'], [ge.cyan, ge.pink, ge.purple, ge.orange]):\n",
    "            cond = (data_freeZn['syn_labels']==label)\n",
    "            AX[0].plot(t0+data_freeZn['syn_times'][cond], n+data_freeZn['syn_IDs'][cond], 'o', ms=1, color=color)\n",
    "            if np.sum(cond)>0:\n",
    "                n+=np.max(data_freeZn['syn_IDs'][cond])\n",
    "            \n",
    "        if data_chelatedZn is not None:\n",
    "            AX[1].plot(t0+data_chelatedZn['t'], data_chelatedZn['Vm_soma'], color=ge.green, lw=1)\n",
    "        if data_AMPA is not None:\n",
    "            AX[1].plot(t0+data_AMPA['t'], data_AMPA['Vm_soma'], color=ge.blue, lw=1)\n",
    "        AX[1].plot(t0+data_freeZn['t'], data_freeZn['Vm_soma'], color='k', lw=1)\n",
    "        t0 += data_freeZn['t'][-1]+space\n",
    "        \n",
    "    ge.set_plot(AX[0], [], xlim=[0, t0], ylim=[-2, AX[0].get_ylim()[1]+2])\n",
    "    ge.set_plot(AX[1], [], xlim=[0, t0], ylim=Vlim)\n",
    "    ge.draw_bar_scales(AX[0], Xbar=Tbar, Xbar_label='%ims' % Tbar, Ybar=Nsyn_bar, Ybar_label='%i syn.' % Nsyn_bar,\n",
    "                       xyLoc=(0,AX[0].get_ylim()[1]))\n",
    "    ge.draw_bar_scales(AX[1], Xbar=1e-10, Xbar_label='', Ybar=10, Ybar_label='10mV ', xyLoc=(0,-50))\n",
    "    ge.annotate(AX[1], '\\n\\n  AMPA only', (1,.9), va='top', color=ge.blue)\n",
    "    ge.annotate(AX[1], '\\n  free Zinc', (1,.9), va='top')\n",
    "    ge.annotate(AX[1], '  chelated Zinc', (1,.9), va='top', color=ge.green)\n",
    "    ge.annotate(AX[1], '-75mV  -> ', (0,-75), va='center', ha='right', xycoords='data')\n"
   ]
  },
  {
   "cell_type": "markdown",
   "metadata": {},
   "source": [
    "## Illustrate on an example location"
   ]
  },
  {
   "cell_type": "code",
   "execution_count": 40,
   "metadata": {},
   "outputs": [
    {
     "data": {
      "image/png": "[encoded data removed]",
      "text/plain": [
       "<Figure size 89.8016x92.3528 with 1 Axes>"
      ]
     },
     "metadata": {},
     "output_type": "display_data"
    }
   ],
   "source": [
    "iloc0 = 6\n",
    "loc_syn1, loc_syn2 = LOCs[iloc0], LOCs[iloc0]-40\n",
    "\n",
    "from datavyz import nrnvyz\n",
    "_, neuron, SEGMENTS = initialize_sim(Model)\n",
    "vis = nrnvyz(SEGMENTS, ge=ge)\n",
    "        \n",
    "fig, ax = ge.figure(figsize=(1.2,1.8), wspace=0, left=0, top=0.3, bottom=0, right=0)\n",
    "#fig1, ax = ge.figure(figsize=(4,4), wspace=0, left=0, top=0.3, bottom=0, right=0)\n",
    "\n",
    "\n",
    "ax.plot([-130, -130], [10, 110], 'k-', lw=1)\n",
    "ge.annotate(ax, '100$\\mu$m', (-130, 110), va='top', ha='right', rotation=90, xycoords='data', size='small')\n",
    "vis.plot_segments(SEGMENTS['comp_type']!='axon',\n",
    "                  bar_scale_args=None,\n",
    "                  ax=ax)\n",
    "vis.add_dots(ax, loc_syn1+np.arange(10), 7, ge.cyan)\n",
    "vis.add_dots(ax, loc_syn2+np.arange(10), 7, ge.pink)\n",
    "ge.annotate(ax, ' 1\\n', (.9,0.4), va='bottom', ha='left', color=ge.cyan)\n",
    "ge.annotate(ax, ' 2', (.9,0.4), va='bottom', ha='left', color=ge.pink)\n",
    "\n",
    "\n",
    "ge.save_on_desktop(fig, 'panel1.svg')"
   ]
  },
  {
   "cell_type": "markdown",
   "metadata": {},
   "source": [
    "## Passive sim"
   ]
  },
  {
   "cell_type": "code",
   "execution_count": 4,
   "metadata": {},
   "outputs": [],
   "source": [
    "NSYN = 10\n",
    "\n",
    "iloc0 = 6\n",
    "LOCs.append(LOCs[iloc0]+20)\n",
    "\n",
    "syn_packets=[{'loc':iloc0, 'nsyn':NSYN, 'label':'1'},\n",
    "             {'loc':len(LOCs)-1, 'nsyn':NSYN, 'label':'2'}]\n",
    "\n",
    "\n",
    "data_freeZn_single_stim1 = run_sim(Model, syn_packets=syn_packets, Nsyn_per_loc=NSYN,\n",
    "                                   activation_sequence=[{'time':50, 'packet':0}],\n",
    "                                   \n",
    "                                   chelated=False, active=False)\n",
    "data_freeZn_single_stim2 = run_sim(Model, syn_packets=syn_packets, Nsyn_per_loc=NSYN,\n",
    "                                   activation_sequence=[{'time':50, 'packet':1}],\n",
    "                                   chelated=False, active=False)\n",
    "\n",
    "data_freeZn_double_stim11 = run_sim(Model, syn_packets=syn_packets, Nsyn_per_loc=NSYN, \n",
    "                                   activation_sequence=[{'time':50, 'packet':0}, {'time':100, 'packet':0}],\n",
    "                                   chelated=False, active=False)\n",
    "\n",
    "data_freeZn_double_stim22 = run_sim(Model, syn_packets=syn_packets, Nsyn_per_loc=NSYN, \n",
    "                                   activation_sequence=[{'time':50, 'packet':1}, {'time':100, 'packet':1}],\n",
    "                                   chelated=False, active=False)\n",
    "\n",
    "data_freeZn_double_stim12 = run_sim(Model, syn_packets=syn_packets, Nsyn_per_loc=NSYN, \n",
    "                                   activation_sequence=[{'time':50, 'packet':0}, {'time':100, 'packet':1}],\n",
    "                                   chelated=False, active=False)\n",
    "\n",
    "data_freeZn_double_stim21 = run_sim(Model, syn_packets=syn_packets, Nsyn_per_loc=NSYN, \n",
    "                                   activation_sequence=[{'time':50, 'packet':1}, {'time':100, 'packet':0}],\n",
    "                                   chelated=False, active=False)\n",
    "\n",
    "# -----\n",
    "\n",
    "data_AMPA_single_stim1 = run_sim(Model, syn_packets=syn_packets, Nsyn_per_loc=NSYN, \n",
    "                                   activation_sequence=[{'time':50, 'packet':0}],\n",
    "                                   ampa_only=True)\n",
    "data_AMPA_single_stim2 = run_sim(Model, syn_packets=syn_packets, Nsyn_per_loc=NSYN, \n",
    "                                   activation_sequence=[{'time':50, 'packet':1}],\n",
    "                                   ampa_only=True)\n",
    "\n",
    "data_AMPA_double_stim11 = run_sim(Model, syn_packets=syn_packets, Nsyn_per_loc=NSYN, \n",
    "                                   activation_sequence=[{'time':50, 'packet':0}, {'time':100, 'packet':0}],\n",
    "                                   ampa_only=True)\n",
    "\n",
    "data_AMPA_double_stim22 = run_sim(Model, syn_packets=syn_packets, Nsyn_per_loc=NSYN, \n",
    "                                   activation_sequence=[{'time':50, 'packet':1}, {'time':100, 'packet':1}],\n",
    "                                   ampa_only=True)\n",
    "\n",
    "data_AMPA_double_stim12 = run_sim(Model, syn_packets=syn_packets, Nsyn_per_loc=NSYN, \n",
    "                                   activation_sequence=[{'time':50, 'packet':0}, {'time':100, 'packet':1}],\n",
    "                                   ampa_only=True)\n",
    "\n",
    "data_AMPA_double_stim21 = run_sim(Model, syn_packets=syn_packets, Nsyn_per_loc=NSYN, \n",
    "                                   activation_sequence=[{'time':50, 'packet':1}, {'time':100, 'packet':0}],\n",
    "                                   ampa_only=True)\n",
    "    \n",
    "# -----\n",
    "\n",
    "data_chelatedZn_double_stim11 = run_sim(Model, syn_packets=syn_packets, Nsyn_per_loc=NSYN, \n",
    "                                   activation_sequence=[{'time':50, 'packet':0}, {'time':100, 'packet':0}],\n",
    "                                   chelated=True, active=False)\n",
    "\n",
    "data_chelatedZn_double_stim22 = run_sim(Model, syn_packets=syn_packets, Nsyn_per_loc=NSYN, \n",
    "                                   activation_sequence=[{'time':50, 'packet':1}, {'time':100, 'packet':1}],\n",
    "                                   chelated=True, active=False)\n"
   ]
  },
  {
   "cell_type": "code",
   "execution_count": 5,
   "metadata": {},
   "outputs": [
    {
     "data": {
      "image/png": "[encoded data removed]",
      "text/plain": [
       "<Figure size 1224.57x112.252 with 2 Axes>"
      ]
     },
     "metadata": {},
     "output_type": "display_data"
    }
   ],
   "source": [
    "\n",
    "list_data_freeZn = [data_freeZn_single_stim1, data_freeZn_single_stim2,\n",
    "                    data_freeZn_double_stim12,data_freeZn_double_stim21,\n",
    "                    data_freeZn_double_stim11,data_freeZn_double_stim22]\n",
    "\n",
    "list_data_AMPA = [data_AMPA_single_stim1, data_AMPA_single_stim2,\n",
    "                    data_AMPA_double_stim12,data_AMPA_double_stim21,\n",
    "                    data_AMPA_double_stim11,data_AMPA_double_stim22]\n",
    "\n",
    "list_data_chelatedZn = [None for i in range(4)]+\\\n",
    "                       [data_chelatedZn_double_stim11, data_chelatedZn_double_stim22]\n",
    "\n",
    "build_fig(list_data_freeZn, list_data_chelatedZn, list_data_AMPA, Tbar=100, Vlim=[-76,-45], Nsyn_bar=6)"
   ]
  },
  {
   "cell_type": "markdown",
   "metadata": {},
   "source": [
    "## Active sims"
   ]
  },
  {
   "cell_type": "code",
   "execution_count": 6,
   "metadata": {},
   "outputs": [],
   "source": [
    "active = True\n",
    "\n",
    "data_Act_freeZn_double_stim11 = run_sim(Model, syn_packets=syn_packets, \n",
    "                                   activation_sequence=[{'time':50, 'packet':0}, {'time':100, 'packet':0}],\n",
    "                                   chelated=False, active=active)\n",
    "\n",
    "data_Act_freeZn_double_stim22 = run_sim(Model, syn_packets=syn_packets, \n",
    "                                   activation_sequence=[{'time':50, 'packet':1}, {'time':100, 'packet':1}],\n",
    "                                   chelated=False, active=active)\n",
    "\n",
    "data_Act_freeZn_double_stim12 = run_sim(Model, syn_packets=syn_packets, \n",
    "                                   activation_sequence=[{'time':50, 'packet':0}, {'time':100, 'packet':1}],\n",
    "                                   chelated=False, active=active)\n",
    "\n",
    "data_Act_freeZn_double_stim21 = run_sim(Model, syn_packets=syn_packets, \n",
    "                                   activation_sequence=[{'time':50, 'packet':1}, {'time':100, 'packet':0}],\n",
    "                                   chelated=False, active=active)\n",
    "\n",
    "data_Act_chelatedZn_double_stim11 = run_sim(Model, syn_packets=syn_packets, \n",
    "                                   activation_sequence=[{'time':50, 'packet':0}, {'time':100, 'packet':0}],\n",
    "                                   chelated=True, active=active)\n",
    "\n",
    "data_Act_chelatedZn_double_stim22 = run_sim(Model, syn_packets=syn_packets, \n",
    "                                   activation_sequence=[{'time':50, 'packet':1}, {'time':100, 'packet':1}],\n",
    "                                   chelated=True, active=active)"
   ]
  },
  {
   "cell_type": "code",
   "execution_count": 9,
   "metadata": {},
   "outputs": [
    {
     "data": {
      "image/png": "[encoded data removed]",
      "text/plain": [
       "<Figure size 1224.57x112.252 with 2 Axes>"
      ]
     },
     "metadata": {},
     "output_type": "display_data"
    }
   ],
   "source": [
    "list_data_freeZn = [data_Act_freeZn_double_stim12,data_Act_freeZn_double_stim21,\n",
    "                    data_Act_freeZn_double_stim11,data_Act_freeZn_double_stim22]\n",
    "list_data_chelatedZn = [data_Act_freeZn_double_stim12,data_Act_freeZn_double_stim21,\\\n",
    "                       data_Act_chelatedZn_double_stim11, data_Act_chelatedZn_double_stim22]\n",
    "build_fig(list_data_freeZn, list_data_chelatedZn, [None for i in range(4)], Tbar=100, Vlim=[-80,15])"
   ]
  },
  {
   "cell_type": "markdown",
   "metadata": {},
   "source": [
    "### merge in fig"
   ]
  },
  {
   "cell_type": "code",
   "execution_count": 28,
   "metadata": {},
   "outputs": [
    {
     "data": {
      "image/png": "[encoded data removed]",
      "text/plain": [
       "<Figure size 362.835x56.126 with 6 Axes>"
      ]
     },
     "metadata": {},
     "output_type": "display_data"
    }
   ],
   "source": [
    "list_data_freeZn = [data_freeZn_single_stim1, data_freeZn_single_stim2,\n",
    "                    data_freeZn_double_stim12,data_freeZn_double_stim21,\n",
    "                    data_freeZn_double_stim11,data_freeZn_double_stim22]\n",
    "\n",
    "list_data_AMPA = [data_AMPA_single_stim1, data_AMPA_single_stim2,\n",
    "                    data_AMPA_double_stim12,data_AMPA_double_stim21,\n",
    "                    data_AMPA_double_stim11,data_AMPA_double_stim22]\n",
    "\n",
    "list_data_chelatedZn = [data_freeZn_single_stim1, data_freeZn_single_stim2,\n",
    "                        data_freeZn_double_stim12,data_freeZn_double_stim21,\n",
    "                        data_chelatedZn_double_stim11, data_chelatedZn_double_stim22]\n",
    "\n",
    "\n",
    "list_data_Act_freeZn = [data_Act_freeZn_double_stim12,data_Act_freeZn_double_stim21,\n",
    "                        data_Act_freeZn_double_stim11,data_Act_freeZn_double_stim22]\n",
    "\n",
    "list_data_Act_chelatedZn = [None for i in range(2)]+\\\n",
    "                       [data_Act_chelatedZn_double_stim11, data_Act_chelatedZn_double_stim22]\n",
    "\n",
    "space=50\n",
    "Nsyn_bar=10\n",
    "Tbar=50\n",
    "Vlim=[-77,-30]\n",
    "\n",
    "fig, AX = ge.figure(axes_extents=[[[1,2]],\n",
    "                                  [[3,5]]], \n",
    "                    figsize=(2.,.15), \n",
    "                    #figsize=(3.,.3), \n",
    "                    hspace=0)\n",
    "\n",
    "t0=0\n",
    "for data_freeZn, data_chelatedZn, data_AMPA in zip(list_data_freeZn, list_data_chelatedZn, list_data_AMPA):\n",
    "    n=0\n",
    "    for label, color in zip(['1', '2', '3', '4'], [ge.cyan, ge.pink, ge.purple, ge.orange]):\n",
    "        cond = (data_freeZn['syn_labels']==label)\n",
    "        AX[0].plot(t0+data_freeZn['syn_times'][cond], n+data_freeZn['syn_IDs'][cond], 'o', ms=.5, color=color)\n",
    "        if np.sum(cond)>0:\n",
    "            n+=np.max(data_freeZn['syn_IDs'][cond])\n",
    "\n",
    "    if data_AMPA is not None:\n",
    "        AX[1].plot(t0+data_AMPA['t'], data_AMPA['Vm_soma'], color=ge.blue, lw=1)\n",
    "    AX[1].plot(t0+data_freeZn['t'], data_freeZn['Vm_soma'], color='k', lw=1)\n",
    "    if data_chelatedZn is not None:\n",
    "        AX[1].plot(t0+data_chelatedZn['t'], data_chelatedZn['Vm_soma'], '--', color=ge.green, lw=0.5)\n",
    "    t0 += data_freeZn['t'][-1]+space\n",
    "\n",
    "for i in range(4):\n",
    "    axi = ge.inset(AX[1], [0.4+i*0.17, .5, .05, .5])\n",
    "    data_freeZn, data_chelatedZn = list_data_Act_freeZn[i], list_data_Act_chelatedZn[i]\n",
    "    if data_chelatedZn is not None:\n",
    "        axi.plot(t0+data_chelatedZn['t'], data_chelatedZn['Vm_soma'], '--', color=ge.green, lw=0.5)\n",
    "        axi.plot(t0+data_freeZn['t'], data_freeZn['Vm_soma'], color='k', lw=1)\n",
    "    else:\n",
    "        axi.plot(t0+data_freeZn['t'], data_freeZn['Vm_soma'], color='k', lw=1)        \n",
    "        axi.plot(t0+data_freeZn['t'], data_freeZn['Vm_soma'], '--', color=ge.green, lw=0.5)\n",
    "    ge.set_plot(axi, [], ylim=[-82, 10])\n",
    "    \n",
    "ge.draw_bar_scales(axi, Xbar=1e-3, Xbar_label=' ', Ybar=30, Ybar_label=' 30mV', loc='top-right')\n",
    "    \n",
    "ge.set_plot(AX[0], [], xlim=[0, t0], ylim=[-2, AX[0].get_ylim()[1]+2])\n",
    "ge.set_plot(AX[1], [], xlim=[0, t0], ylim=Vlim)\n",
    "ge.draw_bar_scales(AX[0], Xbar=Tbar, Xbar_label='%ims' % Tbar, Ybar=Nsyn_bar, Ybar_label='%i syn.' % Nsyn_bar,\n",
    "                   xyLoc=(0,AX[0].get_ylim()[1]))\n",
    "ge.draw_bar_scales(AX[1], Xbar=1e-10, Xbar_label='', Ybar=10, Ybar_label='10mV ', xyLoc=(0,-50))\n",
    "ge.annotate(AX[1], '\\n\\n  AMPA only', (1,.5), va='top', color=ge.blue, size='small')\n",
    "ge.annotate(AX[1], '\\n  free Zinc', (1,.5), va='top', size='small')\n",
    "ge.annotate(AX[1], '  chelated Zinc', (1,.5), va='top', color=ge.green, size='small')\n",
    "ge.annotate(AX[1], '-75mV - ', (0,-75), va='center', ha='right', xycoords='data', size='small')\n",
    "ge.annotate(AX[0], 'pattern 1', (0.04,0.5), size='x-small', color=ge.cyan)\n",
    "ge.annotate(AX[0], 'pattern 2', (0.18,0.), size='x-small', color=ge.pink)\n",
    "\n",
    "ge.save_on_desktop(fig, 'panel2.svg')"
   ]
  },
  {
   "cell_type": "markdown",
   "metadata": {},
   "source": [
    "## Scan parameter space: intensity x timing"
   ]
  },
  {
   "cell_type": "code",
   "execution_count": 40,
   "metadata": {},
   "outputs": [
    {
     "name": "stdout",
     "output_type": "stream",
     "text": [
      "interstims (ms):  [ 30.          41.00928779  56.05872282  76.63094324 104.75268015\n",
      " 143.19442689 195.74338206 267.57655623 365.77079998 500.        ]\n",
      "nsyns: (ms) [ 5  7  9 11 13 15 17 19 21]\n"
     ]
    }
   ],
   "source": [
    "interstims = np.logspace(np.log10(30), np.log10(500), 10)\n",
    "nsyns = 5+np.arange(9)*2\n",
    "\n",
    "print('interstims (ms): ', interstims)\n",
    "print('nsyns: (ms)', nsyns)"
   ]
  },
  {
   "cell_type": "code",
   "execution_count": null,
   "metadata": {},
   "outputs": [
    {
     "name": "stdout",
     "output_type": "stream",
     "text": [
      "loc #1 / 25\n"
     ]
    }
   ],
   "source": [
    "iloc = 6\n",
    "active = False\n",
    "\n",
    "nlocs = 1 # len(LOCs)\n",
    "delta_Vm = np.zeros((len(interstims), len(nsyns), nlocs))\n",
    "\n",
    "for iloc in range(len(LOCs))[:nlocs]:\n",
    "    print('loc #%i / %i' % (iloc+1, len(LOCs)))\n",
    "    for i, DT in enumerate(interstims):\n",
    "        for j, nsyn in enumerate(nsyns):\n",
    "            syn_packets=[{'loc':iloc, 'nsyn':nsyn, 'label':'1'}]\n",
    "\n",
    "            data_freeZn = run_sim(Model, syn_packets=syn_packets, Nsyn_per_loc=nsyn,\n",
    "                                  activation_sequence=[{'time':20, 'packet':0}, {'time':20+DT, 'packet':0}],\n",
    "                                  chelated=False, active=active)\n",
    "            data_chelatedZn = run_sim(Model, syn_packets=syn_packets, Nsyn_per_loc=nsyn,\n",
    "                                  activation_sequence=[{'time':20, 'packet':0}, {'time':20+DT, 'packet':0}],\n",
    "                                  chelated=True, active=active)\n",
    "\n",
    "            delta_Vm[i,j,iloc] = (np.max(data_chelatedZn['Vm_soma'])-np.max(data_freeZn['Vm_soma']))"
   ]
  },
  {
   "cell_type": "code",
   "execution_count": null,
   "metadata": {},
   "outputs": [],
   "source": [
    "np.save('delta_Vm.npy', **{'delta_Vm':delta_Vm, 'interstims':interstims, 'nsyns':nsyns})"
   ]
  },
  {
   "cell_type": "code",
   "execution_count": null,
   "metadata": {},
   "outputs": [],
   "source": [
    "data = np.load('delta_Vm.npy')\n",
    "nsyns, interstims, delta_Vm = data['nsyns'], data['interstims'], data['delta_Vm']\n",
    "\n",
    "print(delta_Vm.shape)\n",
    "fig, ax = ge.figure(right=5.,\n",
    "                    #figsize=(.9,1.))\n",
    "                    figsize=(2,4))\n",
    "\n",
    "ax.imshow(delta_Vm.mean(axis=-1).T,\n",
    "          interpolation=None, extent=[0, len(interstims), nsyns[0], nsyns[-1]],\n",
    "          vmin = 0, vmax = np.max(delta_Vm.mean(axis=-1)), \n",
    "          origin='lower', aspect='auto')\n",
    "\n",
    "# need to make a custom log axis corresponding to the log-spacing of interstim points\n",
    "def dlog(x, n=len(interstims), x1=interstims[0], xn=interstims[-1]):\n",
    "    return .5+(np.log10(x)-np.log10(x1))/(np.log10(xn)-np.log10(x1))*(n-1)\n",
    "mticks = [dlog(x) for x in [40, 60, 70, 80, 90, 100, 200]]\n",
    "\n",
    "ge.set_plot(ax,# title='Zinc modulation',\n",
    "            #xlim=[interstims[0], interstims[-1]], #xscale='log', \n",
    "            yticks=[5, 10, 15, 20], ylabel='syn. # in packet       ',\n",
    "            xminor_ticks=mticks,\n",
    "            xticks=[dlog(x) for x in [30, 50, 100, 300]], xticks_labels=[str(x) for x in [30, 50, 100, 300]],\n",
    "            xlabel='inter-packet time (ms) ')\n",
    "\n",
    "ge.bar_legend(fig,\n",
    "              bounds=[0, np.max(delta_Vm)],\n",
    "              ticks=[0, 2, 4],\n",
    "              ax_colorbar=None, \n",
    "              colorbar_inset=dict(rect=[.72,.3,.03,.5], facecolor=None),\n",
    "              colormap=ge.viridis,\n",
    "              label=r'$\\Delta$  max. $V_m$  (mV)      ')\n",
    "\n",
    "ge.save_on_desktop(fig, 'panel3.svg')"
   ]
  },
  {
   "cell_type": "code",
   "execution_count": 38,
   "metadata": {},
   "outputs": [
    {
     "data": {
      "text/plain": [
       "220"
      ]
     },
     "execution_count": 38,
     "metadata": {},
     "output_type": "execute_result"
    }
   ],
   "source": [
    "np.argmax(delta_Vm)"
   ]
  },
  {
   "cell_type": "code",
   "execution_count": 39,
   "metadata": {},
   "outputs": [
    {
     "name": "stdout",
     "output_type": "stream",
     "text": [
      "15.000000000000004 9\n"
     ]
    }
   ],
   "source": [
    "iDt, iSyn = np.unravel_index(np.argmax(delta_Vm.mean(axis=-1)), delta_Vm.mean(axis=-1).shape)\n",
    "print(interstims[iDt], nsyns[iSyn])"
   ]
  },
  {
   "cell_type": "code",
   "execution_count": null,
   "metadata": {},
   "outputs": [],
   "source": []
  }
 ],
 "metadata": {
  "kernelspec": {
   "display_name": "Python 3",
   "language": "python",
   "name": "python3"
  },
  "language_info": {
   "codemirror_mode": {
    "name": "ipython",
    "version": 3
   },
   "file_extension": ".py",
   "mimetype": "text/x-python",
   "name": "python",
   "nbconvert_exporter": "python",
   "pygments_lexer": "ipython3",
   "version": "3.9.1"
  },
  "name": "Multi-Input-Integration.ipynb"
 },
 "nbformat": 4,
 "nbformat_minor": 2
}
