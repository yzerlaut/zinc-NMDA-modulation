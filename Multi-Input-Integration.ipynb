{
 "cells": [
  {
   "cell_type": "code",
   "execution_count": 1,
   "metadata": {},
   "outputs": [],
   "source": [
    "%matplotlib inline\n",
    "import numpy as np\n",
    "import os\n",
    "from datavyz import graph_env_dark_notebook as ge"
   ]
  },
  {
   "cell_type": "code",
   "execution_count": 2,
   "metadata": {},
   "outputs": [],
   "source": [
    "# LOCs = np.load('data/nmda-spike/locations.npy')\n",
    "LOCs = [74, 124, 313, 363, 474, 630, 680, 800, 886, 936, 1036, 1227, 1428, 1478, 1634, 1856, 2117, 2183, 2233, 2379, 2429, 3177, 3319, 3464, 3514]"
   ]
  },
  {
   "cell_type": "code",
   "execution_count": 3,
   "metadata": {},
   "outputs": [
    {
     "name": "stderr",
     "output_type": "stream",
     "text": [
      "INFO       Cache size for target \"cython\": 2693 MB.\n",
      "You can call \"clear_cache('cython')\" to delete all files from the cache or manually delete files in the \"/home/yann/.cython/brian_extensions\" directory. [brian2]\n",
      "WARNING    /home/yann/work/zinc-NMDA-modulation/neural_network_dynamics/vision/virtual_eye_movement.py:61: SyntaxWarning: \"is\" with a literal. Did you mean \"==\"?\n",
      "  if eye_movement_key is 'saccadic':\n",
      " [py.warnings]\n"
     ]
    }
   ],
   "source": [
    "from single_cell_sim import *\n",
    "from model import Model\n",
    "\n",
    "def run_sim(Model,\n",
    "            syn_packets=[{'loc':0, 'nsyn':5, 'label':'1'},\n",
    "                         {'loc':1, 'nsyn':5, 'label':'2'}],\n",
    "            activation_sequence=[{'time':200,\n",
    "                                  'packet':0},\n",
    "                                 {'time':400,\n",
    "                                  'packet':1}],\n",
    "          syn_packet_width=5,\n",
    "            Nsyn_per_loc=25,\n",
    "            post_duration=200.,\n",
    "            active=False,\n",
    "            stim_seed=0,\n",
    "            ampa_only=False,\n",
    "            chelated=False):\n",
    "\n",
    "\n",
    "    Modelc = Model.copy()\n",
    "    tstop = activation_sequence[-1]['time']+post_duration\n",
    "    if chelated:\n",
    "        Modelc['alphaZn'] = 0.\n",
    "\n",
    "    t, neuron, SEGMENTS = initialize_sim(Model,\n",
    "                                         active=active,\n",
    "                                         tstop=tstop)\n",
    "\n",
    "    np.random.seed(stim_seed)\n",
    "    \n",
    "    PACKETS, ulocs = [], np.unique([sp['loc'] for sp in syn_packets])\n",
    "    for i, sp in enumerate(syn_packets):\n",
    "        i0 = np.argwhere(sp['loc']==ulocs).flatten()[0] # to catch syn packets at the same location\n",
    "        locs = LOCs[sp['loc']]+np.arange(Nsyn_per_loc)\n",
    "        times = np.sort(np.random.randn(sp['nsyn'])*syn_packet_width)\n",
    "        IDs = np.random.choice(i0*Nsyn_per_loc+np.arange(Nsyn_per_loc), sp['nsyn'], replace=False)\n",
    "        labels = [sp['label'] for i in range(sp['nsyn'])]\n",
    "        PACKETS.append({'times':times, 'IDs':IDs, 'locs':locs, 'labels':labels})\n",
    "        \n",
    "    syn_IDs, syn_times, syn_labels = np.empty(0, dtype=int), np.empty(0, dtype=float), np.empty(0, dtype=str)\n",
    "\n",
    "    for i, act in enumerate(activation_sequence):\n",
    "        syn_times = np.concatenate([syn_times,\n",
    "                                    act['time']+PACKETS[act['packet']]['times']])\n",
    "        syn_IDs = np.concatenate([syn_IDs,\n",
    "                                  PACKETS[act['packet']]['IDs']])\n",
    "        syn_labels = np.concatenate([syn_labels, PACKETS[act['packet']]['labels']])\n",
    "\n",
    "    if ampa_only:\n",
    "        Modelc['qNMDA'] = 0.\n",
    "    elif chelated:\n",
    "        Modelc['Deltax0'] = 0.\n",
    "        \n",
    "    Estim, ES = ntwk.process_and_connect_event_stimulation(neuron,\n",
    "                                                           syn_IDs, syn_times,\n",
    "                                                           np.concatenate([(LOCs[ul]+np.arange(Nsyn_per_loc)) for ul in ulocs]),\n",
    "                                                           EXC_SYNAPSES_EQUATIONS.format(**Modelc),\n",
    "                                                           ON_EXC_EVENT.format(**Modelc))\n",
    "\n",
    "    # recording and running\n",
    "    M = ntwk.StateMonitor(neuron, ('v'), record=[0]+[sp['loc'] for sp in syn_packets])\n",
    "    S = ntwk.StateMonitor(ES, ('X', 'gAMPA', 'gRiseNMDA', 'gDecayNMDA', 'bZn'), record=[0])\n",
    "\n",
    "    # # Run simulation\n",
    "    ntwk.run(tstop*ntwk.ms)\n",
    "    \n",
    "    data = {'t':np.array(M.t/ntwk.ms), \n",
    "            'Vm_soma':np.array(M.v/ntwk.mV)[0,:],\n",
    "            'bZn_syn':np.array(S.bZn)[0,:],\n",
    "            'gAMPA_syn':np.array(S.gAMPA/ntwk.nS)[0,:],\n",
    "            'X_syn':np.array(S.X)[0,:],\n",
    "            'Vm_syn':np.array(M.v/ntwk.mV)[1,:],\n",
    "            'syn_times': syn_times,\n",
    "            'syn_IDs': syn_IDs,\n",
    "            'syn_labels': syn_labels,\n",
    "            'Model':Modelc}\n",
    "    data['gNMDA_syn']= Model['qNMDA']*Model['nNMDA']*\\\n",
    "        (np.array(S.gDecayNMDA)[0,:]-np.array(S.gRiseNMDA)[0,:])\\\n",
    "        /(1+Model['etaMg']*Model['cMg']*np.exp(-data['Vm_syn']/Model['V0NMDA']))\\\n",
    "        *(1-Model['alphaZn']*data['bZn_syn'])\n",
    "    \n",
    "    return data\n",
    "\n",
    "\n"
   ]
  },
  {
   "cell_type": "code",
   "execution_count": null,
   "metadata": {},
   "outputs": [],
   "source": [
    "# for activation_sequence in [[{'time':50, 'packet':2}],\n",
    "#                             [{'time':50, 'packet':3}],\n",
    "#                             [{'time':50, 'packet':2}, {'time':100, 'packet':3}],\n",
    "#                             [{'time':50, 'packet':2}, {'time':100, 'packet':2}],\n",
    "#                             [{'time':50, 'packet':3}, {'time':100, 'packet':3}],\n",
    "#                             [{'time':50, 'packet':0}],\n",
    "#                             [{'time':50, 'packet':1}],\n",
    "#                             [{'time':50, 'packet':0}, {'time':200, 'packet':1}],\n",
    "#                             [{'time':50, 'packet':1}, {'time':200, 'packet':1}],\n",
    "#                             [{'time':50, 'packet':0}, {'time':200, 'packet':0}]]:\n"
   ]
  },
  {
   "cell_type": "code",
   "execution_count": null,
   "metadata": {},
   "outputs": [],
   "source": [
    "def build_fig(list_data_freeZn, list_data_chelatedZn,\n",
    "              space=50, Tbar=20):\n",
    "    # fig shape\n",
    "    fig, AX = ge.figure(axes_extents=[[[1,2]],\n",
    "                                      [[3,5]]], figsize=(3.,.3), hspace=0)\n",
    "\n",
    "    t0=0\n",
    "    for data_freeZn, data_chelatedZn in zip(list_data_freeZn, list_data_chelatedZn):\n",
    "        for label, color in zip(['1', '2', '3', '4'], [ge.cyan, ge.pink, ge.purple, ge.orange]):\n",
    "            cond = (data_freeZn['syn_labels']==label)\n",
    "            AX[0].plot(t0+data_freeZn['syn_times'][cond], data_freeZn['syn_IDs'][cond], 'o', ms=2, color=color)\n",
    "\n",
    "        AX[1].plot(t0+data_chelatedZn['t'], data_chelatedZn['Vm_soma'], color=ge.green, lw=2)\n",
    "        AX[1].plot(t0+data_freeZn['t'], data_freeZn['Vm_soma'], color='k', lw=1)\n",
    "        t0 += data_chelatedZn['t'][-1]+space\n",
    "        \n",
    "    ge.set_plot(AX[0], [], xlim=[0, t0], ylim=[-2, AX[0].get_ylim()[1]+2])\n",
    "    ge.set_plot(AX[1], [], xlim=[0, t0])\n",
    "    ge.draw_bar_scales(AX[0], Xbar=Tbar, Xbar_label='%ims' % Tbar, Ybar=10, Ybar_label='10 syn.', xyLoc=(0,AX[0].get_ylim()[1]))\n",
    "    ge.draw_bar_scales(AX[1], Xbar=1e-10, Xbar_label='', Ybar=10, Ybar_label='10mV ', xyLoc=(0,-50))\n",
    "    ge.annotate(AX[1], '\\n  free Zinc', (0,.9), va='top')\n",
    "    ge.annotate(AX[1], '  chelated Zinc', (0,.9), va='top', color=ge.green)\n",
    "    ge.annotate(AX[1], '-75mV  -> ', (0,-75), va='center', ha='right', xycoords='data')\n",
    " "
   ]
  },
  {
   "cell_type": "code",
   "execution_count": null,
   "metadata": {},
   "outputs": [],
   "source": [
    "list_data_freeZn, list_data_chelatedZn = [], []\n",
    "\n",
    "\n",
    "syn_packets=[{'loc':i, 'nsyn':15, 'label':str(i)} for i in range(len(LOCs))]\n",
    "\n",
    "for activation_sequence in [[{'time':50, 'packet':i}, {'time':100, 'packet':i}] for i in range(len(LOCs))]:\n",
    "    \n",
    "    data_chelatedZn = run_sim(Model, syn_packets=syn_packets, activation_sequence=activation_sequence,\n",
    "                              chelated=True)\n",
    "\n",
    "    data_freeZn = run_sim(Model, syn_packets=syn_packets, activation_sequence=activation_sequence,\n",
    "                          chelated=False)\n",
    "    list_data_freeZn.append(data_freeZn)\n",
    "    list_data_chelatedZn.append(data_chelatedZn)\n",
    "    \n",
    "build_fig(list_data_freeZn, list_data_chelatedZn, Tbar=100)\n"
   ]
  },
  {
   "cell_type": "code",
   "execution_count": null,
   "metadata": {},
   "outputs": [],
   "source": [
    "list_data_freeZn, list_data_chelatedZn = [], []\n",
    "\n",
    "\n",
    "syn_packets=[{'loc':i, 'nsyn':10, 'label':str(i)} for i in range(len(LOCs))]\n",
    "\n",
    "for activation_sequence in [[{'time':50, 'packet':i}, {'time':100, 'packet':i}] for i in range(len(LOCs))]:\n",
    "    \n",
    "    data_chelatedZn = run_sim(Model, syn_packets=syn_packets, activation_sequence=activation_sequence,\n",
    "                              chelated=True)\n",
    "\n",
    "    data_freeZn = run_sim(Model, syn_packets=syn_packets, activation_sequence=activation_sequence,\n",
    "                          chelated=False)\n",
    "    list_data_freeZn.append(data_freeZn)\n",
    "    list_data_chelatedZn.append(data_chelatedZn)\n",
    "    \n",
    "build_fig(list_data_freeZn, list_data_chelatedZn, Tbar=100)"
   ]
  },
  {
   "cell_type": "code",
   "execution_count": 17,
   "metadata": {},
   "outputs": [],
   "source": [
    "from scipy.stats import ttest_rel, wilcoxon"
   ]
  },
  {
   "cell_type": "code",
   "execution_count": 23,
   "metadata": {},
   "outputs": [
    {
     "name": "stdout",
     "output_type": "stream",
     "text": [
      "2.88 1.0703270528207722\n",
      "3.96 1.215894732285653\n",
      "WilcoxonResult(statistic=0.0, pvalue=5.960464477539063e-08)\n"
     ]
    },
    {
     "data": {
      "image/png": "[encoded data removed]",
      "text/plain": [
       "<Figure size 43.937x122.457 with 1 Axes>"
      ]
     },
     "metadata": {},
     "output_type": "display_data"
    }
   ],
   "source": [
    "from datavyz import ge\n",
    "\n",
    "first_observations = np.array(FWHM['chelatedZn'])-3\n",
    "second_observations = np.array(FWHM['freeZn'])-3\n",
    "color1=ge.green\n",
    "color2='dimgrey'\n",
    "lw=0.3\n",
    "ylabel='half act. $N_{syn}^{1/2}$'\n",
    "fig_args={'figsize':(.5,1.2)}\n",
    "xticks_rotation=70\n",
    "\n",
    "pval = ttest_rel(first_observations, second_observations)[1]\n",
    "fig4, ax = ge.figure(**fig_args)\n",
    "    \n",
    "for i in range(len(first_observations)):\n",
    "    ax.plot([0, 1], [first_observations[i], second_observations[i]], '-', lw=lw, color='k')\n",
    "    \n",
    "ax.bar([0], [np.mean(first_observations)], yerr=np.std(first_observations), color=color1, lw=lw)\n",
    "ax.bar([1], [np.mean(second_observations)], yerr=np.std(second_observations), color=color2, lw=lw)\n",
    "\n",
    "print(np.mean(first_observations), np.std(first_observations))\n",
    "print(np.mean(second_observations), np.std(second_observations))\n",
    "print(wilcoxon(first_observations, second_observations))\n",
    "\n",
    "ge.title(ax, 'p=%.0e   ' % pval, size='small')\n",
    "\n",
    "ge.set_plot(ax, ['left'],\n",
    "            #yticks=[0, 3, 6], yticks_labels = ['3', '6', '9'],\n",
    "            ylim = [-.2, 7.2],\n",
    "            ylabel=ylabel)"
   ]
  },
  {
   "cell_type": "code",
   "execution_count": 22,
   "metadata": {},
   "outputs": [
    {
     "name": "stdout",
     "output_type": "stream",
     "text": [
      "1.43984 0.28611629523674464\n",
      "0.92604 0.17616639407106\n",
      "WilcoxonResult(statistic=0.0, pvalue=5.960464477539063e-08)\n"
     ]
    },
    {
     "data": {
      "image/png": "[encoded data removed]",
      "text/plain": [
       "<Figure size 38.2677x122.457 with 1 Axes>"
      ]
     },
     "metadata": {},
     "output_type": "display_data"
    }
   ],
   "source": [
    "from datavyz import ge\n",
    "\n",
    "first_observations = np.array(HML['chelatedZn'])/1e3\n",
    "second_observations = np.array(HML['freeZn'])/1e3\n",
    "color1=ge.green\n",
    "color2='dimgrey'\n",
    "lw=0.2\n",
    "ylabel='3$^{rd}$p. integral (mV.s)\\nat $N_{syn}^{1/2}$ chelated'\n",
    "xticks_rotation=70\n",
    "\n",
    "pval = ttest_rel(first_observations, second_observations)[1]\n",
    "\n",
    "fig_args={'figsize':(.5,1.2), 'right':0}\n",
    "fig5, ax = ge.figure(**fig_args)\n",
    "    \n",
    "for i in range(len(first_observations)):\n",
    "    ax.plot([0, 1], [first_observations[i], second_observations[i]], '-', lw=lw, color='k')\n",
    "    \n",
    "ax.bar([0], [np.mean(first_observations)], yerr=np.std(first_observations), color=color1, lw=lw)\n",
    "ax.bar([1], [np.mean(second_observations)], yerr=np.std(second_observations), color=color2, lw=lw)\n",
    "\n",
    "ge.title(ax, 'p=%.0e   ' % pval, size='small')\n",
    "\n",
    "ge.set_plot(ax, ['left'],\n",
    "            yticks=[0, 1, 2],\n",
    "            # ylim = [-.2, 7.2],\n",
    "            ylabel=ylabel)\n",
    "\n",
    "print(np.mean(first_observations), np.std(first_observations))\n",
    "print(np.mean(second_observations), np.std(second_observations))\n",
    "print(wilcoxon(first_observations, second_observations))\n"
   ]
  },
  {
   "cell_type": "code",
   "execution_count": 8,
   "metadata": {},
   "outputs": [
    {
     "data": {
      "text/plain": [
       "35.71428571428571"
      ]
     },
     "execution_count": 8,
     "metadata": {},
     "output_type": "execute_result"
    }
   ],
   "source": [
    "100*(1.4-0.9)/1.4"
   ]
  },
  {
   "cell_type": "code",
   "execution_count": 139,
   "metadata": {},
   "outputs": [
    {
     "name": "stdout",
     "output_type": "stream",
     "text": [
      "RUNNING: inkscape figures\\nmda-event-all.svg --export-area-page --export-background=\"white\" --export-type=png --export-filename=\"figures\\nmda-event-all.png\" --export-dpi=300\n",
      "[!!] figures\\nmda-event-all.svg not exported as png\n"
     ]
    }
   ],
   "source": [
    "ge.multipanel_figure([[fig4, fig5]],\n",
    "                     LABELS=[['a', 'b']],\n",
    "                     width='single-column',# mm\n",
    "                     X = [[20, 130]],\n",
    "                     Y = [[0, 0]],\n",
    "                     # X_LABELS = [[0, 90, 370]], Y_LABELS = [[0,0,0]],\n",
    "                     height=33, # mm\n",
    "                     export_to_png=True, bg='white',\n",
    "                     fig_name=os.path.join('figures', 'nmda-event-all.svg'))"
   ]
  }
 ],
 "metadata": {
  "kernelspec": {
   "display_name": "Python 3",
   "language": "python",
   "name": "python3"
  },
  "language_info": {
   "codemirror_mode": {
    "name": "ipython",
    "version": 3
   },
   "file_extension": ".py",
   "mimetype": "text/x-python",
   "name": "python",
   "nbconvert_exporter": "python",
   "pygments_lexer": "ipython3",
   "version": "3.9.1"
  },
  "name": "Multi-Input-Integration.ipynb"
 },
 "nbformat": 4,
 "nbformat_minor": 2
}
