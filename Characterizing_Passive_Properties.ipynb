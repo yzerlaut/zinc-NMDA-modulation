{
 "cells": [
  {
   "cell_type": "markdown",
   "metadata": {},
   "source": [
    "# Characterizing passive properties of cells from intracellular recordings"
   ]
  },
  {
   "cell_type": "code",
   "execution_count": 6,
   "metadata": {},
   "outputs": [],
   "source": [
    "import os, sys\n",
    "import numpy as np\n",
    "from analyz.IO.igor import load_hdf5_exported_from_Igor as load_data\n",
    "%matplotlib inline\n",
    "from datavyz import gen as ge"
   ]
  },
  {
   "cell_type": "markdown",
   "metadata": {},
   "source": [
    "## I) From Voltage-Clamp data"
   ]
  },
  {
   "cell_type": "markdown",
   "metadata": {},
   "source": [
    "### I-1) Theoretical analysis"
   ]
  },
  {
   "cell_type": "markdown",
   "metadata": {},
   "source": [
    "Solving the membrane equation with a resistance in series to the amplifier"
   ]
  },
  {
   "cell_type": "code",
   "execution_count": 2,
   "metadata": {},
   "outputs": [
    {
     "data": {
      "text/plain": [
       "(None, <matplotlib.axes._subplots.AxesSubplot at 0x7f3f8eae1350>)"
      ]
     },
     "execution_count": 2,
     "metadata": {},
     "output_type": "execute_result"
    },
    {
     "data": {
      "image/png": "[encoded data removed]",
      "text/plain": [
       "<Figure size 461.254x577.587 with 3 Axes>"
      ]
     },
     "metadata": {},
     "output_type": "display_data"
    }
   ],
   "source": [
    "def current_response_to_VC_step(t, Rm=100e6, Cm=200e-12, Rs=5e6, El=-80e-3,\n",
    "                                t0=50e-3, t1=250e-3, VCstep=-5e-3,\n",
    "                                VA0=0e-3):\n",
    "    \"\"\"\n",
    "    current response to voltage-clamp pulse \n",
    "    --> all parameters should be SI units !!\n",
    "    \"\"\"\n",
    "    VA = VA0+(np.sign(t-t0)-np.sign(t-t1))                                                             /2.*VCstep # amplifier potential\n",
    "    Vm0 = (VA0*Rm+El*Rs)/(Rm+Rs)\n",
    "    Tau = Rm*Cm/(1+Rs/Rm)\n",
    "\n",
    "    Vm = 0*t    \n",
    "    cond0 = t<t0\n",
    "    Vm[cond0] = Vm0\n",
    "    cond1 = (t>=t0) & (t<=t1)\n",
    "    Vm[cond1] = Vm0+Rm/(Rm+Rs)*VCstep*(1-np.exp(-(t[cond1]-t0)/Tau))\n",
    "    cond2 = (t>t1)\n",
    "    Vm[cond2] = Vm0+Rm/(Rm+Rs)*VCstep*np.exp(-(t[cond2]-t1)/Tau)\n",
    "    return VA, Vm, (VA-Vm)/Rs\n",
    "\n",
    "t = np.linspace(0, 500e-3, 1000)\n",
    "\n",
    "Va, Vm, Ia = current_response_to_VC_step(t, VCstep=-10e-3, t0=100e-3, t1=300e-3)\n",
    "fig, AX = ge.figure(axes_extents=[[[2,1]],[[2,1]],[[2,2]]], hspace=0.2, figsize=(.9,.9))\n",
    "ge.plot(1e3*t, 1e3*Va, ax=AX[0], axes_args=dict(spines=['left'], ylabel='$V_A$ (mV)'))\n",
    "ge.plot(1e3*t, 1e3*Vm, ax=AX[1], axes_args=dict(spines=['left'], ylabel='$V_m$ (mV)'))\n",
    "ge.plot(1e3*t, 1e12*Ia, ax=AX[2], axes_args=dict(xlabel='time (ms)', ylabel='I (pA)'))"
   ]
  },
  {
   "cell_type": "markdown",
   "metadata": {},
   "source": [
    "### I-2) Experimental characterization"
   ]
  },
  {
   "cell_type": "code",
   "execution_count": 3,
   "metadata": {},
   "outputs": [],
   "source": [
    "from scipy.optimize import minimize\n",
    "\n",
    "def step(t, t0, t1):\n",
    "    return (np.sign(t-t0)-np.sign(t-t1))/2.\n",
    "\n",
    "def heaviside(t, t1):\n",
    "    return (np.sign(t-t1)+1)/2.\n",
    "\n",
    "def func_to_fit(t, coeffs, t0=50, t1=150):\n",
    "    Ibsl, IbslShift, IexpComp, Tau = coeffs\n",
    "    return Ibsl+\\\n",
    "        step(t, t0, t1)*(-IbslShift-IexpComp*np.exp(-(t-t0)/Tau))+\\\n",
    "        heaviside(t, t1)*IexpComp*np.exp(-(t-t1)/Tau)\n",
    "\n",
    "\n",
    "def extract_charact(t, data, t0=50, t1=300,\n",
    "                    with_plot=False):\n",
    "    \n",
    "    TforBaseline = [t0-(t1-t0)/3., t0] \n",
    "    TforBaselineShift = [t1-(t1-t0)/3., t1] \n",
    "    TforPeak = [t0, t0+(t1-t0)/3.] \n",
    "    Ibsl = data[(t>TforBaseline[0])&(t<TforBaseline[1])].mean()\n",
    "    IbslShift = np.abs(data[(t>TforBaselineShift[0]) & (t<TforBaselineShift[1])].mean()-Ibsl)\n",
    "    IexpPeak = np.max(np.abs(data[(t>TforPeak[0]) & (t<TforPeak[1])]-Ibsl))\n",
    "\n",
    "    def to_minimize(coefs):\n",
    "        return np.mean(np.abs(data-func_to_fit(t, coefs, t0=t0, t1=t1)))\n",
    "    \n",
    "    res = minimize(to_minimize,\n",
    "                   [1,1,1,1], method='SLSQP', bounds=[(0,np.inf) for i in range(4)])\n",
    "    Tau = res.x[3]\n",
    "\n",
    "    if with_plot:\n",
    "        fig, ax = ge.plot(t, data, fig_args={'figsize':(1.5,1.5)}, label='VC-data')\n",
    "        ax.plot([t[0], t[-1]], Ibsl*np.ones(2), ':', lw=1, label='$I_{bsl}$')\n",
    "        ax.plot([t[0], t[-1]], (Ibsl-IbslShift)*np.ones(2), ':', lw=1, label='$I_{bsl}^{shift}$')\n",
    "        ax.plot([t[0], t[-1]], (Ibsl-IexpPeak)*np.ones(2), ':', lw=1, label='$I_{exp}^{peak}$')\n",
    "        ax.plot(t0*np.ones(2), ax.get_ylim(), ':', lw=1, label='$t_0$')\n",
    "        ax.plot(t1*np.ones(2), ax.get_ylim(), ':', lw=1, label='$t_1$')\n",
    "        ax.plot(t, func_to_fit(t, res.x, t0=t0, t1=t1), 'w--', lw=0.5, label='fit for $\\\\tau$')\n",
    "        ge.legend(ax, loc=(1.,0.))\n",
    "        return fig, ax, IbslShift, IexpPeak, Tau\n",
    "    else:\n",
    "        return IbslShift, IexpPeak, Tau\n",
    "\n",
    "def from_charact_to_membrane_parameters(IbslShift, IexpPeak, Tau,\n",
    "                                        Vstep=5e-3, verbose=False):\n",
    "    Rs = np.abs(Vstep)/IexpPeak\n",
    "    C = Rs*IbslShift/np.abs(Vstep)\n",
    "    Rm = Rs*(1-C)/C\n",
    "    Cm = Tau*(Rm+Rs)/Rm/Rs\n",
    "    if verbose:\n",
    "        print(\"\"\"\n",
    "        membrane and recording parameters:\n",
    "        - Rm=%.1fMOhm\n",
    "        - Cm=%.1fpF\n",
    "        - Rs=%.1fMOhm\n",
    "        \"\"\" % (1e-6*Rm, 1e12*Cm, 1e-6*Rs))\n",
    "    return Rm, Cm, Rs\n"
   ]
  },
  {
   "cell_type": "code",
   "execution_count": 4,
   "metadata": {},
   "outputs": [],
   "source": [
    "fn = '/media/yann/Windows/Users/yann.zerlaut/Documents/DATA/Data_Nunzio/2019/September/nm18Sep2019c1/nm18Sep2019c1_000.h5'\n",
    "Data = load_data(fn)"
   ]
  },
  {
   "cell_type": "code",
   "execution_count": 5,
   "metadata": {},
   "outputs": [
    {
     "name": "stdout",
     "output_type": "stream",
     "text": [
      "\n",
      "        membrane and recording parameters:\n",
      "        - Rm=59.3MOhm\n",
      "        - Cm=396.3pF\n",
      "        - Rs=12.7MOhm\n",
      "        \n"
     ]
    },
    {
     "data": {
      "image/png": "[encoded data removed]",
      "text/plain": [
       "<Figure size 561.26x391.181 with 1 Axes>"
      ]
     },
     "metadata": {},
     "output_type": "display_data"
    }
   ],
   "source": [
    "t = Data['t']\n",
    "tcond = (t>2) & (t<400)\n",
    "trace = Data['recordings']['Irecording'].mean(axis=0)\n",
    "_,_,IbslShift, IexpPeak, Tau = extract_charact(t[tcond], trace[tcond], t0=100, t1=200, with_plot=True)\n",
    "_ = from_charact_to_membrane_parameters(1e-9*IbslShift, 1e-9*IexpPeak, 1e-3*Tau, verbose=True)"
   ]
  },
  {
   "cell_type": "markdown",
   "metadata": {},
   "source": [
    "## II) From current-clamp data"
   ]
  },
  {
   "cell_type": "code",
   "execution_count": null,
   "metadata": {},
   "outputs": [],
   "source": []
  }
 ],
 "metadata": {
  "kernelspec": {
   "display_name": "Python 3",
   "language": "python",
   "name": "python3"
  },
  "language_info": {
   "codemirror_mode": {
    "name": "ipython",
    "version": 3
   },
   "file_extension": ".py",
   "mimetype": "text/x-python",
   "name": "python",
   "nbconvert_exporter": "python",
   "pygments_lexer": "ipython3",
   "version": "3.7.4"
  },
  "name": "Characterizing_Passive_Properties.ipynb"
 },
 "nbformat": 4,
 "nbformat_minor": 2
}
