{
 "cells": [
  {
   "cell_type": "code",
   "execution_count": 1,
   "metadata": {
    "collapsed": false
   },
   "outputs": [
    {
     "name": "stderr",
     "output_type": "stream",
     "text": [
      "C:\\Users\\yann.zerlaut\\Anaconda3\\lib\\site-packages\\setuptools\\distutils_patch.py:25: UserWarning: Distutils was imported before Setuptools. This usage is discouraged and may exhibit undesirable behaviors or errors. Please use Setuptools' objects directly or at least import Setuptools first.\n",
      "  warnings.warn(\n"
     ]
    },
    {
     "name": "stderr",
     "output_type": "stream",
     "text": [
      "WARNING    C:\\Users\\yann.zerlaut\\work\\zinc-NMDA-modulation\\neural_network_dynamics\\vision\\earlyVis_model.py:246: SyntaxWarning: \"is\" with a literal. Did you mean \"==\"?\n",
      "  if icell_range is 'all':\n",
      " [py.warnings]\n"
     ]
    },
    {
     "name": "stderr",
     "output_type": "stream",
     "text": [
      "WARNING    C:\\Users\\yann.zerlaut\\work\\zinc-NMDA-modulation\\neural_network_dynamics\\vision\\virtual_eye_movement.py:61: SyntaxWarning: \"is\" with a literal. Did you mean \"==\"?\n",
      "  if eye_movement_key is 'saccadic':\n",
      " [py.warnings]\n"
     ]
    }
   ],
   "source": [
    "# import sys, pathlib, os\n",
    "# sys.path.append(str(pathlib.Path(__file__).resolve().parents[0]))\n",
    "import numpy as np\n",
    "from neural_network_dynamics import main as ntwk\n",
    "from datavyz import nrnvyz\n",
    "from datavyz import ge\n",
    "from model import Model\n",
    "%matplotlib inline\n",
    "# np.savez('study.npz', **Model)"
   ]
  },
  {
   "cell_type": "markdown",
   "metadata": {
    "collapsed": false
   },
   "source": [
    "# Mechanism detail"
   ]
  },
  {
   "cell_type": "code",
   "execution_count": 2,
   "metadata": {
    "collapsed": false
   },
   "outputs": [
    {
     "name": "stdout",
     "output_type": "stream",
     "text": [
      "/home/yann/work/zinc-NMDA-modulation\n"
     ]
    }
   ],
   "source": [
    "cd /home/yann/work/zinc-NMDA-modulation/"
   ]
  },
  {
   "cell_type": "code",
   "execution_count": 2,
   "metadata": {
    "collapsed": false
   },
   "outputs": [],
   "source": [
    "from scipy.special import erf\n",
    "from model import Model\n",
    "\n",
    "def inactivation_function(c, c0=0., dc=1.):\n",
    "    \"\"\"\n",
    "    inactivation function derived from error function\n",
    "    \"\"\"\n",
    "    return (erf((c-c0)/dc)+1.)/2.\n",
    "\n",
    "def double_exponential(t, T1, T2):\n",
    "    \"\"\"\n",
    "    double exponential function normalized to peak level\n",
    "    \"\"\"\n",
    "    return (np.exp(-t/T2)-np.exp(-t/T1))/(T2/T1-1)*((T2/T1)**(T2/(T2-T1)))\n",
    "\n",
    "\n",
    "def compute_time_variations_from_events(SET_OF_EVENTS, t,\n",
    "                                        Trise=.1e-3, Tdecay=10e-3, quantal=1.):\n",
    "    \"\"\"\n",
    "    integration of synaptic events to shape the synaptic conductance\n",
    "    (convolution with double exponential over synaptic events)\n",
    "    \"\"\"\n",
    "    conductance = 0*t # initialized to 0\n",
    "\n",
    "    dt = t[1]-t[0]\n",
    "    \n",
    "    ilength = int(5*(Tdecay+Trise)/dt) # for each even we \n",
    "    event_waveform = quantal*double_exponential(t[:ilength]-t[0], Trise, Tdecay)\n",
    "    \n",
    "    for event in SET_OF_EVENTS:\n",
    "        i0 = np.argmin((t-event)**2) # find the time point where the event falls\n",
    "        conductance[i0:min([i0+ilength,len(t)])] += event_waveform[:min([ilength,len(t)-i0])]\n",
    "        \n",
    "    return conductance\n",
    "\n",
    "\n",
    "def compute_pre_from_events(SET_OF_EVENTS, t, delay=0):\n",
    "    conductance = 0*t # initialized to 0\n",
    "    for event in SET_OF_EVENTS:\n",
    "        i0 = np.argmin((t-event-delay)**2) # find the time point where the event falls\n",
    "        conductance[i0] = 1\n",
    "    return conductance\n",
    "\n",
    "def sigmoid(x, x0=0.5, dx=0.1):\n",
    "    return 1./(np.exp(-(x-x0)/dx)+1)\n",
    "\n",
    "def sigmoid_deriv(x, dx=0.1):\n",
    "    return np.exp(-(x-.5)/dx)/dx/(np.exp(-(x-.5)/dx)+1)**2\n",
    "\n",
    "def voltage_dep_NMDA(x):\n",
    "    return 1./(0.3+np.exp(-1e3*x*0.08))\n",
    "\n",
    "def binding_increment(b, b0=1):\n",
    "    return b0*(1-b)\n",
    "\n",
    "def solve_synapse_equation(t, Model,\n",
    "                           Glut_events=[],\n",
    "                           alpha_Zn=0.4,\n",
    "                           Vm=None):\n",
    "         \n",
    "    dt = t[1]-t[0]\n",
    "    pre_events = compute_pre_from_events(Glut_events, t)\n",
    "    sim = {'t':t, 'mZn':[],\n",
    "           'Glut_event_trace':pre_events}\n",
    "\n",
    "    # Ib\n",
    "    xZn, bZn = 0*t, 0*t\n",
    "    for i in range(len(t)-1):\n",
    "        xZn[i+1] = xZn[i]-dt/1e-3/Model['tauDecayZn']*xZn[i]\n",
    "        #bZn[i+1] = bZn[i]+dt/1e-3/Model['tauRiseZn']*(sigmoid(xZn[i],\n",
    "        #                                    x0=Model['x0'], dx=Model['deltax'])-bZn[i])\n",
    "        # bZn[i+1] = bZn[i]+dt/1e-3/Model['tauRiseZn']*(xZn[i]-bZn[i])\n",
    "        \n",
    "        if pre_events[i+1]>0:\n",
    "            bZn[i+1:] = xZn[i]\n",
    "            sim['mZn'].append(xZn[i])\n",
    "            xZn[i+1] += binding_increment(xZn[i+1], b0=Model['Deltax0'])\n",
    "            #xZn[i+1] += sigmoid_deriv(xZn[i+1], dx=Model['deltax'])*Model['dx_Zn']/sigmoid_deriv(0.5, dx=0.1)\n",
    "           \n",
    "    sim['bZn'], sim['xZn'] = bZn, xZn\n",
    "    \n",
    "    # NMDA before voltage-dependency and Zinc modulation\n",
    "    gNMDA = compute_time_variations_from_events(Glut_events, t,\n",
    "                                                Trise=1e-3*Model['tauRiseNMDA'],\n",
    "                                                Tdecay=1e-3*Model['tauDecayNMDA'],\n",
    "                                                quantal=1e-9*Model['qNMDA'])\n",
    "    \n",
    "    # modulation function:    \n",
    "    def NMDA_modulation(Vm, bZn):\n",
    "        return voltage_dep_NMDA(Vm)*(1.-alpha_Zn*bZn)\n",
    "    \n",
    "    sim['gNMDA'] = NMDA_modulation(Vm,sim['bZn'])*gNMDA\n",
    "\n",
    "    return sim"
   ]
  },
  {
   "cell_type": "code",
   "execution_count": 3,
   "metadata": {
    "collapsed": false
   },
   "outputs": [],
   "source": [
    "import os\n",
    "from model import Model\n",
    "from analyz.IO.npz import load_dict\n",
    "Dx0 = Model['Deltax0'] # storing for the future"
   ]
  },
  {
   "cell_type": "code",
   "execution_count": 4,
   "metadata": {
    "collapsed": false
   },
   "outputs": [
    {
     "data": {
      "text/plain": [
       "0.35"
      ]
     },
     "execution_count": 4,
     "metadata": {},
     "output_type": "execute_result"
    }
   ],
   "source": [
    "Model['alphaZn']"
   ]
  },
  {
   "cell_type": "code",
   "execution_count": 6,
   "metadata": {
    "collapsed": false
   },
   "outputs": [
    {
     "data": {
      "image/png": "[encoded data removed]",
      "text/plain": [
       "<Figure size 276.605x117.921 with 3 Axes>"
      ]
     },
     "metadata": {},
     "output_type": "display_data"
    }
   ],
   "source": [
    "from datavyz import ge as ge\n",
    "\n",
    "Vclamp = -30e-3\n",
    "alphaZn = 0.3\n",
    "\n",
    "\n",
    "t = np.arange(4000)*1e-3\n",
    "# same events in voltage-clamp -> hyperpolarized\n",
    "EVENTS = [0.1]+list(np.arange(5)*0.1+1.7)+[3.4]+[3.45]+[3.8]\n",
    "Model['Deltax0'] = 0\n",
    "sim0 = solve_synapse_equation(t, Model, Glut_events=EVENTS, Vm=Vclamp)\n",
    "\n",
    "Model['Deltax0'] = 1\n",
    "Model['alphaZn'] = 0.2\n",
    "\n",
    "# # then taking the final (=best-fit) model\n",
    "# fit = load_dict(os.path.join('data', 'calib', 'best-freeZn-config.npz'))\n",
    "# for key in fit:\n",
    "#    Model[key] = fit[key]\n",
    "\n",
    "sim1 = solve_synapse_equation(t, Model, Glut_events=EVENTS, Vm=Vclamp)\n",
    "\n",
    "fig1, AX = ge.figure(axes_extents=[[[1,1]], [[1,2]],[[1,2]]],\n",
    "                    figsize=(1.7,.2), hspace=1.7, top=3., bottom=3., left=0.5, right=3.)\n",
    "# model1\n",
    "ge.plot(t, sim1['Glut_event_trace'], ax=AX[0], color=ge.blue,\n",
    "        axes_args={'spines':[], 'xlim':[t[0],t[-1]]})\n",
    "ge.annotate(AX[0], ' Glut. events', (EVENTS[0], 0.2), xycoords='data', color=ge.blue)\n",
    "AX[1].plot(t, 0*t,  lw=1, color=ge.green, label = ' ')\n",
    "AX[1].plot(EVENTS, np.zeros(len(EVENTS)), 'o', ms=3, color=ge.green, label=' ')\n",
    "AX[1].plot(t, sim1['xZn'],  lw=1, color='k', label='  $x$')\n",
    "AX[1].plot(EVENTS, sim1['mZn'], 'o', ms=3, color='k', label='  $m_{Zn}$')\n",
    "# AX[1].plot(t, sim1['bZn'],  '-', lw=0.5, color='gray', label='x')\n",
    "\n",
    "ge.set_plot(AX[1], ['left'],\n",
    "            ylabel='  $m_{Zn}$, $x$',\n",
    "            ylim=[-0.05,1.01], yticks=[0,0.5,1.], xlim=[t[0],t[-1]])\n",
    "\n",
    "AX[2].plot(t, 1e9*sim0['gNMDA'],  color=ge.green, lw=1, label='chelated-Zinc: $\\Delta x^0$=0')\n",
    "AX[2].plot(t, 1e9*sim1['gNMDA'], color='k', lw=1,\n",
    "           label='free Zinc: $\\Delta x^0$=1, $\\\\alpha_{Zn}$=%.1f' % (Model['alphaZn']))\n",
    "           \n",
    "ge.set_plot(AX[2], xlabel='time (s)', ylabel = '$g_{NMDA}$ (nS)  ', yticks = [0,.2,.4], xlim=[t[0],t[-1]])\n",
    "ge.annotate(AX[2], '$V_m$=%imV' % int(1e3*Vclamp), (.1,.5), size='small', color=ge.grey)\n",
    "ge.annotate(AX[2], '$\\\\alpha_{Zn}$=%.1f' % alphaZn, (.6,.4), size='small', color='k')\n",
    "ge.annotate(AX[1], '  chelated-Zinc', (EVENTS[1],0.1), size='x-small', bold=True, color=ge.green, xycoords='data')\n",
    "ge.annotate(AX[1], 'free-Zinc  ', (EVENTS[1],1.), size='x-small', bold=True, xycoords='data', va='top', ha='right')"
   ]
  },
  {
   "cell_type": "code",
   "execution_count": 13,
   "metadata": {
    "collapsed": false
   },
   "outputs": [
    {
     "name": "stdout",
     "output_type": "stream",
     "text": [
      "X-bar label automatically set to:  33.4  Using the format %.1f  --> adjust it and add units through the format !\n",
      "Spreading 915 synapses over the segments\n"
     ]
    },
    {
     "data": {
      "image/png": "[encoded data removed]",
      "text/plain": [
       "<Figure size 89.8016x144.907 with 1 Axes>"
      ]
     },
     "metadata": {},
     "output_type": "display_data"
    }
   ],
   "source": [
    "from datavyz import ge\n",
    "morpho = ntwk.Morphology.from_swc_file(Model['morpho_file_1'])\n",
    "SEGMENTS = ntwk.morpho_analysis.compute_segments(morpho)\n",
    "nseg = len(SEGMENTS['x'])\n",
    "\n",
    "vis = nrnvyz(SEGMENTS, ge=ge)\n",
    "\n",
    "synapses_loc = 2450+np.arange(10)\n",
    "\n",
    "fig2, ax = ge.figure(figsize=(1.2,3.), left=0, right=0., top=0., bottom=0.08)\n",
    "vis.plot_segments(SEGMENTS['comp_type']!='axon',\n",
    "                  #bar_scale_args=dict(loc=(-130,-140), Ybar=100,\n",
    "                  #                Ybar_label=' 100$\\mu$m', orientation='left-top'),\n",
    "                  ax=ax)\n",
    "\n",
    "basal_cond = ntwk.morpho_analysis.find_conditions(SEGMENTS,\n",
    "                                                  comp_type='dend',\n",
    "                                                  min_distance_to_soma=20e-6)\n",
    "Nsyn, pre_to_iseg,\\\n",
    "        Nsyn_per_seg = ntwk.spread_synapses_on_morpho(SEGMENTS,\n",
    "                                                      10, # density\n",
    "                                                      cond=basal_cond,\n",
    "                                                      density_factor=1./100./1e-12)\n",
    "# vis.add_dots(ax, np.random.choice(pre_to_iseg, 70), 5, ge.purple)\n",
    "\n",
    "vis.add_dots(ax, synapses_loc, np.ones(len(synapses_loc))*30, ge.orange)\n",
    "vis.add_circle(ax, 0, 50, ge.red, lw=2)\n",
    "\n",
    "ge.annotate(fig2, 'L23pyr-j150407a\\n(Jiang et al., 2015)', (0.3, 0.07), size='small')\n",
    "#ge.save_on_desktop(fig2)"
   ]
  },
  {
   "cell_type": "code",
   "execution_count": 10,
   "metadata": {
    "collapsed": false
   },
   "outputs": [],
   "source": [
    "from single_cell_sim import initialize_sim, EXC_SYNAPSES_EQUATIONS, ON_EXC_EVENT\n",
    "\n",
    "def run_demo_sim(Model,\n",
    "                 Vcmd = -30,\n",
    "                 t0_stim=100.,\n",
    "                 freq_pulses=20., # Hz\n",
    "                 n_pulses=5,\n",
    "                 tstop=500.,\n",
    "                 synapses_loc = 2450+np.arange(10)):\n",
    "\n",
    "    Model['VC-cmd'] = Vcmd\n",
    "    Model['tstop'] = tstop\n",
    "    \n",
    "    # initialize voltage-clamp sim\n",
    "    t, neuron, SEGMENTS = initialize_sim(Model, method='voltage-clamp')\n",
    "\n",
    "    spike_IDs, spike_times = np.empty(0, dtype=int), np.empty(0, dtype=float)\n",
    "    for i in range(n_pulses):\n",
    "        spike_times = np.concatenate([spike_times,\n",
    "                                      (t0_stim+i*1e3/freq_pulses)*np.ones(len(synapses_loc))])\n",
    "        spike_IDs = np.concatenate([spike_IDs,np.arange(len(synapses_loc))])\n",
    "    \n",
    "    Estim, ES = ntwk.process_and_connect_event_stimulation(neuron,\n",
    "                                                           spike_IDs, spike_times,\n",
    "                                                           synapses_loc,\n",
    "                                                           EXC_SYNAPSES_EQUATIONS.format(**Model),\n",
    "                                                           ON_EXC_EVENT.format(**Model))\n",
    "\n",
    "    # recording and running\n",
    "    M = ntwk.StateMonitor(neuron, ('v'), record=[0, synapses_loc[0]])\n",
    "    S = ntwk.StateMonitor(ES, ('X', 'gAMPA', 'gRiseNMDA', 'gDecayNMDA', 'bZn'), record=[0])\n",
    "\n",
    "    # # Run simulation\n",
    "    ntwk.run(Model['tstop']*ntwk.ms)\n",
    "\n",
    "    output = {'t':np.array(M.t/ntwk.ms), 'Vcmd':Vcmd}\n",
    "    output['Vm_soma'] = np.array(M.v/ntwk.mV)[0,:]\n",
    "    output['gAMPA_syn'] = np.array(S.gAMPA/ntwk.nS)[0,:]\n",
    "    output['X_syn'] = np.array(S.X)[0,:]\n",
    "    bZn, gRise, gDecay = np.array(S.bZn)[0,:], np.array(S.gRiseNMDA)[0,:], np.array(S.gDecayNMDA)[0,:]\n",
    "    output['Vm_syn'] = np.array(M.v/ntwk.mV)[1,:]\n",
    "    output['bZn_syn'] = bZn\n",
    "    output['gNMDA_syn'] = Model['qNMDA']*Model['nNMDA']*(gDecay-gRise)/(1+0.3*np.exp(-output['Vm_syn']/Model['V0NMDA']))*(1.-Model['alphaZn']*bZn)\n",
    "    output['Ic'] = (output['Vm_soma']-Model['VC-cmd'])*Model['VC-gclamp'] # nA\n",
    "                                                                        \n",
    "    return output\n",
    "\n",
    "output = run_demo_sim(Model)"
   ]
  },
  {
   "cell_type": "code",
   "execution_count": 11,
   "metadata": {
    "collapsed": false
   },
   "outputs": [],
   "source": [
    "CMD = [-70, -50, -30, -10]\n",
    "\n",
    "from model import Model\n",
    "t0, tstop = 100, 500\n",
    "OUTPUTS_CTRL, OUTPUTS_CHELATED = [], []\n",
    "from model import Model\n",
    "ctrl = Model['Deltax0']\n",
    "for cmd in CMD:\n",
    "    Model['Deltax0'] = ctrl\n",
    "    output = run_demo_sim(Model, Vcmd=cmd, t0_stim=t0, tstop=tstop)\n",
    "    OUTPUTS_CTRL.append(output)\n",
    "    Model['Deltax0'] = 0\n",
    "    output = run_demo_sim(Model, Vcmd=cmd)\n",
    "    OUTPUTS_CHELATED.append(output)\n",
    "Model['Deltax0'] = ctrl"
   ]
  },
  {
   "cell_type": "code",
   "execution_count": 12,
   "metadata": {
    "collapsed": false
   },
   "outputs": [
    {
     "data": {
      "image/png": "[encoded data removed]",
      "text/plain": [
       "<Figure size 356.284x132.661 with 4 Axes>"
      ]
     },
     "metadata": {},
     "output_type": "display_data"
    }
   ],
   "source": [
    "from datavyz import ge\n",
    "fig3, AX = ge.figure(axes_extents=[[[4,2]],\n",
    "                                   [[4,1]],\n",
    "                                   [[4,2]],\n",
    "                                   [[4,2]]],\n",
    "                     figsize=(.91,.3), hspace=0.4, right=0.01)\n",
    "\n",
    "Tspace = 100\n",
    "DT = tstop-t0\n",
    "for i, Vcmd, output, output0 in zip(range(len(CMD)), CMD, OUTPUTS_CTRL, OUTPUTS_CHELATED):\n",
    "    \n",
    "    cond = output['t']>50\n",
    "    AX[0].plot(output['t'][cond]+i*(DT+Tspace), output0['Vm_syn'][cond], color=ge.green, lw=0.5)\n",
    "    AX[0].plot(output['t'][cond]+i*(DT+Tspace), output['Vm_syn'][cond], color=ge.orange, lw=1)\n",
    "    AX[0].plot(output['t'][cond]+i*(DT+Tspace), output['Vm_soma'][cond], color=ge.red, lw=1)\n",
    "    AX[1].plot(output['t'][cond]+i*(DT+Tspace), output0['bZn_syn'][cond], color=ge.green, lw=1)\n",
    "    AX[1].plot(output['t'][cond]+i*(DT+Tspace), output['bZn_syn'][cond], color=ge.orange, lw=1)\n",
    "    AX[2].plot(output['t'][cond]+i*(DT+Tspace), output0['gNMDA_syn'][cond], color=ge.green, lw=0.5)\n",
    "    if i==0:\n",
    "        AX[2].plot(output['t'][cond]+i*(DT+Tspace), output['gAMPA_syn'][cond], ':', color=ge.orange, lw=.5, label='$g_{AMPA}$')\n",
    "        # AX[2].plot(output['t'][cond]+i*(DT+Tspace), output0['gNMDA_syn'][cond], color=ge.green, lw=0.5, label='$g_{NMDA}$, $\\Delta_x^0$=0')\n",
    "        AX[2].plot(output['t'][cond]+i*(DT+Tspace), output['gNMDA_syn'][cond], color=ge.orange, label='$g_{NMDA}$', lw=1)\n",
    "    else:\n",
    "        AX[2].plot(output['t'][cond]+i*(DT+Tspace), output['gAMPA_syn'][cond], ':', color=ge.orange, lw=.5)\n",
    "        AX[2].plot(output['t'][cond]+i*(DT+Tspace), output['gNMDA_syn'][cond], color=ge.orange, lw=1)\n",
    "    # AX[3].plot(output['t'][cond]+i*(DT+Tspace), 1e3*(output0['Ic'][cond]-output0['Ic'][cond][0]), color=ge.green)\n",
    "    norm = (np.max(output0['Ic'][cond])-np.min(output0['Ic'][cond]))\n",
    "    dI2 = 1/norm*(output0['Ic'][cond]-np.min(output0['Ic'][cond]))\n",
    "    AX[3].plot(output['t'][cond]+i*(DT+Tspace), dI2, color=ge.green, lw=0.5)\n",
    "    dI = 1/norm*(output['Ic'][cond]-np.min(output['Ic'][cond]))\n",
    "    AX[3].plot(output['t'][cond]+i*(DT+Tspace), dI, color=ge.red, lw=1)\n",
    "    AX[3].plot(np.ones(2)*(output['t'][-1]+i*(DT+Tspace)-Tspace/10), (.4, .9), 'k-', lw=1)    \n",
    "    ge.annotate(AX[3], '%ipA' % (1e3*.5*norm), (output['t'][-1]+i*(DT+Tspace)-Tspace/10,.73), xycoords='data',\n",
    "                rotation=90, ha='right', size='small', va='center')\n",
    "\n",
    "ge.legend(AX[2], loc=(.125,.28), size='small', labelspacing=0.3)\n",
    "# ge.annotate(AX[2], '$g_{NMDA}$\\n  $\\Delta_x^0$=0', (.57,.3), color=ge.green, size='small')\n",
    "for i, Vcmd, y in zip(range(len(CMD)), CMD, [-19,-13,-60,-40]):\n",
    "    ge.annotate(AX[0], '$V_{cmd}$=%imV' % Vcmd, (i*(DT+Tspace)+(DT+Tspace)/2., y), xycoords='data', ha='center', size='small')\n",
    "\n",
    "ge.annotate(AX[1], '100ms', (1500,1.01), xycoords='data', size='small')\n",
    "ge.annotate(AX[2], 'chelated-Zinc', (800,3.5), xycoords='data', size='small', color=ge.green, bold=True)\n",
    "AX[1].plot(1500+np.arange(2)*100, np.ones(2), 'k-', lw=1)    \n",
    "\n",
    "ge.set_plot(AX[0], ['left'], ylabel='$V_m$ (mV)', yticks=[-50,-20],\n",
    "            xlim=[output['t'][cond][0],output['t'][-1]+i*600])\n",
    "ge.set_plot(AX[1], ['left'], ylabel='$a_{Zn}$', yticks=[0,1], ylim=[-0.1, 1.01], ylabelpad=4,\n",
    "            xlim=[output['t'][cond][0],output['t'][-1]+i*600])\n",
    "ge.set_plot(AX[2], ['left'], ylabel='g (nS)', ylabelpad=3,\n",
    "            xlim=[output['t'][cond][0],output['t'][-1]+i*600])\n",
    "ge.set_plot(AX[3], ['left'], ylabel='$I_{clamp}$\\n(norm.)',\n",
    "            yticks=[], ylim=[-0.1,1.1], ylabelpad=6,\n",
    "            xlim=[output['t'][cond][0],output['t'][-1]+i*600])"
   ]
  },
  {
   "cell_type": "code",
   "execution_count": 10,
   "metadata": {
    "collapsed": false
   },
   "outputs": [
    {
     "name": "stdout",
     "output_type": "stream",
     "text": [
      "RUNNING: inkscape figures/fig-model-description.svg --export-area-page --export-background=\"white\" --export-type=png --export-filename=\"figures/fig-model-description.png\" --export-dpi=300\n",
      "[!!] figures/fig-model-description.svg not exported as png\n",
      "[ok] removed figures/fig-model-description.svg\n"
     ]
    }
   ],
   "source": [
    "ge.multipanel_figure([[fig1, fig2], [fig3]],\n",
    "                     LABELS=[['a','b'], ['c']],\n",
    "                     Y_LABELS = [[0,0],[135]],\n",
    "                     X=[[0,230], [0], [0]],\n",
    "                     Y=[[0,-8], [145]],\n",
    "                     width='one-and-a-half-column',\n",
    "                     height=100, #grid=True,\n",
    "                     fig_name='figures/fig-model-description.png')"
   ]
  },
  {
   "cell_type": "code",
   "execution_count": null,
   "metadata": {
    "collapsed": false
   },
   "outputs": [],
   "source": []
  }
 ],
 "metadata": {
  "kernelspec": {
   "argv": [
    "C:/Users/yann.zerlaut/Anaconda3\\python.exe",
    "-m",
    "ipykernel_launcher",
    "-f",
    "{connection_file}"
   ],
   "display_name": "Python 3",
   "env": null,
   "interrupt_mode": "signal",
   "language": "python",
   "metadata": null,
   "name": "python3"
  },
  "language_info": {
   "codemirror_mode": {
    "name": "ipython",
    "version": 3
   },
   "file_extension": ".py",
   "mimetype": "text/x-python",
   "name": "python",
   "nbconvert_exporter": "python",
   "pygments_lexer": "ipython3",
   "version": "3.7.4"
  },
  "name": "description.ipynb"
 },
 "nbformat": 4,
 "nbformat_minor": 2
}
