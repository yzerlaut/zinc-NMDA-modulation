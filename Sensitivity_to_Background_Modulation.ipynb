{
 "cells": [
  {
   "cell_type": "code",
   "execution_count": 2,
   "metadata": {},
   "outputs": [],
   "source": [
    "%matplotlib inline\n",
    "import numpy as np"
   ]
  },
  {
   "cell_type": "code",
   "execution_count": 8,
   "metadata": {},
   "outputs": [],
   "source": [
    "from analyz.workflow.batch_run import GridSimulation, bash_script\n",
    "\n",
    "base_command = 'python bg_modulation.py run --bg_levels 0 3 6 --NbgSEEDS 1 --active --seed %i --chelated %s --syn_location %i'\n",
    "\n",
    "script, i = '', 0\n",
    "for seed in np.arange(10):\n",
    "    for syn_location in np.arange(1, 11):\n",
    "        for chelated in ['True', 'False']:\n",
    "            script += base_command % (seed, chelated, syn_location)\n",
    "            i+=1\n",
    "            if i%7==0:\n",
    "                script+='\\n'\n",
    "            else:\n",
    "                script+=' & \\n'\n",
    "                \n",
    "            \n",
    "        \n",
    "with open('bash/BG-active.sh', 'w') as f:\n",
    "    f.write(script)"
   ]
  },
  {
   "cell_type": "code",
   "execution_count": null,
   "metadata": {},
   "outputs": [],
   "source": []
  }
 ],
 "metadata": {
  "kernelspec": {
   "display_name": "Python 3",
   "language": "python",
   "name": "python3"
  },
  "language_info": {
   "codemirror_mode": {
    "name": "ipython",
    "version": 3
   },
   "file_extension": ".py",
   "mimetype": "text/x-python",
   "name": "python",
   "nbconvert_exporter": "python",
   "pygments_lexer": "ipython3",
   "version": "3.7.4"
  }
 },
 "nbformat": 4,
 "nbformat_minor": 2
}
