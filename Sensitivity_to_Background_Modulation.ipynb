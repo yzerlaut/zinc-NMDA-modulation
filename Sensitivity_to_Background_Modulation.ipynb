{
 "cells": [
  {
   "cell_type": "code",
   "execution_count": 2,
   "metadata": {},
   "outputs": [],
   "source": [
    "%matplotlib inline\n",
    "import numpy as np"
   ]
  },
  {
   "cell_type": "code",
   "execution_count": 8,
   "metadata": {},
   "outputs": [],
   "source": [
    "\n",
    "\n",
    "def plot_sim(data1 data2):\n",
    "    \"\"\"\n",
    "    data1: free Zinc\n",
    "    data2: chelatez Zinc\n",
    "    \"\"\"\n",
    "    args = data['args']\n",
    "\n",
    "    AE = []\n",
    "    for i in range(len(args['bg_levels'])):\n",
    "        AE.append([[1,4]])\n",
    "        AE.append([[1,2]])\n",
    "        AE.append([[1,1]])\n",
    "    \n",
    "    fig, AX = ge.figure(axes_extents=AE, figsize=(3.5,.25), wspace=0., left=.2)\n",
    "    \n",
    "    for ibg, bg in enumerate(args['bg_levels']):\n",
    "\n",
    "        t0 = ibg*len(args['NSTIMs'])*len(args['stimSEEDS'])*len(args['bgSEEDS'])*args['duration_per_bg_level']\n",
    "        t1 = (ibg+1)*len(args['NSTIMs'])*len(args['stimSEEDS'])*len(args['bgSEEDS'])*args['duration_per_bg_level']\n",
    "\n",
    "        tcond = (data['t']>=t0) & (data['t']<t1)\n",
    "        \n",
    "        AX[3*ibg].plot(data2['t'][tcond], data2['Vm_soma'][tcond], color=ge.green, label='chelated-Zinc', lw=1.5)\n",
    "        AX[3*ibg].plot(data['t'][tcond], data['Vm_soma'][tcond], color='k', label='free-Zinc', lw=1.5)\n",
    "        AX[3*ibg].plot([t0,t1], [-75,-75], 'k--', lw=0.5)\n",
    "        \n",
    "        for i, sp0 in enumerate(data['BG_raster']):\n",
    "            sp = np.array(sp0)\n",
    "            cond = (sp>=t0) & (sp<t1)\n",
    "            AX[3*ibg+1].scatter(sp[cond], i*np.ones(len(sp[cond])), color=ge.purple, s=2)\n",
    "        for i, sp0 in enumerate(data['STIM_raster']):\n",
    "            sp = np.array(sp0)\n",
    "            cond = (sp>=t0) & (sp<t1)\n",
    "            AX[3*ibg+1].scatter(sp[cond], i*np.ones(len(sp[cond])), color=ge.orange, s=4)\n",
    "            \n",
    "        ge.annotate(AX[3*ibg+1], '$\\\\nu_{bg}$=%.1fHz' % bg, (0,0), color=ge.purple, rotation=90, ha='right')\n",
    "        ge.set_plot(AX[3*ibg], [], xlim=[t0, t1])#, ylabel='Vm (mV)')\n",
    "        ge.draw_bar_scales(AX[3*ibg], Ybar_label_format=\"%.1fmV\", Xbar_label_format=\"%.0fms\",\n",
    "                           Ybar_fraction=.25, Xbar_fraction=.05, loc=(0.005,.99), orientation='right-bottom')\n",
    "        ge.annotate(AX[3*ibg], ' -75mV', (t1,-75), xycoords='data', va='center')\n",
    "        ge.set_plot(AX[3*ibg+1], [], xlim=[t0, t1])#, ylabel='synapse ID')\n",
    "        ge.set_plot(AX[3*ibg+2], [], xlim=[t0, t1])#, ylabel='synapse ID')\n",
    "        # AX[3*ibg+2].axis('off')\n",
    "\n",
    "    y1 = AX[1].get_ylim()[1]\n",
    "    for istim, nstim in enumerate(args['NSTIMs']):\n",
    "        ge.annotate(AX[1], ' %i syn.' % nstim,\n",
    "                    (args['stim_delay']+istim*args['duration_per_bg_level']*len(args['stimSEEDS']),y1/2),\n",
    "                    xycoords='data', color=ge.orange, va='center', ha='right', rotation=90)\n",
    "        \n"
   ]
  },
  {
   "cell_type": "code",
   "execution_count": null,
   "metadata": {},
   "outputs": [],
   "source": []
  }
 ],
 "metadata": {
  "kernelspec": {
   "display_name": "Python 3",
   "language": "python",
   "name": "python3"
  },
  "language_info": {
   "codemirror_mode": {
    "name": "ipython",
    "version": 3
   },
   "file_extension": ".py",
   "mimetype": "text/x-python",
   "name": "python",
   "nbconvert_exporter": "python",
   "pygments_lexer": "ipython3",
   "version": "3.7.4"
  }
 },
 "nbformat": 4,
 "nbformat_minor": 2
}
